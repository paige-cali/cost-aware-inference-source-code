{
  "nbformat": 4,
  "nbformat_minor": 0,
  "metadata": {
    "colab": {
      "name": "Copy of CS685_HW1.ipynb",
      "provenance": [],
      "collapsed_sections": [
        "SgNZTjrhcHa0"
      ],
      "include_colab_link": true
    },
    "kernelspec": {
      "name": "python3",
      "display_name": "Python 3"
    },
    "accelerator": "GPU"
  },
  "cells": [
    {
      "cell_type": "markdown",
      "metadata": {
        "id": "view-in-github",
        "colab_type": "text"
      },
      "source": [
        "<a href=\"https://colab.research.google.com/github/paige-cali/cost-aware-inference-source-code/blob/master/CS685_HW1.ipynb\" target=\"_parent\"><img src=\"https://colab.research.google.com/assets/colab-badge.svg\" alt=\"Open In Colab\"/></a>"
      ]
    },
    {
      "cell_type": "markdown",
      "metadata": {
        "id": "SgNZTjrhcHa0"
      },
      "source": [
        "## Homework 1, CS685 Fall 2020\n",
        "\n",
        "### This is due on October 28th, 2020, submitted via Gradescope as a PDF (File>Print>Save as PDF). 100 points total.\n",
        "\n",
        "#### IMPORTANT: After copying this notebook to your Google Drive, please paste a link to it below. To get a publicly-accessible link, hit the *Share* button at the top right, then click \"Get shareable link\" and copy over the result. If you fail to do this, you will receive no credit for this homework!\n",
        "***LINK: https://colab.research.google.com/drive/1HrTwteR6r4mreCuYqWhkDxWlsxNKc0sC\n",
        "\n",
        "---\n",
        "\n",
        "##### *How to do this problem set:*\n",
        "\n",
        "- Some questions require writing Python code and computing results, and the rest of them have written answers. For coding problems, you will have to fill out all code blocks that say `YOUR CODE HERE`.\n",
        "\n",
        "- For text-based answers, you should replace the text that says \"Write your answer here...\" with your actual answer.\n",
        " \n",
        "- This assignment is designed such that each cell takes a few minutes (if that) to run. If it is taking longer than that, you might have made a mistake in your code.\n",
        "\n",
        "---\n",
        "\n",
        "##### *How to submit this problem set:*\n",
        "- Write all the answers in this Colab notebook. Once you are finished, generate a PDF via (File -> Print -> Save as PDF) and upload it to Gradescope.\n",
        "  \n",
        "- **Important:** check your PDF before you submit to Gradescope to make sure it exported correctly. If Colab gets confused about your syntax, it will sometimes terminate the PDF creation routine early.\n",
        "\n",
        "- **Important:** on Gradescope, please make sure that you tag each page with the corresponding question(s). This makes it significantly easier for our graders to grade submissions, especially with the long outputs of many of these cells. We will take off points for submissions that are not tagged.\n",
        "\n",
        "- When creating your final version of the PDF to hand in, please do a fresh restart and execute every cell in order. One handy way to do this is by clicking `Runtime -> Run All` in the notebook menu.\n",
        "\n",
        "---\n",
        "\n",
        "##### *Academic honesty*\n",
        "\n",
        "- We will audit the Colab notebooks from a set number of students, chosen at random. The audits will check that the code you wrote actually generates the answers in your PDF. If you turn in correct answers on your PDF without code that actually generates those answers, we will consider this a serious case of cheating. See the course page for honesty policies.\n",
        "\n",
        "- We will also run automatic checks of Colab notebooks for plagiarism. Copying code from others is also considered a serious case of cheating.\n",
        "\n",
        "---"
      ]
    },
    {
      "cell_type": "markdown",
      "metadata": {
        "id": "ouZogO4J-Hia"
      },
      "source": [
        ""
      ]
    },
    {
      "cell_type": "markdown",
      "metadata": {
        "id": "d23zfO_ALKeB"
      },
      "source": [
        "# Part 0: Setup"
      ]
    },
    {
      "cell_type": "markdown",
      "metadata": {
        "id": "N25dvF4jvYoy"
      },
      "source": [
        "## Adding a hardware accelerator\n",
        "The purpose of this homework is to get you acquainted with using large-scale pretrained language models specifically in the context of transfer learning. Since we will be training large neural networks we will attach a GPU, otherwise training will take a very long time.\n",
        "\n",
        "Please go to the menu and add a GPU as follows:\n",
        "\n",
        "`Edit > Notebook Settings > Hardware accelerator > (GPU)`\n",
        "\n",
        "Run the following cell to confirm that the GPU is detected."
      ]
    },
    {
      "cell_type": "code",
      "metadata": {
        "id": "edOh9ooiIW1B",
        "outputId": "98421de9-416f-4997-815e-c534003de8ff",
        "colab": {
          "base_uri": "https://localhost:8080/",
          "height": 34
        }
      },
      "source": [
        "import torch\n",
        "\n",
        "# Confirm that the GPU is detected\n",
        "\n",
        "assert torch.cuda.is_available()\n",
        "\n",
        "# Get the GPU device name.\n",
        "device_name = torch.cuda.get_device_name()\n",
        "n_gpu = torch.cuda.device_count()\n",
        "print(f\"Found device: {device_name}, n_gpu: {n_gpu}\")"
      ],
      "execution_count": 1,
      "outputs": [
        {
          "output_type": "stream",
          "text": [
            "Found device: Tesla T4, n_gpu: 1\n"
          ],
          "name": "stdout"
        }
      ]
    },
    {
      "cell_type": "markdown",
      "metadata": {
        "id": "xrvH7xx9LnMC"
      },
      "source": [
        "## Installing Hugging Face's Transformers library\n",
        "We will use Hugging Face's Transformers (https://github.com/huggingface/transformers), an open-source library that provides general-purpose architectures for natural language understanding and generation with a collection of various pretrained models made by the NLP community. This library will allow us to easily use pretrained models like `BERT` and perform experiments on top of them. We can use these models to solve downstream target tasks, such as text classification, question answering, and sequence labeling.\n",
        "\n",
        "Run the following cell to install Hugging Face's Transformers library, download data and supporting code for the homework, and install some additional packages. Note that you will be asked to link with your Google Drive account to download some of these files. If you're concerned about security risks (there have not been any issues in previous semesters), feel free to make a new Google account and use it for this homework!"
      ]
    },
    {
      "cell_type": "code",
      "metadata": {
        "id": "gtqS2e5fxpqa",
        "outputId": "1beb7752-6cad-43ae-b66a-ad0cf286bcd7",
        "colab": {
          "base_uri": "https://localhost:8080/",
          "height": 1000
        }
      },
      "source": [
        "!pip install transformers\n",
        "!pip install -U -q PyDrive\n",
        "\n",
        "from pydrive.auth import GoogleAuth\n",
        "from pydrive.drive import GoogleDrive\n",
        "from google.colab import auth\n",
        "from oauth2client.client import GoogleCredentials\n",
        "# Authenticate and create the PyDrive client.\n",
        "auth.authenticate_user()\n",
        "gauth = GoogleAuth()\n",
        "gauth.credentials = GoogleCredentials.get_application_default()\n",
        "drive = GoogleDrive(gauth)\n",
        "print('success!')\n",
        "\n",
        "import os\n",
        "import zipfile\n",
        "\n",
        "data_file = drive.CreateFile({'id': '1zeo8FcaNUnhN660mGMNEAPvxOE4DPOnE'})\n",
        "data_file.GetContentFile('hw1.zip')\n",
        "\n",
        "# Extract data from the zipfile and put it into the current directory\n",
        "with zipfile.ZipFile('hw1.zip', 'r') as zip_file:\n",
        "    zip_file.extractall('./')\n",
        "os.remove('hw1.zip')\n",
        "# We will use hw1 as our working directory\n",
        "os.chdir('hw1')\n",
        "print(\"Data and supporting code downloaded!\")\n",
        "\n",
        "pretrained_models_dir = './pretrained_models_dir'\n",
        "if not os.path.isdir(pretrained_models_dir):\n",
        "  os.mkdir(pretrained_models_dir)   # directory to save pretrained models\n",
        "print('model directory created')\n",
        "\n",
        "!pip install -r requirements.txt\n",
        "print('everything set up!')"
      ],
      "execution_count": 3,
      "outputs": [
        {
          "output_type": "stream",
          "text": [
            "4/1AfDhmrh8DB1zhVNuK_E1Pp6I9OLiHpZM04zlm4CCbSRjQzon5pkG6u3yZ7QCollecting transformers\n",
            "\u001b[?25l  Downloading https://files.pythonhosted.org/packages/2c/4e/4f1ede0fd7a36278844a277f8d53c21f88f37f3754abf76a5d6224f76d4a/transformers-3.4.0-py3-none-any.whl (1.3MB)\n",
            "\u001b[K     |████████████████████████████████| 1.3MB 4.6MB/s \n",
            "\u001b[?25hRequirement already satisfied: requests in /usr/local/lib/python3.6/dist-packages (from transformers) (2.23.0)\n",
            "Requirement already satisfied: regex!=2019.12.17 in /usr/local/lib/python3.6/dist-packages (from transformers) (2019.12.20)\n",
            "Collecting tokenizers==0.9.2\n",
            "\u001b[?25l  Downloading https://files.pythonhosted.org/packages/7c/a5/78be1a55b2ac8d6a956f0a211d372726e2b1dd2666bb537fea9b03abd62c/tokenizers-0.9.2-cp36-cp36m-manylinux1_x86_64.whl (2.9MB)\n",
            "\u001b[K     |████████████████████████████████| 2.9MB 13.1MB/s \n",
            "\u001b[?25hRequirement already satisfied: dataclasses; python_version < \"3.7\" in /usr/local/lib/python3.6/dist-packages (from transformers) (0.7)\n",
            "Collecting sacremoses\n",
            "\u001b[?25l  Downloading https://files.pythonhosted.org/packages/7d/34/09d19aff26edcc8eb2a01bed8e98f13a1537005d31e95233fd48216eed10/sacremoses-0.0.43.tar.gz (883kB)\n",
            "\u001b[K     |████████████████████████████████| 890kB 42.4MB/s \n",
            "\u001b[?25hRequirement already satisfied: filelock in /usr/local/lib/python3.6/dist-packages (from transformers) (3.0.12)\n",
            "Collecting sentencepiece!=0.1.92\n",
            "\u001b[?25l  Downloading https://files.pythonhosted.org/packages/e5/2d/6d4ca4bef9a67070fa1cac508606328329152b1df10bdf31fb6e4e727894/sentencepiece-0.1.94-cp36-cp36m-manylinux2014_x86_64.whl (1.1MB)\n",
            "\u001b[K     |████████████████████████████████| 1.1MB 50.4MB/s \n",
            "\u001b[?25hRequirement already satisfied: tqdm>=4.27 in /usr/local/lib/python3.6/dist-packages (from transformers) (4.41.1)\n",
            "Requirement already satisfied: protobuf in /usr/local/lib/python3.6/dist-packages (from transformers) (3.12.4)\n",
            "Requirement already satisfied: numpy in /usr/local/lib/python3.6/dist-packages (from transformers) (1.18.5)\n",
            "Requirement already satisfied: packaging in /usr/local/lib/python3.6/dist-packages (from transformers) (20.4)\n",
            "Requirement already satisfied: certifi>=2017.4.17 in /usr/local/lib/python3.6/dist-packages (from requests->transformers) (2020.6.20)\n",
            "Requirement already satisfied: idna<3,>=2.5 in /usr/local/lib/python3.6/dist-packages (from requests->transformers) (2.10)\n",
            "Requirement already satisfied: chardet<4,>=3.0.2 in /usr/local/lib/python3.6/dist-packages (from requests->transformers) (3.0.4)\n",
            "Requirement already satisfied: urllib3!=1.25.0,!=1.25.1,<1.26,>=1.21.1 in /usr/local/lib/python3.6/dist-packages (from requests->transformers) (1.24.3)\n",
            "Requirement already satisfied: six in /usr/local/lib/python3.6/dist-packages (from sacremoses->transformers) (1.15.0)\n",
            "Requirement already satisfied: click in /usr/local/lib/python3.6/dist-packages (from sacremoses->transformers) (7.1.2)\n",
            "Requirement already satisfied: joblib in /usr/local/lib/python3.6/dist-packages (from sacremoses->transformers) (0.17.0)\n",
            "Requirement already satisfied: setuptools in /usr/local/lib/python3.6/dist-packages (from protobuf->transformers) (50.3.2)\n",
            "Requirement already satisfied: pyparsing>=2.0.2 in /usr/local/lib/python3.6/dist-packages (from packaging->transformers) (2.4.7)\n",
            "Building wheels for collected packages: sacremoses\n",
            "  Building wheel for sacremoses (setup.py) ... \u001b[?25l\u001b[?25hdone\n",
            "  Created wheel for sacremoses: filename=sacremoses-0.0.43-cp36-none-any.whl size=893257 sha256=67c2c54160bb94b885e2b068cba85b7f6ebc09e72dcbb1bc495f544cbd181c9d\n",
            "  Stored in directory: /root/.cache/pip/wheels/29/3c/fd/7ce5c3f0666dab31a50123635e6fb5e19ceb42ce38d4e58f45\n",
            "Successfully built sacremoses\n",
            "Installing collected packages: tokenizers, sacremoses, sentencepiece, transformers\n",
            "Successfully installed sacremoses-0.0.43 sentencepiece-0.1.94 tokenizers-0.9.2 transformers-3.4.0\n",
            "success!\n",
            "Data and supporting code downloaded!\n",
            "model directory created\n",
            "Collecting seqeval\n",
            "\u001b[?25l  Downloading https://files.pythonhosted.org/packages/9d/2d/233c79d5b4e5ab1dbf111242299153f3caddddbb691219f363ad55ce783d/seqeval-1.2.2.tar.gz (43kB)\n",
            "\u001b[K     |████████████████████████████████| 51kB 2.5MB/s \n",
            "\u001b[?25hCollecting conllu\n",
            "  Downloading https://files.pythonhosted.org/packages/1c/20/39bf21e3a0304c874c40c9cec96e3f70d2ef4b1ada3585f7dbee91dc8c05/conllu-4.2.1-py2.py3-none-any.whl\n",
            "Collecting googletrans\n",
            "  Downloading https://files.pythonhosted.org/packages/71/3a/3b19effdd4c03958b90f40fe01c93de6d5280e03843cc5adf6956bfc9512/googletrans-3.0.0.tar.gz\n",
            "Collecting langdetect\n",
            "\u001b[?25l  Downloading https://files.pythonhosted.org/packages/56/a3/8407c1e62d5980188b4acc45ef3d94b933d14a2ebc9ef3505f22cf772570/langdetect-1.0.8.tar.gz (981kB)\n",
            "\u001b[K     |████████████████████████████████| 983kB 5.8MB/s \n",
            "\u001b[?25hRequirement already satisfied: numpy>=1.14.0 in /usr/local/lib/python3.6/dist-packages (from seqeval->-r requirements.txt (line 1)) (1.18.5)\n",
            "Requirement already satisfied: scikit-learn>=0.21.3 in /usr/local/lib/python3.6/dist-packages (from seqeval->-r requirements.txt (line 1)) (0.22.2.post1)\n",
            "Collecting httpx==0.13.3\n",
            "\u001b[?25l  Downloading https://files.pythonhosted.org/packages/54/b4/698b284c6aed4d7c2b4fe3ba5df1fcf6093612423797e76fbb24890dd22f/httpx-0.13.3-py3-none-any.whl (55kB)\n",
            "\u001b[K     |████████████████████████████████| 61kB 8.1MB/s \n",
            "\u001b[?25hRequirement already satisfied: six in /usr/local/lib/python3.6/dist-packages (from langdetect->-r requirements.txt (line 4)) (1.15.0)\n",
            "Requirement already satisfied: joblib>=0.11 in /usr/local/lib/python3.6/dist-packages (from scikit-learn>=0.21.3->seqeval->-r requirements.txt (line 1)) (0.17.0)\n",
            "Requirement already satisfied: scipy>=0.17.0 in /usr/local/lib/python3.6/dist-packages (from scikit-learn>=0.21.3->seqeval->-r requirements.txt (line 1)) (1.4.1)\n",
            "Collecting rfc3986<2,>=1.3\n",
            "  Downloading https://files.pythonhosted.org/packages/78/be/7b8b99fd74ff5684225f50dd0e865393d2265656ef3b4ba9eaaaffe622b8/rfc3986-1.4.0-py2.py3-none-any.whl\n",
            "Collecting httpcore==0.9.*\n",
            "\u001b[?25l  Downloading https://files.pythonhosted.org/packages/dd/d5/e4ff9318693ac6101a2095e580908b591838c6f33df8d3ee8dd953ba96a8/httpcore-0.9.1-py3-none-any.whl (42kB)\n",
            "\u001b[K     |████████████████████████████████| 51kB 7.9MB/s \n",
            "\u001b[?25hRequirement already satisfied: idna==2.* in /usr/local/lib/python3.6/dist-packages (from httpx==0.13.3->googletrans->-r requirements.txt (line 3)) (2.10)\n",
            "Collecting sniffio\n",
            "  Downloading https://files.pythonhosted.org/packages/52/b0/7b2e028b63d092804b6794595871f936aafa5e9322dcaaad50ebf67445b3/sniffio-1.2.0-py3-none-any.whl\n",
            "Requirement already satisfied: chardet==3.* in /usr/local/lib/python3.6/dist-packages (from httpx==0.13.3->googletrans->-r requirements.txt (line 3)) (3.0.4)\n",
            "Collecting hstspreload\n",
            "\u001b[?25l  Downloading https://files.pythonhosted.org/packages/fe/f4/a290dfbc9cfebf7957c63e8caca5b80caddfd1d7721821a3e8b40a399923/hstspreload-2020.10.20-py3-none-any.whl (972kB)\n",
            "\u001b[K     |████████████████████████████████| 972kB 9.6MB/s \n",
            "\u001b[?25hRequirement already satisfied: certifi in /usr/local/lib/python3.6/dist-packages (from httpx==0.13.3->googletrans->-r requirements.txt (line 3)) (2020.6.20)\n",
            "Collecting h2==3.*\n",
            "\u001b[?25l  Downloading https://files.pythonhosted.org/packages/25/de/da019bcc539eeab02f6d45836f23858ac467f584bfec7a526ef200242afe/h2-3.2.0-py2.py3-none-any.whl (65kB)\n",
            "\u001b[K     |████████████████████████████████| 71kB 9.1MB/s \n",
            "\u001b[?25hCollecting h11<0.10,>=0.8\n",
            "\u001b[?25l  Downloading https://files.pythonhosted.org/packages/5a/fd/3dad730b0f95e78aeeb742f96fa7bbecbdd56a58e405d3da440d5bfb90c6/h11-0.9.0-py2.py3-none-any.whl (53kB)\n",
            "\u001b[K     |████████████████████████████████| 61kB 9.5MB/s \n",
            "\u001b[?25hCollecting contextvars>=2.1; python_version < \"3.7\"\n",
            "  Downloading https://files.pythonhosted.org/packages/83/96/55b82d9f13763be9d672622e1b8106c85acb83edd7cc2fa5bc67cd9877e9/contextvars-2.4.tar.gz\n",
            "Collecting hpack<4,>=3.0\n",
            "  Downloading https://files.pythonhosted.org/packages/8a/cc/e53517f4a1e13f74776ca93271caef378dadec14d71c61c949d759d3db69/hpack-3.0.0-py2.py3-none-any.whl\n",
            "Collecting hyperframe<6,>=5.2.0\n",
            "  Downloading https://files.pythonhosted.org/packages/19/0c/bf88182bcb5dce3094e2f3e4fe20db28a9928cb7bd5b08024030e4b140db/hyperframe-5.2.0-py2.py3-none-any.whl\n",
            "Collecting immutables>=0.9\n",
            "\u001b[?25l  Downloading https://files.pythonhosted.org/packages/99/e0/ea6fd4697120327d26773b5a84853f897a68e33d3f9376b00a8ff96e4f63/immutables-0.14-cp36-cp36m-manylinux1_x86_64.whl (98kB)\n",
            "\u001b[K     |████████████████████████████████| 102kB 11.8MB/s \n",
            "\u001b[?25hBuilding wheels for collected packages: seqeval, googletrans, langdetect, contextvars\n",
            "  Building wheel for seqeval (setup.py) ... \u001b[?25l\u001b[?25hdone\n",
            "  Created wheel for seqeval: filename=seqeval-1.2.2-cp36-none-any.whl size=16171 sha256=9cd4d78e6e163f3a9c7fda1da5f3362a4356d52ab2a24479e7e9fb423156efc3\n",
            "  Stored in directory: /root/.cache/pip/wheels/52/df/1b/45d75646c37428f7e626214704a0e35bd3cfc32eda37e59e5f\n",
            "  Building wheel for googletrans (setup.py) ... \u001b[?25l\u001b[?25hdone\n",
            "  Created wheel for googletrans: filename=googletrans-3.0.0-cp36-none-any.whl size=15736 sha256=7431e840638a419a7cdfc60d99249ea516c8f1e2eccca16682cc21d2246b710a\n",
            "  Stored in directory: /root/.cache/pip/wheels/28/1a/a7/eaf4d7a3417a0c65796c547cff4deb6d79c7d14c2abd29273e\n",
            "  Building wheel for langdetect (setup.py) ... \u001b[?25l\u001b[?25hdone\n",
            "  Created wheel for langdetect: filename=langdetect-1.0.8-cp36-none-any.whl size=993195 sha256=70deac2f6b0abf2fd1069ee58226fc98e74ec81466445f67006923ab4f0e3014\n",
            "  Stored in directory: /root/.cache/pip/wheels/8d/b3/aa/6d99de9f3841d7d3d40a60ea06e6d669e8e5012e6c8b947a57\n",
            "  Building wheel for contextvars (setup.py) ... \u001b[?25l\u001b[?25hdone\n",
            "  Created wheel for contextvars: filename=contextvars-2.4-cp36-none-any.whl size=7666 sha256=5d0fb8d8ba0ce8e91e09c63dc629d71de94132ca1bd96ebd0ec5ad2d6f298e90\n",
            "  Stored in directory: /root/.cache/pip/wheels/a5/7d/68/1ebae2668bda2228686e3c1cf16f2c2384cea6e9334ad5f6de\n",
            "Successfully built seqeval googletrans langdetect contextvars\n",
            "Installing collected packages: seqeval, conllu, rfc3986, immutables, contextvars, sniffio, hpack, hyperframe, h2, h11, httpcore, hstspreload, httpx, googletrans, langdetect\n",
            "Successfully installed conllu-4.2.1 contextvars-2.4 googletrans-3.0.0 h11-0.9.0 h2-3.2.0 hpack-3.0.0 hstspreload-2020.10.20 httpcore-0.9.1 httpx-0.13.3 hyperframe-5.2.0 immutables-0.14 langdetect-1.0.8 rfc3986-1.4.0 seqeval-1.2.2 sniffio-1.2.0\n",
            "everything set up!\n"
          ],
          "name": "stdout"
        }
      ]
    },
    {
      "cell_type": "markdown",
      "metadata": {
        "id": "M1P3h3MWpvlQ"
      },
      "source": [
        "# Part 1. Masked Language Modeling (15 points)\n",
        "\n",
        "In this part, we will use large-scale pretrained language models (e.g., `BERT, XLNet, T5`) for different applications, including masked word completion, text generation, machine translation, and finally for solving downstream target tasks across several classes of problems, i.e., text classification, question answering, and sequence labeling. Let's begin!"
      ]
    },
    {
      "cell_type": "markdown",
      "metadata": {
        "id": "9FuXH0tOL4pX"
      },
      "source": [
        "We'll use `BERT` [(Devlin et al., 2019)](https://arxiv.org/pdf/1810.04805.pdf) for the task of masked word completion: given an input sentence with some words masked out, predict the masked word(s) based on its context. Run the following cell to download the pretrained `BERT` base model (cased) and tell PyTorch to use the GPU to run it."
      ]
    },
    {
      "cell_type": "code",
      "metadata": {
        "id": "t1eTyp3EP_JS",
        "outputId": "7a1d20d5-d538-4b4d-980a-e2d77fde79e1",
        "colab": {
          "base_uri": "https://localhost:8080/",
          "height": 105
        }
      },
      "source": [
        "from transformers import AutoTokenizer, AutoModelForMaskedLM\n",
        "\n",
        "model_name_or_path = \"bert-base-cased\"\n",
        "cache_dir = os.path.join(pretrained_models_dir, model_name_or_path)\n",
        "tokenizer = AutoTokenizer.from_pretrained(model_name_or_path, cache_dir=cache_dir)\n",
        "model = AutoModelForMaskedLM.from_pretrained(model_name_or_path, cache_dir=cache_dir)\n",
        "device = torch.device(\"cuda\" if torch.cuda.is_available() else \"cpu\")\n",
        "model = model.to(device)\n",
        "print('success!')"
      ],
      "execution_count": 72,
      "outputs": [
        {
          "output_type": "stream",
          "text": [
            "Some weights of the model checkpoint at bert-base-cased were not used when initializing BertForMaskedLM: ['cls.seq_relationship.weight', 'cls.seq_relationship.bias']\n",
            "- This IS expected if you are initializing BertForMaskedLM from the checkpoint of a model trained on another task or with another architecture (e.g. initializing a BertForSequenceClassification model from a BertForPretraining model).\n",
            "- This IS NOT expected if you are initializing BertForMaskedLM from the checkpoint of a model that you expect to be exactly identical (initializing a BertForSequenceClassification model from a BertForSequenceClassification model).\n"
          ],
          "name": "stderr"
        },
        {
          "output_type": "stream",
          "text": [
            "success!\n"
          ],
          "name": "stdout"
        }
      ]
    },
    {
      "cell_type": "markdown",
      "metadata": {
        "id": "YLNhM3jFdt8C"
      },
      "source": [
        "### Question 1.1 (5 points)\n",
        "The below cell passes a single sentence with a [MASK] token into BERT, and returns the logits (i.e., the unnormalized probabilities) of the token prediction at each position of this sequence. Write some code in this cell that prints out the five most probable words for the masked position from the `token_logits` variable. If you did it right, you'll notice that these words mostly will make sense in the given context. \n",
        "\n",
        "*Hints*\n",
        "\n",
        "*   Use `torch.where` to find the index of a masked token within the input tensor (note that `tokenizer.mask_token_id` gives us the index of the mask token in the vocabulary).\n",
        "*   Use `torch.topk` to get the `k` largest elements of a given tensor along a given dimension.\n",
        "*   Use `tokenizer.decode([token_id])` to convert a single integer `token_id` to a token string.\n",
        "\n"
      ]
    },
    {
      "cell_type": "code",
      "metadata": {
        "id": "kdrIl949h5oq",
        "outputId": "14de7d88-58e9-4f6e-c54a-609edf8ff917",
        "colab": {
          "base_uri": "https://localhost:8080/",
          "height": 34
        }
      },
      "source": [
        "sentence = f\"\"\"We know it’s hard, but the most effective way to get back to the \n",
        "normal sooner is to wear a {tokenizer.mask_token} over your nose \n",
        "and under your chin in public spaces (indoors and outdoors).\"\"\"\n",
        "\n",
        "# Encode the input sentence and get the model's output\n",
        "input = tokenizer.encode(sentence, return_tensors=\"pt\").to(device)\n",
        "# The model outputs the masked language modeling logits of shape \n",
        "# [batch_size, sequence_length, vocab_size] \n",
        "token_logits = model(input)[0]  \n",
        "\n",
        "# YOUR CODE HERE!\n",
        "\n",
        "m = (input[0] == tokenizer.mask_token_id).nonzero().item()\n",
        "#m = torch.where(input[0]==tokenizer.mask_token_id)\n",
        "# predicted_idx = torch.argmax(token_logits[0, m]).item()\n",
        "#print (predicted_idx)\n",
        "\n",
        "\n",
        "#Softmax probabilities for the masked words \n",
        "probabilities = token_logits[0, m].softmax(dim=0)\n",
        "# print (probabilities)\n",
        "\n",
        "\n",
        "#Take top 5 probabilities from the distribution\n",
        "val, top_pred = probabilities.topk(5, sorted=True)\n",
        "\n",
        "\n",
        "#decode to get words back\n",
        "top_results = tokenizer.decode(top_pred).split()\n",
        "print (\"These are the top 5 predictions for the masked word: \", top_results)\n",
        "\n",
        "\n",
        "\n",
        "#Questions for me: do I need to sort? are they already sorted?\n",
        "\n",
        "\n"
      ],
      "execution_count": 73,
      "outputs": [
        {
          "output_type": "stream",
          "text": [
            "These are the top 5 predictions for the masked word:  ['mask', 'hat', 'scarf', 'cap', 'handkerchief']\n"
          ],
          "name": "stdout"
        }
      ]
    },
    {
      "cell_type": "markdown",
      "metadata": {
        "id": "gpa7yclEt53o"
      },
      "source": [
        "### Question 1.2 (5 points)\n",
        "The below cell contains the same context as before but with an increasing number of contiguous [MASK] tokens (run the cell to print out each context).  For each input, replace each [MASK] token with the most probable token (i.e., the argmax of the probability distribution) as predicted by BERT, and then print out the resulting unmasked string. To be clear, your output should be six strings without any [MASK] tokens.\n"
      ]
    },
    {
      "cell_type": "code",
      "metadata": {
        "id": "SDqYz6-YycEe",
        "outputId": "7a4f62f0-fdd3-4d75-db13-f9588d9c8d75",
        "colab": {
          "base_uri": "https://localhost:8080/",
          "height": 139
        }
      },
      "source": [
        "sentence = f\"\"\"We know it’s hard, but the most effective way to get back to the \n",
        "    normal sooner is to wear a {tokenizer.mask_token} over your nose \n",
        "    and under your chin in public spaces (indoors and outdoors).\"\"\"\n",
        "logit_list = []\n",
        "for idx in range(1,7):   #why is the range here 1-7?\n",
        "    x = sentence.split()\n",
        "    for mask_idx in range(idx):\n",
        "        x[20+mask_idx] = tokenizer.mask_token\n",
        "        #print (x[20+mask_idx])  #masking out more words in the sentence in a row\n",
        "    x = ' '.join(x)\n",
        "    #print('input %d: %s' %(idx, x))\n",
        "    input = tokenizer.encode(x, return_tensors=\"pt\").to(device) #input is sentences with words masked out \n",
        "    token_logits = model(input)[0]  \n",
        "    logit_list.append((input, token_logits))\n",
        "\n",
        "# YOUR CODE HERE!\n",
        "\n",
        "#logit list has input and token_logits \n",
        "# # this gives me 6 tensors, one for each of the sentences \n",
        "for i in logit_list:\n",
        "  m = torch.where(i[0] == tokenizer.mask_token_id)[1]   #gives the tensors at the indices of the masked token\n",
        "  # print (m)\n",
        "\n",
        "  tokens = tokenizer.tokenize(sentence)\n",
        "\n",
        "  for j in m: #iterate over the different masked indices for each sentence variation\n",
        "    #print (j.item())\n",
        "\n",
        "\n",
        "    # predicted_idx = torch.argmax(token_logits[0, j]).item()\n",
        "    # print (predicted_idx)\n",
        "\n",
        "    probabilities = token_logits[0, j].softmax(dim=0)\n",
        "\n",
        "    val, top_pred = probabilities.topk(1)\n",
        "\n",
        "\n",
        "  #   #decode to get words back\n",
        "    top_result = tokenizer.decode(top_pred).split()\n",
        "    #print (\"This is the top prediction for the masked word: \", top_result)\n",
        "\n",
        "    \n",
        "\n",
        "\n",
        "    tokens[j-1] = top_result\n",
        "\n",
        "  print (tokens)\n",
        "#what to do- replace each mask token with the most probable word - argmax of the probability distribution\n",
        "#output should be - 6 strings without any mask tokens\n",
        "\n",
        "\n",
        "#need to write some code to add back to the original sentence\n",
        "\n",
        "\n"
      ],
      "execution_count": 7,
      "outputs": [
        {
          "output_type": "stream",
          "text": [
            "['We', 'know', 'it', '’', 's', 'hard', ',', 'but', 'the', 'most', 'effective', 'way', 'to', 'get', 'back', 'to', 'the', 'normal', 'sooner', 'is', 'to', 'wear', 'a', ['black'], 'over', 'your', 'nose', 'and', 'under', 'your', 'chin', 'in', 'public', 'spaces', '(', 'indoor', '##s', 'and', 'outdoors', ')', '.']\n",
            "['We', 'know', 'it', '’', 's', 'hard', ',', 'but', 'the', 'most', 'effective', 'way', 'to', 'get', 'back', 'to', 'the', 'normal', 'sooner', 'is', 'to', 'wear', 'a', ['black'], ['shirt'], 'your', 'nose', 'and', 'under', 'your', 'chin', 'in', 'public', 'spaces', '(', 'indoor', '##s', 'and', 'outdoors', ')', '.']\n",
            "['We', 'know', 'it', '’', 's', 'hard', ',', 'but', 'the', 'most', 'effective', 'way', 'to', 'get', 'back', 'to', 'the', 'normal', 'sooner', 'is', 'to', 'wear', 'a', ['black'], ['shirt'], ['that'], 'nose', 'and', 'under', 'your', 'chin', 'in', 'public', 'spaces', '(', 'indoor', '##s', 'and', 'outdoors', ')', '.']\n",
            "['We', 'know', 'it', '’', 's', 'hard', ',', 'but', 'the', 'most', 'effective', 'way', 'to', 'get', 'back', 'to', 'the', 'normal', 'sooner', 'is', 'to', 'wear', 'a', ['black'], ['shirt'], ['that'], ['and'], 'and', 'under', 'your', 'chin', 'in', 'public', 'spaces', '(', 'indoor', '##s', 'and', 'outdoors', ')', '.']\n",
            "['We', 'know', 'it', '’', 's', 'hard', ',', 'but', 'the', 'most', 'effective', 'way', 'to', 'get', 'back', 'to', 'the', 'normal', 'sooner', 'is', 'to', 'wear', 'a', ['black'], ['shirt'], ['that'], ['and'], ['and'], 'under', 'your', 'chin', 'in', 'public', 'spaces', '(', 'indoor', '##s', 'and', 'outdoors', ')', '.']\n",
            "['We', 'know', 'it', '’', 's', 'hard', ',', 'but', 'the', 'most', 'effective', 'way', 'to', 'get', 'back', 'to', 'the', 'normal', 'sooner', 'is', 'to', 'wear', 'a', ['black'], ['shirt'], ['that'], ['and'], ['and'], ['on'], 'your', 'chin', 'in', 'public', 'spaces', '(', 'indoor', '##s', 'and', 'outdoors', ')', '.']\n"
          ],
          "name": "stdout"
        }
      ]
    },
    {
      "cell_type": "markdown",
      "metadata": {
        "id": "H238JUcpyfNR"
      },
      "source": [
        "### Question 1.3 (5 points)\n",
        "What do you notice about your outputs as the size of the masked span increases? Explain why this is happening.\n"
      ]
    },
    {
      "cell_type": "markdown",
      "metadata": {
        "id": "K8m7IQArywPL"
      },
      "source": [
        "***WRITE YOUR ANSWER HERE IN A FEW SENTENCES***\n",
        "\n",
        "As the masked span increased, the predictions are becoming worse. The model is producing non-sensical strings."
      ]
    },
    {
      "cell_type": "markdown",
      "metadata": {
        "id": "ez253CdmAMd7"
      },
      "source": [
        "# Part 2: Transfer learning with BERT (35 points)\n",
        "\n",
        "With the advent of methods such as `BERT` [(Devlin et al., 2019)](https://arxiv.org/pdf/1810.04805.pdf), the dominant paradigm for developing NLP models has shifted to transfer learning: first, pretrain a large language model on large amounts of unlabeled data, and then fine-tune the resulting model on the downstream target task. In this section, we will use `BERT` to solve downstream target tasks across several classes of problems, including classification, question answering, and sequence labeling.\n",
        "\n",
        "Run the cell below to import necessary packages and set some things up for fine-tuning `BERT`."
      ]
    },
    {
      "cell_type": "code",
      "metadata": {
        "id": "7kDEdMvq9tCr",
        "outputId": "cfc04410-6b1d-4551-9f37-300b8f3d5714",
        "colab": {
          "base_uri": "https://localhost:8080/",
          "height": 34
        }
      },
      "source": [
        "# coding=utf-8\n",
        "\n",
        "import dataclasses\n",
        "import logging\n",
        "import math\n",
        "import os\n",
        "import timeit\n",
        "from dataclasses import dataclass, field\n",
        "from typing import Callable, Dict, List, Tuple, Optional\n",
        "\n",
        "import numpy as np\n",
        "from seqeval.metrics import accuracy_score, f1_score, precision_score, recall_score\n",
        "import torch\n",
        "from torch.utils.data import DataLoader, SequentialSampler\n",
        "from tqdm import tqdm\n",
        "\n",
        "from transformers import (\n",
        "    AutoConfig,\n",
        "    AutoModelWithLMHead,\n",
        "    AutoModelForSequenceClassification,\n",
        "    AutoModelForQuestionAnswering,\n",
        "    AutoModelForTokenClassification,\n",
        "    AutoTokenizer,\n",
        "    PreTrainedTokenizer,\n",
        "    EvalPrediction\n",
        ")\n",
        "from transformers import (\n",
        "    GlueDataset,\n",
        "    SquadDataset,\n",
        "    LineByLineTextDataset,\n",
        "    TextDataset,\n",
        "    DataCollatorForLanguageModeling,\n",
        ")\n",
        "from transformers import GlueDataTrainingArguments, SquadDataTrainingArguments\n",
        "from transformers import (\n",
        "    Trainer,\n",
        "    TrainingArguments,\n",
        "    glue_compute_metrics,\n",
        "    glue_output_modes,\n",
        "    glue_tasks_num_labels,\n",
        "    set_seed,\n",
        ")\n",
        "from transformers.data.processors.squad import SquadResult\n",
        "from transformers.data.metrics.squad_metrics import (\n",
        "    compute_predictions_logits,\n",
        "    squad_evaluate,\n",
        ")\n",
        "from tasks import NER\n",
        "from utils_ner import Split, TokenClassificationDataset, TokenClassificationTask\n",
        "\n",
        "from transformers import glue_processors\n",
        "from transformers.data.processors.utils import InputExample\n",
        "from langdetect import detect\n",
        "\n",
        "logger = logging.getLogger(__name__)\n",
        "\n",
        "\n",
        "@dataclass\n",
        "class ModelArguments:\n",
        "    \"\"\"\n",
        "    Arguments pertaining to which model/config/tokenizer we are going to fine-tune from.\n",
        "    \"\"\"\n",
        "    model_type: str = field(\n",
        "        default=\"bert\",\n",
        "        metadata={\"help\": \"Model type, e.g., bert.\"}\n",
        "    )\n",
        "    model_name_or_path: str = field(\n",
        "        default=\"bert\",\n",
        "        metadata={\"help\": \"Path to pretrained model or model identifier from huggingface.co/models.\"}\n",
        "    )\n",
        "    do_lower_case: Optional[bool] = field(\n",
        "        default=False,\n",
        "        metadata={\"help\": \"Whether you want to do lower case on input before tokenization.\"}\n",
        "    )\n",
        "    model_cache_dir: Optional[str] = field(\n",
        "        default=None,\n",
        "        metadata={\"help\": \"Where you want to store the pretrained models downloaded from s3.\"}\n",
        "    )\n",
        "    data_cache_dir: Optional[str] = field(\n",
        "        default=None,\n",
        "        metadata={\"help\": \"Where you want to store the cached features for the task.\"}\n",
        "    )\n",
        "\n",
        "\n",
        "@dataclass\n",
        "class NerDataTrainingArguments:\n",
        "    \"\"\"\n",
        "    Arguments pertaining to what data we are going to input our model for training and eval.\n",
        "    \"\"\"\n",
        "\n",
        "    data_dir: str = field(\n",
        "        metadata={\"help\": \"The input data dir. Should contain data files for the task.\"}\n",
        "    )\n",
        "    labels: Optional[str] = field(\n",
        "        default=None,\n",
        "        metadata={\"help\": \"Path to a file containing all labels for the task.\"},\n",
        "    )\n",
        "    max_seq_length: int = field(\n",
        "        default=128,\n",
        "        metadata={\n",
        "            \"help\": \"The maximum total input sequence length after tokenization. Sequences longer \"\n",
        "            \"than this will be truncated, sequences shorter will be padded.\"\n",
        "        },\n",
        "    )\n",
        "    overwrite_cache: bool = field(\n",
        "        default=False, metadata={\"help\": \"Overwrite the cached training and evaluation sets.\"}\n",
        "    )\n",
        "\n",
        "\n",
        "@dataclass\n",
        "class LMDataTrainingArguments:\n",
        "    \"\"\"\n",
        "    Arguments pertaining to what data we are going to input our model for training and eval.\n",
        "    \"\"\"\n",
        "\n",
        "    train_data_file: Optional[str] = field(\n",
        "        default=None, metadata={\"help\": \"The input training data file (a text file).\"}\n",
        "    )\n",
        "    eval_data_file: Optional[str] = field(\n",
        "        default=None,\n",
        "        metadata={\"help\": \"An optional input evaluation data file to evaluate the perplexity on (a text file).\"},\n",
        "    )\n",
        "    line_by_line: bool = field(\n",
        "        default=False,\n",
        "        metadata={\"help\": \"Whether distinct lines of text in the dataset are to be handled as distinct sequences.\"},\n",
        "    )\n",
        "\n",
        "    mlm: bool = field(\n",
        "        default=False, metadata={\"help\": \"Train with masked-language modeling loss instead of language modeling.\"}\n",
        "    )\n",
        "    mlm_probability: float = field(\n",
        "        default=0.15, metadata={\"help\": \"Ratio of tokens to mask for masked language modeling loss\"}\n",
        "    )\n",
        "    block_size: int = field(\n",
        "        default=-1,\n",
        "        metadata={\n",
        "            \"help\": \"Optional input sequence length after tokenization.\"\n",
        "            \"The training dataset will be truncated in block of this size for training.\"\n",
        "            \"Default to the model max input length for single sentence inputs (take into account special tokens).\"\n",
        "        },\n",
        "    )\n",
        "    overwrite_cache: bool = field(\n",
        "        default=False, metadata={\"help\": \"Overwrite the cached training and evaluation sets\"}\n",
        "    )\n",
        "\n",
        "\n",
        "def get_dataset(\n",
        "    args: LMDataTrainingArguments,\n",
        "    tokenizer: PreTrainedTokenizer,\n",
        "    evaluate: bool = False,\n",
        "    cache_dir: Optional[str] = None,\n",
        "):\n",
        "    file_path = args.eval_data_file if evaluate else args.train_data_file\n",
        "    if args.line_by_line:\n",
        "        return LineByLineTextDataset(tokenizer=tokenizer, file_path=file_path, block_size=args.block_size)\n",
        "    else:\n",
        "        return TextDataset(\n",
        "            tokenizer=tokenizer,\n",
        "            file_path=file_path,\n",
        "            block_size=args.block_size,\n",
        "            overwrite_cache=args.overwrite_cache,\n",
        "            cache_dir=cache_dir,\n",
        "        )\n",
        "\n",
        "\n",
        "DATA_TRAINING_ARGUMENTS = {\n",
        "    \"text_classification\": GlueDataTrainingArguments,\n",
        "    \"question_answering\": SquadDataTrainingArguments,\n",
        "    \"sequence_labeling\": NerDataTrainingArguments,\n",
        "}\n",
        "\n",
        "\n",
        "AUTO_MODEL = {\n",
        "    \"text_classification\": AutoModelForSequenceClassification,\n",
        "    \"question_answering\": AutoModelForQuestionAnswering,\n",
        "    \"sequence_labeling\": AutoModelForTokenClassification,\n",
        "}\n",
        "\n",
        "\n",
        "DATASET = {\n",
        "    \"text_classification\": GlueDataset,\n",
        "    \"question_answering\": SquadDataset,\n",
        "    \"sequence_labeling\": TokenClassificationDataset,\n",
        "}\n",
        "\n",
        "\n",
        "# some functions for fine-tuning BERT on a downstream target task\n",
        "def do_target_task_finetuning(model_name_or_path, task_type, output_dir, **kwargs):\n",
        "    r\"\"\" Fine-tuning BERT on a downstream target task.\n",
        "    Params:\n",
        "        **model_name_or_path**: either:\n",
        "            - a string with the `shortcut name` of a pre-trained model configuration to load from cache\n",
        "                or download and cache if not already stored in cache (e.g. 'bert-base-uncased').\n",
        "            - a path to a `directory` containing a configuration file saved\n",
        "                using the `save_pretrained(save_directory)` method.\n",
        "            - a path or url to a saved configuration `file`.\n",
        "        **task_type**: string:\n",
        "            The class of the task to train, selected in\n",
        "            [\"text_classification\", \"question_answering\", \"sequence_labeling\"].\n",
        "        **output_dir**: string:\n",
        "            The output directory where the model predictions and checkpoints will be written.\n",
        "        **kwargs**: (`optional`) dict:\n",
        "            Dictionary of key/value pairs with which to update the configuration object after loading.\n",
        "            - The values in kwargs of any keys which are configuration attributes will be used\n",
        "            to override the loaded values.\n",
        "    \"\"\"\n",
        "    # See all possible arguments in src/transformers/training_args.py\n",
        "\n",
        "    assert task_type in DATA_TRAINING_ARGUMENTS\n",
        "    model_args = ModelArguments(model_name_or_path=model_name_or_path)\n",
        "    data_args_params = {}\n",
        "    for param in [\"task_name\", \"data_dir\"]:\n",
        "        if param in kwargs:\n",
        "            data_args_params.update({param: kwargs[param]})\n",
        "\n",
        "    data_args = DATA_TRAINING_ARGUMENTS[task_type](**data_args_params)\n",
        "    training_args = TrainingArguments(output_dir=output_dir)\n",
        "\n",
        "    # override the loaded configs\n",
        "    configs = (model_args, data_args, training_args)\n",
        "    for config in configs:\n",
        "        for key, value in kwargs.items():\n",
        "            if hasattr(config, key):\n",
        "                setattr(config, key, value)\n",
        "\n",
        "    if (\n",
        "        os.path.exists(training_args.output_dir)\n",
        "        and os.listdir(training_args.output_dir)\n",
        "        and training_args.do_train\n",
        "        and not training_args.overwrite_output_dir\n",
        "    ):\n",
        "        raise ValueError(\n",
        "            f\"Output directory ({training_args.output_dir}) already exists and is not empty. \"\n",
        "            f\"Use --overwrite_output_dir to overcome.\"\n",
        "        )\n",
        "\n",
        "    for p in [model_args.model_cache_dir, model_args.data_cache_dir, training_args.output_dir]:\n",
        "        if not os.path.exists(p):\n",
        "            os.makedirs(p)\n",
        "\n",
        "    # Setup logging\n",
        "    logging.basicConfig(\n",
        "        format=\"%(asctime)s - %(levelname)s - %(name)s -   %(message)s\",\n",
        "        datefmt=\"%m/%d/%Y %H:%M:%S\",\n",
        "        level=logging.INFO,\n",
        "    )\n",
        "\n",
        "    logger.info(\"Process device: %s, n_gpu: %s\", training_args.device, training_args.n_gpu)\n",
        "    logger.info(\"Training/evaluation parameters %s\", training_args)\n",
        "\n",
        "\n",
        "    # Set seed\n",
        "    set_seed(training_args.seed)\n",
        "\n",
        "    if task_type == \"text_classification\":\n",
        "        try:\n",
        "            data_args.task_name = data_args.task_name.lower()\n",
        "            num_labels = glue_tasks_num_labels[data_args.task_name]\n",
        "            output_mode = glue_output_modes[data_args.task_name]\n",
        "        except KeyError:\n",
        "            raise ValueError(\"Task not found: %s\" % (data_args.task_name))\n",
        "    elif task_type == \"sequence_labeling\":\n",
        "        token_classification_task = NER() # You might want to this to Chunk() or POS()\n",
        "        # if you are working with a Chunk or POS task, respectively\n",
        "        labels = token_classification_task.get_labels(data_args.labels)\n",
        "        label_map: Dict[int, str] = {i: label for i, label in enumerate(labels)}\n",
        "        num_labels = len(labels)\n",
        "\n",
        "    # Load pretrained model and tokenizer\n",
        "\n",
        "    AutoModel = AUTO_MODEL[task_type]\n",
        "    auto_config_params = {\n",
        "        'pretrained_model_name_or_path': model_args.model_name_or_path,\n",
        "        'cache_dir': model_args.model_cache_dir,\n",
        "    }\n",
        "\n",
        "    if task_type == \"text_classification\":\n",
        "        auto_config_params.update({\n",
        "            \"num_labels\": num_labels,\n",
        "            \"finetuning_task\": data_args.task_name,\n",
        "        })\n",
        "    elif task_type == \"sequence_labeling\":\n",
        "        auto_config_params.update({\n",
        "            \"num_labels\": num_labels,\n",
        "            \"id2label\": label_map,\n",
        "            \"label2id\": {label: i for i, label in enumerate(labels)},\n",
        "        })\n",
        "\n",
        "    config = AutoConfig.from_pretrained(**auto_config_params)\n",
        "\n",
        "    auto_tokenizer_params = {\n",
        "        \"pretrained_model_name_or_path\": model_args.model_name_or_path,\n",
        "        \"cache_dir\": model_args.model_cache_dir,\n",
        "        \"do_lower_case\": model_args.do_lower_case,\n",
        "    }\n",
        "    tokenizer = AutoTokenizer.from_pretrained(**auto_tokenizer_params)\n",
        "\n",
        "    auto_model_params = {\n",
        "        \"pretrained_model_name_or_path\": model_args.model_name_or_path,\n",
        "        \"from_tf\": False,\n",
        "        \"config\": config,\n",
        "        \"cache_dir\": model_args.model_cache_dir,\n",
        "    }\n",
        "\n",
        "    if \"model_load_mode\" in kwargs and kwargs[\"model_load_mode\"] == \"base_model_only\":\n",
        "        WEIGHTS_NAME = \"pytorch_model.bin\"\n",
        "        archive_file = os.path.join(model_args.model_name_or_path, WEIGHTS_NAME)\n",
        "        # Use torch.load with map_location=torch.device() to map the pretrained model to our device.\n",
        "        model_state_dict = torch.load(archive_file, map_location=torch.device(training_args.device))\n",
        "        \n",
        "        state_dict_with_prefix = {}\n",
        "        for key, value in model_state_dict.items():\n",
        "            if key.startswith(model_args.model_type):\n",
        "                state_dict_with_prefix[key] = value\n",
        "\n",
        "        auto_model_params.update({\"state_dict\": state_dict_with_prefix})\n",
        "        \n",
        "    model = AutoModel.from_pretrained(**auto_model_params)\n",
        "\n",
        "    # Get datasets\n",
        "    Dataset = DATASET[task_type]\n",
        "    dataset_params = {\n",
        "        \"tokenizer\": tokenizer,\n",
        "    }\n",
        "    if task_type == \"sequence_labeling\":\n",
        "        dataset_params.update({\n",
        "            \"token_classification_task\": token_classification_task,\n",
        "            \"data_dir\": data_args.data_dir,\n",
        "            \"labels\": labels,\n",
        "            \"model_type\": model_args.model_type,\n",
        "            \"max_seq_length\": data_args.max_seq_length\n",
        "        })\n",
        "\n",
        "    else:\n",
        "        dataset_params.update({\n",
        "            \"args\": data_args,\n",
        "            \"cache_dir\": model_args.data_cache_dir,\n",
        "        })\n",
        "\n",
        "    train_dataset = (Dataset(**dataset_params) if training_args.do_train else None)\n",
        "\n",
        "    dataset_params.update({\"mode\": Split.dev if task_type == \"sequence_labeling\" else \"dev\"})\n",
        "    eval_dataset = (Dataset(**dataset_params) if training_args.do_eval else None)\n",
        "\n",
        "    # Initialize our Trainer\n",
        "    trainer_params = {\n",
        "        \"model\": model,\n",
        "        \"args\": training_args,\n",
        "        \"train_dataset\": train_dataset,\n",
        "        \"eval_dataset\": eval_dataset,\n",
        "    }\n",
        "    trainer = Trainer(**trainer_params)\n",
        "\n",
        "    # Training\n",
        "    if training_args.do_train:\n",
        "        trainer.train(\n",
        "            model_path=model_args.model_name_or_path if os.path.isdir(model_args.model_name_or_path) else None\n",
        "        )\n",
        "        trainer.save_model()\n",
        "        # For convenience, we also re-save the tokenizer to the same directory\n",
        "        tokenizer.save_pretrained(training_args.output_dir)\n",
        "\n",
        "    # Evaluation\n",
        "    eval_results = {}\n",
        "    if training_args.do_eval:\n",
        "        if task_type == \"text_classification\":\n",
        "            def build_compute_metrics_fn(task_name: str) -> Callable[[EvalPrediction], Dict]:\n",
        "                def compute_metrics_fn(p: EvalPrediction):\n",
        "                    if output_mode == \"classification\":\n",
        "                        preds = np.argmax(p.predictions, axis=1)\n",
        "                    elif output_mode == \"regression\":\n",
        "                        preds = np.squeeze(p.predictions)\n",
        "                    return glue_compute_metrics(task_name, preds, p.label_ids)\n",
        "                return compute_metrics_fn\n",
        "\n",
        "            logger.info(\"*** Evaluate ***\")\n",
        "            # Loop to handle MNLI double evaluation (matched, mis-matched)\n",
        "            eval_datasets = [eval_dataset]\n",
        "            if data_args.task_name == \"mnli\":\n",
        "                mnli_mm_data_args = dataclasses.replace(data_args, task_name=\"mnli-mm\")\n",
        "                eval_datasets.append(\n",
        "                    Dataset(mnli_mm_data_args, tokenizer=tokenizer, mode=\"dev\", cache_dir=model_args.data_cache_dir)\n",
        "                )\n",
        "\n",
        "            for eval_dataset in eval_datasets:\n",
        "                trainer.compute_metrics = build_compute_metrics_fn(eval_dataset.args.task_name)\n",
        "                eval_result = trainer.evaluate(eval_dataset=eval_dataset)\n",
        "\n",
        "                output_eval_file = os.path.join(training_args.output_dir, f\"eval_results.txt\")\n",
        "                with open(output_eval_file, \"w\") as writer:\n",
        "                    logger.info(\"***** Eval results *****\")\n",
        "                    for key, value in eval_result.items():\n",
        "                        logger.info(\"  %s = %s\", key, value)\n",
        "                        writer.write(\"%s = %s\\n\" % (key, value))\n",
        "\n",
        "                eval_results.update(eval_result)\n",
        "\n",
        "        elif task_type == \"question_answering\":\n",
        "            # We don't use trainer.evaluate here since it currently does not support question answering tasks\n",
        "            # (https://github.com/huggingface/transformers/issues/7032)\n",
        "            model = AutoModel.from_pretrained(model_args.model_cache_dir)\n",
        "            tokenizer = AutoTokenizer.from_pretrained(model_args.model_cache_dir, do_lower_case=model_args.do_lower_case)\n",
        "            model.to(training_args.device)\n",
        "\n",
        "\n",
        "            dataset = eval_dataset.dataset\n",
        "            examples = eval_dataset.examples\n",
        "            features = eval_dataset.features\n",
        "            eval_batch_size = training_args.per_gpu_eval_batch_size * max(1, training_args.n_gpu)\n",
        "\n",
        "            eval_sampler = SequentialSampler(dataset)\n",
        "            eval_dataloader = DataLoader(dataset, sampler=eval_sampler, batch_size=eval_batch_size)\n",
        "\n",
        "            logger.info(\"*** Evaluate ***\")\n",
        "            description = \"Evaluation\"\n",
        "            logger.info(\"***** Running %s *****\", description)\n",
        "            logger.info(\"  Num examples = %d\", len(dataset))\n",
        "            logger.info(\"  Batch size = %d\", eval_batch_size)\n",
        "\n",
        "            all_results = []\n",
        "            start_time = timeit.default_timer()\n",
        "\n",
        "            for batch in tqdm(eval_dataloader, desc=description):\n",
        "                model.eval()\n",
        "                batch = tuple(t.to(training_args.device) for t in batch)\n",
        "\n",
        "                with torch.no_grad():\n",
        "                    inputs = {\n",
        "                        \"input_ids\": batch[0],\n",
        "                        \"attention_mask\": batch[1],\n",
        "                        \"token_type_ids\": batch[2],\n",
        "                    }\n",
        "                    feature_indices = batch[3]\n",
        "                    outputs = model(**inputs)\n",
        "\n",
        "                for i, feature_index in enumerate(feature_indices):\n",
        "                    eval_feature = features[feature_index.item()]\n",
        "                    unique_id = int(eval_feature.unique_id)\n",
        "                    output = [output[i].detach().cpu().tolist() for output in outputs]\n",
        "                    start_logits, end_logits = output\n",
        "                    result = SquadResult(unique_id, start_logits, end_logits)\n",
        "                    all_results.append(result)\n",
        "\n",
        "            evalTime = timeit.default_timer() - start_time\n",
        "            logger.info(\"  Evaluation done in total %f secs (%f sec per example)\", evalTime, evalTime / len(dataset))\n",
        "\n",
        "            # Compute predictions\n",
        "            output_prediction_file = os.path.join(training_args.output_dir, \"predictions.json\")\n",
        "            output_nbest_file = os.path.join(training_args.output_dir, \"nbest_predictions.json\")\n",
        "\n",
        "            output_null_log_odds_file = os.path.join(training_args.output_dir, \"null_odds.json\") \\\n",
        "                if data_args.version_2_with_negative else None\n",
        "\n",
        "            predictions = compute_predictions_logits(\n",
        "                all_examples=examples,\n",
        "                all_features=features,\n",
        "                all_results=all_results,\n",
        "                n_best_size=data_args.n_best_size,\n",
        "                max_answer_length=data_args.max_answer_length,\n",
        "                do_lower_case=model_args.do_lower_case,\n",
        "                output_prediction_file=output_prediction_file,\n",
        "                output_nbest_file=output_nbest_file,\n",
        "                output_null_log_odds_file=output_null_log_odds_file,\n",
        "                verbose_logging=False,\n",
        "                version_2_with_negative=data_args.version_2_with_negative,\n",
        "                null_score_diff_threshold=data_args.null_score_diff_threshold,\n",
        "                tokenizer=tokenizer,\n",
        "            )\n",
        "\n",
        "            # Compute the F1 and exact scores.\n",
        "            eval_result = squad_evaluate(examples, predictions)\n",
        "\n",
        "            output_eval_file = os.path.join(training_args.output_dir, f\"eval_results.txt\")\n",
        "            with open(output_eval_file, \"w\") as writer:\n",
        "                logger.info(\"***** Eval results *****\")\n",
        "                for key, value in eval_result.items():\n",
        "                    logger.info(\"  %s = %s\", key, value)\n",
        "                    writer.write(\"%s = %s\\n\" % (key, value))\n",
        "\n",
        "            eval_results.update(eval_result)\n",
        "\n",
        "\n",
        "        elif task_type == \"sequence_labeling\":\n",
        "            def align_predictions(predictions: np.ndarray, label_ids: np.ndarray) -> Tuple[List[int], List[int]]:\n",
        "                preds = np.argmax(predictions, axis=2)\n",
        "                batch_size, seq_len = preds.shape\n",
        "                label_list = [[] for _ in range(batch_size)]\n",
        "                pred_list = [[] for _ in range(batch_size)]\n",
        "\n",
        "                for i in range(batch_size):\n",
        "                    for j in range(seq_len):\n",
        "                        if label_ids[i, j] != torch.nn.CrossEntropyLoss().ignore_index:\n",
        "                            label_list[i].append(label_map[label_ids[i][j]])\n",
        "                            pred_list[i].append(label_map[preds[i][j]])\n",
        "                return pred_list, label_list\n",
        "\n",
        "            def compute_metrics_fn(p: EvalPrediction) -> Dict:\n",
        "                pred_list, label_list = align_predictions(p.predictions, p.label_ids)\n",
        "                return {\n",
        "                    \"accuracy_score\": accuracy_score(label_list, pred_list),\n",
        "                    \"precision\": precision_score(label_list, pred_list),\n",
        "                    \"recall\": recall_score(label_list, pred_list),\n",
        "                    \"f1\": f1_score(label_list, pred_list),\n",
        "                }\n",
        "\n",
        "            trainer.compute_metrics = compute_metrics_fn\n",
        "            eval_result = trainer.evaluate(eval_dataset=eval_dataset)\n",
        "\n",
        "            output_eval_file = os.path.join(training_args.output_dir, f\"eval_results.txt\")\n",
        "            with open(output_eval_file, \"w\") as writer:\n",
        "                logger.info(\"***** Eval results *****\")\n",
        "                for key, value in eval_result.items():\n",
        "                    logger.info(\"  %s = %s\", key, value)\n",
        "                    writer.write(\"%s = %s\\n\" % (key, value))\n",
        "\n",
        "            eval_results.update(eval_result)\n",
        "\n",
        "        else:\n",
        "            raise ValueError(\"Invalid task type.\")\n",
        "    return eval_results\n",
        "\n",
        "\n",
        "print('setup complete')"
      ],
      "execution_count": 8,
      "outputs": [
        {
          "output_type": "stream",
          "text": [
            "setup complete\n"
          ],
          "name": "stdout"
        }
      ]
    },
    {
      "cell_type": "markdown",
      "metadata": {
        "id": "lfWAtDLLx8SK"
      },
      "source": [
        "## Fine-tuning BERT for text classification\n",
        "Now, let's use `BERT` to solve a sentiment classification task. Specifically, we'll be using the Stanford Sentiment Treebank [(Socher et al., 2013)](https://nlp.stanford.edu/~socherr/EMNLP2013_RNTN.pdf), which was constructed from movie reviews data. We provide code to fine-tune BERT in a separate [\"useful code\" Colab notebook](https://colab.research.google.com/drive/1nJWA9rPkPrjjjtwN_vKUSQoomdfWLAFV?usp=sharing), so check that out if you're interested. However, since training on the full `SST` dataset (67K examples) takes a while, we provide you with a fine-tuned model to save time. Run the following cell to download the model. \n",
        "\n",
        " "
      ]
    },
    {
      "cell_type": "code",
      "metadata": {
        "id": "EFI0mKwUYk58",
        "outputId": "ee1cad8a-2718-4eaf-bd39-d4e54510fe81",
        "colab": {
          "base_uri": "https://localhost:8080/",
          "height": 71
        }
      },
      "source": [
        "data_file = drive.CreateFile({'id': '1ZJ1_gWahH_OOBIrRm0aN9i8nvLB2olZC'})\n",
        "data_file.GetContentFile('bert-base-cased-finetuned-sst.zip')\n",
        "\n",
        "# Extract the data from the zipfile and put it into pretrained_models_dir\n",
        "with zipfile.ZipFile('bert-base-cased-finetuned-sst.zip', 'r') as zip_file:\n",
        "    zip_file.extractall(pretrained_models_dir)\n",
        "os.remove('bert-base-cased-finetuned-sst.zip')\n",
        "print(\"bert-base-cased-finetuned-sst downloaded!\")"
      ],
      "execution_count": 10,
      "outputs": [
        {
          "output_type": "stream",
          "text": [
            "10/29/2020 20:53:59 - INFO - googleapiclient.discovery -   URL being requested: GET https://www.googleapis.com/drive/v2/files/1ZJ1_gWahH_OOBIrRm0aN9i8nvLB2olZC?alt=json\n"
          ],
          "name": "stderr"
        },
        {
          "output_type": "stream",
          "text": [
            "bert-base-cased-finetuned-sst downloaded!\n"
          ],
          "name": "stdout"
        }
      ]
    },
    {
      "cell_type": "markdown",
      "metadata": {
        "id": "z6In7sN0P_cs"
      },
      "source": [
        "Run the cell below to evaluate the trained model on the dev set. You should get an accuracy around 92%."
      ]
    },
    {
      "cell_type": "code",
      "metadata": {
        "id": "d5YvAzA5QJER",
        "outputId": "591c5f97-bb1e-4b75-a2a5-8bead6536b43",
        "colab": {
          "base_uri": "https://localhost:8080/",
          "height": 210
        }
      },
      "source": [
        "start_time = timeit.default_timer()\n",
        "task_name = \"SST\"\n",
        "data_dir = f\"./data/small{task_name}\"\n",
        "model_name_or_path = \"bert-base-cased-finetuned-sst\"\n",
        "model_cache_dir = os.path.join(pretrained_models_dir, model_name_or_path)\n",
        "data_cache_dir = f\"./data_cache/finetuning/small{task_name}\"\n",
        "output_dir = f\"./output/finetuning/small{task_name}\"\n",
        "\n",
        "do_target_task_finetuning(\n",
        "    model_name_or_path=model_cache_dir,\n",
        "    task_name=f\"{task_name}-2\",\n",
        "    task_type=\"text_classification\",\n",
        "    do_train=False,\n",
        "    do_eval=True, \n",
        "    do_lower_case=True,\n",
        "    data_dir=data_dir,\n",
        "    max_seq_length=128,\n",
        "    model_cache_dir=model_cache_dir,\n",
        "    data_cache_dir=data_cache_dir,\n",
        "    output_dir=output_dir,\n",
        "\n",
        ")\n",
        "elapsed_time = timeit.default_timer() - start_time\n",
        "print(f\"Time elapsed: {elapsed_time} seconds\")"
      ],
      "execution_count": 11,
      "outputs": [
        {
          "output_type": "stream",
          "text": [
            "10/29/2020 20:54:09 - INFO - __main__ -   Process device: cuda:0, n_gpu: 1\n",
            "10/29/2020 20:54:09 - INFO - __main__ -   Training/evaluation parameters TrainingArguments(output_dir='./output/finetuning/smallSST', overwrite_output_dir=False, do_train=False, do_eval=True, do_predict=False, evaluate_during_training=False, evaluation_strategy=<EvaluationStrategy.NO: 'no'>, prediction_loss_only=False, per_device_train_batch_size=8, per_device_eval_batch_size=8, per_gpu_train_batch_size=None, per_gpu_eval_batch_size=None, gradient_accumulation_steps=1, eval_accumulation_steps=None, learning_rate=5e-05, weight_decay=0.0, adam_beta1=0.9, adam_beta2=0.999, adam_epsilon=1e-08, max_grad_norm=1.0, num_train_epochs=3.0, max_steps=-1, warmup_steps=0, logging_dir='runs/Oct29_20-54-09_b9ceaa718d3b', logging_first_step=False, logging_steps=500, save_steps=500, save_total_limit=None, no_cuda=False, seed=42, fp16=False, fp16_opt_level='O1', local_rank=-1, tpu_num_cores=None, tpu_metrics_debug=False, debug=False, dataloader_drop_last=False, eval_steps=500, dataloader_num_workers=0, past_index=-1, run_name='./output/finetuning/smallSST', disable_tqdm=False, remove_unused_columns=True, label_names=None, load_best_model_at_end=False, metric_for_best_model=None, greater_is_better=None)\n",
            "10/29/2020 20:54:12 - INFO - filelock -   Lock 140222305702072 acquired on ./data_cache/finetuning/smallSST/cached_dev_BertTokenizer_128_sst-2.lock\n",
            "10/29/2020 20:54:13 - INFO - filelock -   Lock 140222305702072 released on ./data_cache/finetuning/smallSST/cached_dev_BertTokenizer_128_sst-2.lock\n",
            "10/29/2020 20:54:13 - INFO - __main__ -   *** Evaluate ***\n"
          ],
          "name": "stderr"
        },
        {
          "output_type": "display_data",
          "data": {
            "text/html": [
              "\n",
              "    <div>\n",
              "        <style>\n",
              "            /* Turns off some styling */\n",
              "            progress {\n",
              "                /* gets rid of default border in Firefox and Opera. */\n",
              "                border: none;\n",
              "                /* Needs to be in here for Safari polyfill so background images work as expected. */\n",
              "                background-size: auto;\n",
              "            }\n",
              "        </style>\n",
              "      \n",
              "      <progress value='109' max='109' style='width:300px; height:20px; vertical-align: middle;'></progress>\n",
              "      [109/109 00:06]\n",
              "    </div>\n",
              "    "
            ],
            "text/plain": [
              "<IPython.core.display.HTML object>"
            ]
          },
          "metadata": {
            "tags": []
          }
        },
        {
          "output_type": "stream",
          "text": [
            "10/29/2020 20:54:20 - INFO - __main__ -   ***** Eval results *****\n",
            "10/29/2020 20:54:20 - INFO - __main__ -     eval_loss = 0.27018672227859497\n",
            "10/29/2020 20:54:20 - INFO - __main__ -     eval_acc = 0.9197247706422018\n"
          ],
          "name": "stderr"
        },
        {
          "output_type": "stream",
          "text": [
            "Time elapsed: 11.320101013999988 seconds\n"
          ],
          "name": "stdout"
        }
      ]
    },
    {
      "cell_type": "markdown",
      "metadata": {
        "id": "SMugs2KHRUZN"
      },
      "source": [
        "### Question 2.1 (5 points)\n",
        "Let's use the trained model to predict the sentiment of a given sentence. We will make a few predictions in the code below. Your task is to complete the code to print out the model's predicted probability distribution for each sentence.\n",
        "\n",
        "*Hint:*\n",
        "\n",
        "*   `model(inputs)[0]` gives you the logits of the model for `inputs`."
      ]
    },
    {
      "cell_type": "code",
      "metadata": {
        "id": "TlaiLg-a5f8Y",
        "outputId": "1f9bc775-0877-4ebb-aac7-0586662317da",
        "colab": {
          "base_uri": "https://localhost:8080/",
          "height": 119
        }
      },
      "source": [
        "# Load the trained model and make a few predictions\n",
        "model_name_or_path = \"bert-base-cased-finetuned-sst\"\n",
        "pretrained_weights = os.path.join(pretrained_models_dir, model_name_or_path)\n",
        "task_type = \"text_classification\"\n",
        "model = AUTO_MODEL[task_type].from_pretrained(pretrained_weights)\n",
        "tokenizer = AutoTokenizer.from_pretrained(pretrained_weights)\n",
        "\n",
        "classes = [\"negative\", \"positive\"]\n",
        "\n",
        "sentence_1 = \"the movie has something interesting to say\"\n",
        "sentence_2 = \"it was so awful that i walked out after 30 minutes :(\"\n",
        "\n",
        "inputs_1 = tokenizer.encode(sentence_1, add_special_tokens=True, return_tensors=\"pt\")\n",
        "inputs_2 = tokenizer.encode(sentence_2, add_special_tokens=True, return_tensors=\"pt\")\n",
        "\n",
        "# YOUR CODE HERE!\n",
        "#from class notes want to put a softmax layer over the CLS token, then backprop the error through the pretrained masked L<\n",
        "\n",
        "#get logits\n",
        "def get_distribution(inputs, sent):\n",
        "  i1 =  model(inputs)[0]\n",
        "\n",
        "  probs = torch.softmax(i1, dim=1).squeeze()\n",
        "  argmax_idx = torch.argmax(probs).item()\n",
        "  # print (probs[argmax_idx].item())\n",
        "  # print(classes[argmax_idx])\n",
        "\n",
        "  #print (sent, \": Model has predicted\", classes[argmax_idx], \"label with a probability distribution of: \", probs[argmax_idx].item())\n",
        "\n",
        "  \n",
        "  print('Input sentence: \"%s\"\\npredicted negative prob: %0.3f\\npredicted positive prob: %0.3f'\\\n",
        "      % (sent,  probs[0], probs[1]))\n",
        "\n",
        "\n",
        "\n",
        "\n",
        "get_distribution(inputs_1, sentence_1)\n",
        "get_distribution(inputs_2, sentence_2)\n",
        "\n",
        "\n"
      ],
      "execution_count": 12,
      "outputs": [
        {
          "output_type": "stream",
          "text": [
            "Input sentence: \"the movie has something interesting to say\"\n",
            "predicted negative prob: 0.001\n",
            "predicted positive prob: 0.999\n",
            "Input sentence: \"it was so awful that i walked out after 30 minutes :(\"\n",
            "predicted negative prob: 0.998\n",
            "predicted positive prob: 0.002\n"
          ],
          "name": "stdout"
        }
      ]
    },
    {
      "cell_type": "markdown",
      "metadata": {
        "id": "SLdj1V1yZnSO"
      },
      "source": [
        "### Question 2.2 (5 points)\n",
        "Come up with a new sentence that the model gets wrong. The sentence must contain some sentiment (i.e., it cannot be neutral), and the model should place a higher probability on the wrong label than the correct one. Show the model's prediction on this new sentence."
      ]
    },
    {
      "cell_type": "code",
      "metadata": {
        "id": "qmKYU5zratKI",
        "outputId": "26d68e66-d2ab-4a6e-ad69-604cc108f4fc",
        "colab": {
          "base_uri": "https://localhost:8080/",
          "height": 85
        }
      },
      "source": [
        "your_sentence = 'It is beginning to look a lot like Christmas, toys in every store.' # change to your sentence\n",
        "your_sentence_sentiment = 'positive' # change to your sentence's ground-truth sentiment\n",
        "#your_model_prediction = [0.1, 0.9] # obviously, change this to the model's prediction on your sentence\n",
        "\n",
        "\n",
        "# YOUR CODE HERE\n",
        "\n",
        "#get logits\n",
        "def get_distribution(inputs, sent):\n",
        "  i1 =  model(inputs)[0]\n",
        "\n",
        "  probs = torch.softmax(i1, dim=1).squeeze()\n",
        "  argmax_idx = torch.argmax(probs).item()\n",
        "\n",
        "  return probs\n",
        "\n",
        "\n",
        "inputs_y = tokenizer.encode(your_sentence, add_special_tokens=True, return_tensors=\"pt\")\n",
        "your_model_prediction = get_distribution(inputs_y, \"My Sentence\")\n",
        "\n",
        "\n",
        "print('your sentence: \"%s\"\\nground-truth label: %s\\npredicted negative prob: %0.2f\\npredicted positive prob: %0.2f'\\\n",
        "      % (your_sentence, your_sentence_sentiment, your_model_prediction[0], your_model_prediction[1]))"
      ],
      "execution_count": 13,
      "outputs": [
        {
          "output_type": "stream",
          "text": [
            "your sentence: \"It is beginning to look a lot like Christmas, toys in every store.\"\n",
            "ground-truth label: positive\n",
            "predicted negative prob: 0.99\n",
            "predicted positive prob: 0.01\n"
          ],
          "name": "stdout"
        }
      ]
    },
    {
      "cell_type": "markdown",
      "metadata": {
        "id": "nTdT62X1cSfg"
      },
      "source": [
        "### Question 2.3 (5 points)\n",
        "Provide a reasonable explanation as to why the model got your sentence wrong. Also provide a plausible method to improve the underlying sentiment model so that this kind of error stops happening.\n",
        "\n",
        "\n",
        "The target sentence, while positive in sentiment, does not contain any typical happy adjectives. It is a more subtle example and comes from a joyous Christmas song. It is likley the model did not encounter anything specifically like it during training."
      ]
    },
    {
      "cell_type": "markdown",
      "metadata": {
        "id": "sosXqVsIfAOc"
      },
      "source": [
        "***WRITE YOUR ANSWER HERE IN A FEW SENTENCES***"
      ]
    },
    {
      "cell_type": "markdown",
      "metadata": {
        "id": "wt4_JfmX7w5d"
      },
      "source": [
        "## Fine-tuning BERT for question answering\n",
        "In this section, we will use `BERT` for a question answering task, i.e., `SQuAD` [(Rajpurkar et al., 2016)](https://nlp.stanford.edu/pubs/rajpurkar2016squad.pdf) whose dataset was built from Wikipedia. Training on the full `SQuAD` dataset (108K examples) would takes a couple of hours, so we will provide you with a trained model to save your time. Run the following cell to download the model."
      ]
    },
    {
      "cell_type": "code",
      "metadata": {
        "id": "dMhmA6i61Cqt",
        "outputId": "ae2a311b-3a1d-471d-a7b2-b85db999cb2a",
        "colab": {
          "base_uri": "https://localhost:8080/",
          "height": 71
        }
      },
      "source": [
        "data_file = drive.CreateFile({'id': '19cnGSN88KlRJRcIqwxw3C4ylJftdkZ2W'})\n",
        "data_file.GetContentFile('bert-base-cased-finetuned-squad.zip')\n",
        "\n",
        "# Extract the data from the zipfile and put it into pretrained_models_dir\n",
        "with zipfile.ZipFile('bert-base-cased-finetuned-squad.zip', 'r') as zip_file:\n",
        "    zip_file.extractall(pretrained_models_dir)\n",
        "os.remove('bert-base-cased-finetuned-squad.zip')\n",
        "print(\"bert-base-cased-finetuned-squad downloaded!\")"
      ],
      "execution_count": 14,
      "outputs": [
        {
          "output_type": "stream",
          "text": [
            "10/29/2020 20:54:33 - INFO - googleapiclient.discovery -   URL being requested: GET https://www.googleapis.com/drive/v2/files/19cnGSN88KlRJRcIqwxw3C4ylJftdkZ2W?alt=json\n"
          ],
          "name": "stderr"
        },
        {
          "output_type": "stream",
          "text": [
            "bert-base-cased-finetuned-squad downloaded!\n"
          ],
          "name": "stdout"
        }
      ]
    },
    {
      "cell_type": "markdown",
      "metadata": {
        "id": "5CkbeUxR5fNw"
      },
      "source": [
        "### Question 2.4 (10 points)\n",
        "\n",
        "Okay, same drill as before! Your task is to complete the code to show the model's predicted answer to each question. If you forgot how `BERT` solves extractive question answering tasks, check out Section 4.2 and Figure 1 / Figure 4c) in the [BERT paper](https://arxiv.org/pdf/1810.04805.pdf). Your output should be three strings, each corresponding to the answer of one of the three given questions. \n",
        "\n",
        "*Hints*\n",
        "\n",
        "*   `model(**inputs)]` gives you the start and end logits of the model for  `inputs`.\n",
        "*   Use `tokenizer.convert_tokens_to_string` to convert a sequence of tokens (string) into a single string.\n",
        "*   Use `tokenizer.convert_ids_to_tokens` to convert a sequence of indices into a sequence of tokens."
      ]
    },
    {
      "cell_type": "code",
      "metadata": {
        "id": "G5COVCSw6f5h",
        "outputId": "ae0eae6d-5b3c-4be7-f162-71e9d18652bb",
        "colab": {
          "base_uri": "https://localhost:8080/",
          "height": 68
        }
      },
      "source": [
        "task_name = \"SQuAD\"\n",
        "model_name_or_path = \"bert-base-cased-finetuned-squad\"\n",
        "pretrained_weights = os.path.join(pretrained_models_dir, model_name_or_path)\n",
        "task_type = \"question_answering\"\n",
        "model = AUTO_MODEL[task_type].from_pretrained(pretrained_weights)\n",
        "tokenizer = AutoTokenizer.from_pretrained(pretrained_weights)\n",
        "\n",
        "context = \"\"\"This course will broadly focus on deep learning methods for \n",
        "natural language processing. Most of the semester will focus on very recent \n",
        "transfer learning methods that have significantly pushed forward the state of \n",
        "the art. It is intended for graduate students in computer science and \n",
        "linguistics who are (1) interested in learning about cutting-edge research \n",
        "progress in NLP and (2) familiar with machine learning fundamentals. We will \n",
        "cover modeling architectures, training objectives, and downstream tasks (e.g., \n",
        "text classification, question answering, and text generation). Coursework \n",
        "includes reading recent research papers, programming assignments, and a final \n",
        "project. This class will be asynchronous: lectures will be prerecorded and \n",
        "posted on a weekly basis, along with accompanying readings and assignments.\"\"\"\n",
        "\n",
        "questions = [\n",
        "    \"What is the focus of this course?\",\n",
        "    \"Who is this course intended for?\",\n",
        "    \"What is the coursework?\",\n",
        "]\n",
        "\n",
        "for question in questions:\n",
        "    inputs = tokenizer.encode_plus(question, context, add_special_tokens=True, return_tensors=\"pt\")\n",
        "    input_ids = inputs[\"input_ids\"].tolist()[0]\n",
        "    \n",
        "    # YOUR CODE HERE!\n",
        "    start, end = model(**inputs)\n",
        "    s = torch.argmax(start).item()\n",
        "    e = torch.argmax(end).item()\n",
        "    tokens = tokenizer.convert_ids_to_tokens(input_ids[s:e+1])\n",
        "\n",
        "    t = tokenizer.convert_tokens_to_string(tokens)\n",
        "    print (\"Q: \", question, \"A: \", t)\n"
      ],
      "execution_count": 15,
      "outputs": [
        {
          "output_type": "stream",
          "text": [
            "Q:  What is the focus of this course? A:  deep learning methods for natural language processing\n",
            "Q:  Who is this course intended for? A:  graduate students in computer science and linguistics\n",
            "Q:  What is the coursework? A:  reading recent research papers , programming assignments , and a final project\n"
          ],
          "name": "stdout"
        }
      ]
    },
    {
      "cell_type": "markdown",
      "metadata": {
        "id": "MjPQa9bGhNKL"
      },
      "source": [
        "### Question 2.5 (5 points)\n",
        "Come up with a new question about this passage that the model gets wrong. The question must be answerable by the passage (i.e., its ground-truth answer should be a span of text within the passage). Show the model's predicted answer on this new sentence."
      ]
    },
    {
      "cell_type": "code",
      "metadata": {
        "id": "dJJeSHlZhfgH",
        "outputId": "76410a13-25da-4ead-b032-33e57a829a8a",
        "colab": {
          "base_uri": "https://localhost:8080/",
          "height": 68
        }
      },
      "source": [
        "your_question = 'blah blah' # change to your question\n",
        "your_answer = 'blah blah' # change to your sentence's ground-truth answer\n",
        "your_model_prediction = 'blah blah' # obviously, change this to the model's predicted answer span\n",
        "\n",
        "\n",
        "# YOUR CODE HERE\n",
        "\n",
        "your_question = 'Who should take this class?' # change to your question\n",
        "your_answer = 'graduate students in computer science and linguistics' # change to your sentence's ground-truth answer\n",
        "#your_model_prediction = 'blah blah' # obviously, change this to the model's predicted answer span\n",
        "\n",
        "inputs = tokenizer.encode_plus(your_question, context, add_special_tokens=True, return_tensors=\"pt\")\n",
        "input_ids = inputs[\"input_ids\"].tolist()[0]\n",
        "    \n",
        "    # YOUR CODE HERE!\n",
        "start, end = model(**inputs)\n",
        "s = torch.argmax(start).item()\n",
        "e = torch.argmax(end).item()\n",
        "tokens = tokenizer.convert_ids_to_tokens(input_ids[s:e+1])\n",
        "\n",
        "t = tokenizer.convert_tokens_to_string(tokens)\n",
        "#print (\"Q: \", question, \"A: \", t)\n",
        "\n",
        "print('your question: \"%s\"\\nground-truth answer: %s\\npredicted answer: %s'\\\n",
        "      % (your_question, your_answer, t))"
      ],
      "execution_count": 16,
      "outputs": [
        {
          "output_type": "stream",
          "text": [
            "your question: \"Who should take this class?\"\n",
            "ground-truth answer: graduate students in computer science and linguistics\n",
            "predicted answer: [CLS]\n"
          ],
          "name": "stdout"
        }
      ]
    },
    {
      "cell_type": "code",
      "metadata": {
        "id": "5P9EhHax5_w7"
      },
      "source": [
        ""
      ],
      "execution_count": null,
      "outputs": []
    },
    {
      "cell_type": "markdown",
      "metadata": {
        "id": "ZyS1OJ6sh70y"
      },
      "source": [
        "### Question 2.6 (5 points)\n",
        "Provide a reasonable explanation as to why the model got your question wrong. Also provide a plausible method to improve the underlying QA model so that this kind of error stops happening."
      ]
    },
    {
      "cell_type": "markdown",
      "metadata": {
        "id": "pb24NVS_h70z"
      },
      "source": [
        "The model got this question wrong because the question is not using the same language as the context. The question I used is very similar to the question from the previous cell, \"Who is this course intended for?\". The model got that question right, but my question wrong even though they have the same semantic meaning. \n",
        "\n",
        "This could be improved by......\n"
      ]
    },
    {
      "cell_type": "markdown",
      "metadata": {
        "id": "xUkBOfjuqKYn"
      },
      "source": [
        "# Part 3: Low-resource NLP (50 points)\n",
        "\n",
        "In this second part of the homework, we will experiment with an extremely low-resource setting for which there are only a few training examples available for the downstream target task. We provide you with a tiny version of the `SST` dataset called `tinySST` (located at `data/tinySST`) with only 20 training examples (10 examples per each class). We will explore various data augmentation and finetuning approaches to improve the target task performance."
      ]
    },
    {
      "cell_type": "markdown",
      "metadata": {
        "id": "lap7BetPiWhX"
      },
      "source": [
        "`BERT` is unstable and prone to\n",
        "degenerate performance on tasks with small training sets. The below cell fine-tunes `BERT` on `tinySST` using some default hyperparameters and also reports the mean and standard deviation of the dev set accuracy across 4 random seeds. Run the cell to obtain these baseline numbers, which should be around 50% average accuracy  (it might take a couple of minutes to finish)."
      ]
    },
    {
      "cell_type": "code",
      "metadata": {
        "id": "BI-0LhpWP-UL",
        "outputId": "8fcf79ad-9198-4211-82ad-60b20ac6e619",
        "colab": {
          "base_uri": "https://localhost:8080/",
          "height": 1000
        }
      },
      "source": [
        "start_time = timeit.default_timer()\n",
        "task_name = \"SST\"\n",
        "data_dir = f\"./data/tiny{task_name}\"\n",
        "model_name_or_path = \"bert-base-cased\"\n",
        "model_cache_dir = os.path.join(pretrained_models_dir, model_name_or_path)\n",
        "data_cache_dir = f\"./data_cache/finetuning/tiny{task_name}\"\n",
        "\n",
        "# Fine-tune BERT with default hyperparameters using 4 random seeds\n",
        "for seed in [1234, 2341, 3412, 4123]:\n",
        "  output_dir = f\"./output/tiny{task_name}-{seed}\"\n",
        "  do_target_task_finetuning(\n",
        "      seed=seed,\n",
        "      model_name_or_path=model_name_or_path,\n",
        "      task_name=f\"{task_name}-2\",\n",
        "      task_type=\"text_classification\",\n",
        "      do_train=True,\n",
        "      do_eval=False, \n",
        "      do_lower_case=True,\n",
        "      data_dir=data_dir,\n",
        "      max_seq_length=128,\n",
        "      per_device_train_batch_size=32,\n",
        "      learning_rate=2e-5,\n",
        "      num_train_epochs=3.0,\n",
        "      model_cache_dir=model_cache_dir,\n",
        "      data_cache_dir=data_cache_dir,\n",
        "      output_dir=output_dir,\n",
        "      overwrite_output_dir=True\n",
        "  )\n",
        "\n",
        "# Evaluate BERT on the dev set\n",
        "results = []\n",
        "for seed in [1234, 2341, 3412, 4123]:\n",
        "  model_dir = f\"./output/tiny{task_name}-{seed}\"\n",
        "  result = do_target_task_finetuning(\n",
        "      seed=seed,\n",
        "      model_name_or_path=model_dir,\n",
        "      task_name=f\"{task_name}-2\",\n",
        "      task_type=\"text_classification\",\n",
        "      do_train=False,\n",
        "      do_eval=True, \n",
        "      do_lower_case=True,\n",
        "      data_dir=data_dir,\n",
        "      max_seq_length=128,\n",
        "      model_cache_dir=model_cache_dir,\n",
        "      data_cache_dir=data_cache_dir,\n",
        "      output_dir=model_dir\n",
        "  )\n",
        "  results.append(result[\"eval_acc\"])\n",
        "\n",
        "results = np.array(results)\n",
        "mean = np.mean(results)\n",
        "std = np.std(results)\n",
        "\n",
        "print(f\"Accuracy on TinySST dev set: {mean} +/- {std}\")\n",
        "elapsed_time = timeit.default_timer() - start_time\n",
        "print(f\"Time elapsed: {elapsed_time} seconds\")"
      ],
      "execution_count": 17,
      "outputs": [
        {
          "output_type": "stream",
          "text": [
            "10/29/2020 20:55:00 - INFO - __main__ -   Process device: cuda:0, n_gpu: 1\n",
            "10/29/2020 20:55:00 - INFO - __main__ -   Training/evaluation parameters TrainingArguments(output_dir='./output/tinySST-1234', overwrite_output_dir=True, do_train=True, do_eval=False, do_predict=False, evaluate_during_training=False, evaluation_strategy=<EvaluationStrategy.NO: 'no'>, prediction_loss_only=False, per_device_train_batch_size=32, per_device_eval_batch_size=8, per_gpu_train_batch_size=None, per_gpu_eval_batch_size=None, gradient_accumulation_steps=1, eval_accumulation_steps=None, learning_rate=2e-05, weight_decay=0.0, adam_beta1=0.9, adam_beta2=0.999, adam_epsilon=1e-08, max_grad_norm=1.0, num_train_epochs=3.0, max_steps=-1, warmup_steps=0, logging_dir='runs/Oct29_20-55-00_b9ceaa718d3b', logging_first_step=False, logging_steps=500, save_steps=500, save_total_limit=None, no_cuda=False, seed=1234, fp16=False, fp16_opt_level='O1', local_rank=-1, tpu_num_cores=None, tpu_metrics_debug=False, debug=False, dataloader_drop_last=False, eval_steps=500, dataloader_num_workers=0, past_index=-1, run_name='./output/tinySST-1234', disable_tqdm=False, remove_unused_columns=True, label_names=None, load_best_model_at_end=False, metric_for_best_model=None, greater_is_better=None)\n",
            "Some weights of the model checkpoint at bert-base-cased were not used when initializing BertForSequenceClassification: ['cls.predictions.bias', 'cls.predictions.transform.dense.weight', 'cls.predictions.transform.dense.bias', 'cls.predictions.decoder.weight', 'cls.seq_relationship.weight', 'cls.seq_relationship.bias', 'cls.predictions.transform.LayerNorm.weight', 'cls.predictions.transform.LayerNorm.bias']\n",
            "- This IS expected if you are initializing BertForSequenceClassification from the checkpoint of a model trained on another task or with another architecture (e.g. initializing a BertForSequenceClassification model from a BertForPretraining model).\n",
            "- This IS NOT expected if you are initializing BertForSequenceClassification from the checkpoint of a model that you expect to be exactly identical (initializing a BertForSequenceClassification model from a BertForSequenceClassification model).\n",
            "Some weights of BertForSequenceClassification were not initialized from the model checkpoint at bert-base-cased and are newly initialized: ['classifier.weight', 'classifier.bias']\n",
            "You should probably TRAIN this model on a down-stream task to be able to use it for predictions and inference.\n",
            "10/29/2020 20:55:13 - INFO - filelock -   Lock 140222344408984 acquired on ./data_cache/finetuning/tinySST/cached_train_BertTokenizer_128_sst-2.lock\n",
            "10/29/2020 20:55:13 - INFO - filelock -   Lock 140222344408984 released on ./data_cache/finetuning/tinySST/cached_train_BertTokenizer_128_sst-2.lock\n"
          ],
          "name": "stderr"
        },
        {
          "output_type": "display_data",
          "data": {
            "text/html": [
              "\n",
              "    <div>\n",
              "        <style>\n",
              "            /* Turns off some styling */\n",
              "            progress {\n",
              "                /* gets rid of default border in Firefox and Opera. */\n",
              "                border: none;\n",
              "                /* Needs to be in here for Safari polyfill so background images work as expected. */\n",
              "                background-size: auto;\n",
              "            }\n",
              "        </style>\n",
              "      \n",
              "      <progress value='3' max='3' style='width:300px; height:20px; vertical-align: middle;'></progress>\n",
              "      [3/3 00:00, Epoch 3/3]\n",
              "    </div>\n",
              "    <table border=\"1\" class=\"dataframe\">\n",
              "  <thead>\n",
              "    <tr style=\"text-align: left;\">\n",
              "      <th>Step</th>\n",
              "      <th>Training Loss</th>\n",
              "    </tr>\n",
              "  </thead>\n",
              "  <tbody>\n",
              "  </tbody>\n",
              "</table><p>"
            ],
            "text/plain": [
              "<IPython.core.display.HTML object>"
            ]
          },
          "metadata": {
            "tags": []
          }
        },
        {
          "output_type": "stream",
          "text": [
            "10/29/2020 20:55:16 - INFO - __main__ -   Process device: cuda:0, n_gpu: 1\n",
            "10/29/2020 20:55:16 - INFO - __main__ -   Training/evaluation parameters TrainingArguments(output_dir='./output/tinySST-2341', overwrite_output_dir=True, do_train=True, do_eval=False, do_predict=False, evaluate_during_training=False, evaluation_strategy=<EvaluationStrategy.NO: 'no'>, prediction_loss_only=False, per_device_train_batch_size=32, per_device_eval_batch_size=8, per_gpu_train_batch_size=None, per_gpu_eval_batch_size=None, gradient_accumulation_steps=1, eval_accumulation_steps=None, learning_rate=2e-05, weight_decay=0.0, adam_beta1=0.9, adam_beta2=0.999, adam_epsilon=1e-08, max_grad_norm=1.0, num_train_epochs=3.0, max_steps=-1, warmup_steps=0, logging_dir='runs/Oct29_20-55-16_b9ceaa718d3b', logging_first_step=False, logging_steps=500, save_steps=500, save_total_limit=None, no_cuda=False, seed=2341, fp16=False, fp16_opt_level='O1', local_rank=-1, tpu_num_cores=None, tpu_metrics_debug=False, debug=False, dataloader_drop_last=False, eval_steps=500, dataloader_num_workers=0, past_index=-1, run_name='./output/tinySST-2341', disable_tqdm=False, remove_unused_columns=True, label_names=None, load_best_model_at_end=False, metric_for_best_model=None, greater_is_better=None)\n",
            "Some weights of the model checkpoint at bert-base-cased were not used when initializing BertForSequenceClassification: ['cls.predictions.bias', 'cls.predictions.transform.dense.weight', 'cls.predictions.transform.dense.bias', 'cls.predictions.decoder.weight', 'cls.seq_relationship.weight', 'cls.seq_relationship.bias', 'cls.predictions.transform.LayerNorm.weight', 'cls.predictions.transform.LayerNorm.bias']\n",
            "- This IS expected if you are initializing BertForSequenceClassification from the checkpoint of a model trained on another task or with another architecture (e.g. initializing a BertForSequenceClassification model from a BertForPretraining model).\n",
            "- This IS NOT expected if you are initializing BertForSequenceClassification from the checkpoint of a model that you expect to be exactly identical (initializing a BertForSequenceClassification model from a BertForSequenceClassification model).\n",
            "Some weights of BertForSequenceClassification were not initialized from the model checkpoint at bert-base-cased and are newly initialized: ['classifier.weight', 'classifier.bias']\n",
            "You should probably TRAIN this model on a down-stream task to be able to use it for predictions and inference.\n",
            "10/29/2020 20:55:20 - INFO - filelock -   Lock 140222311138416 acquired on ./data_cache/finetuning/tinySST/cached_train_BertTokenizer_128_sst-2.lock\n",
            "10/29/2020 20:55:20 - INFO - filelock -   Lock 140222311138416 released on ./data_cache/finetuning/tinySST/cached_train_BertTokenizer_128_sst-2.lock\n"
          ],
          "name": "stderr"
        },
        {
          "output_type": "display_data",
          "data": {
            "text/html": [
              "\n",
              "    <div>\n",
              "        <style>\n",
              "            /* Turns off some styling */\n",
              "            progress {\n",
              "                /* gets rid of default border in Firefox and Opera. */\n",
              "                border: none;\n",
              "                /* Needs to be in here for Safari polyfill so background images work as expected. */\n",
              "                background-size: auto;\n",
              "            }\n",
              "        </style>\n",
              "      \n",
              "      <progress value='3' max='3' style='width:300px; height:20px; vertical-align: middle;'></progress>\n",
              "      [3/3 00:00, Epoch 3/3]\n",
              "    </div>\n",
              "    <table border=\"1\" class=\"dataframe\">\n",
              "  <thead>\n",
              "    <tr style=\"text-align: left;\">\n",
              "      <th>Step</th>\n",
              "      <th>Training Loss</th>\n",
              "    </tr>\n",
              "  </thead>\n",
              "  <tbody>\n",
              "  </tbody>\n",
              "</table><p>"
            ],
            "text/plain": [
              "<IPython.core.display.HTML object>"
            ]
          },
          "metadata": {
            "tags": []
          }
        },
        {
          "output_type": "stream",
          "text": [
            "10/29/2020 20:55:23 - INFO - __main__ -   Process device: cuda:0, n_gpu: 1\n",
            "10/29/2020 20:55:23 - INFO - __main__ -   Training/evaluation parameters TrainingArguments(output_dir='./output/tinySST-3412', overwrite_output_dir=True, do_train=True, do_eval=False, do_predict=False, evaluate_during_training=False, evaluation_strategy=<EvaluationStrategy.NO: 'no'>, prediction_loss_only=False, per_device_train_batch_size=32, per_device_eval_batch_size=8, per_gpu_train_batch_size=None, per_gpu_eval_batch_size=None, gradient_accumulation_steps=1, eval_accumulation_steps=None, learning_rate=2e-05, weight_decay=0.0, adam_beta1=0.9, adam_beta2=0.999, adam_epsilon=1e-08, max_grad_norm=1.0, num_train_epochs=3.0, max_steps=-1, warmup_steps=0, logging_dir='runs/Oct29_20-55-23_b9ceaa718d3b', logging_first_step=False, logging_steps=500, save_steps=500, save_total_limit=None, no_cuda=False, seed=3412, fp16=False, fp16_opt_level='O1', local_rank=-1, tpu_num_cores=None, tpu_metrics_debug=False, debug=False, dataloader_drop_last=False, eval_steps=500, dataloader_num_workers=0, past_index=-1, run_name='./output/tinySST-3412', disable_tqdm=False, remove_unused_columns=True, label_names=None, load_best_model_at_end=False, metric_for_best_model=None, greater_is_better=None)\n",
            "Some weights of the model checkpoint at bert-base-cased were not used when initializing BertForSequenceClassification: ['cls.predictions.bias', 'cls.predictions.transform.dense.weight', 'cls.predictions.transform.dense.bias', 'cls.predictions.decoder.weight', 'cls.seq_relationship.weight', 'cls.seq_relationship.bias', 'cls.predictions.transform.LayerNorm.weight', 'cls.predictions.transform.LayerNorm.bias']\n",
            "- This IS expected if you are initializing BertForSequenceClassification from the checkpoint of a model trained on another task or with another architecture (e.g. initializing a BertForSequenceClassification model from a BertForPretraining model).\n",
            "- This IS NOT expected if you are initializing BertForSequenceClassification from the checkpoint of a model that you expect to be exactly identical (initializing a BertForSequenceClassification model from a BertForSequenceClassification model).\n",
            "Some weights of BertForSequenceClassification were not initialized from the model checkpoint at bert-base-cased and are newly initialized: ['classifier.weight', 'classifier.bias']\n",
            "You should probably TRAIN this model on a down-stream task to be able to use it for predictions and inference.\n",
            "10/29/2020 20:55:27 - INFO - filelock -   Lock 140222319940216 acquired on ./data_cache/finetuning/tinySST/cached_train_BertTokenizer_128_sst-2.lock\n",
            "10/29/2020 20:55:27 - INFO - filelock -   Lock 140222319940216 released on ./data_cache/finetuning/tinySST/cached_train_BertTokenizer_128_sst-2.lock\n"
          ],
          "name": "stderr"
        },
        {
          "output_type": "display_data",
          "data": {
            "text/html": [
              "\n",
              "    <div>\n",
              "        <style>\n",
              "            /* Turns off some styling */\n",
              "            progress {\n",
              "                /* gets rid of default border in Firefox and Opera. */\n",
              "                border: none;\n",
              "                /* Needs to be in here for Safari polyfill so background images work as expected. */\n",
              "                background-size: auto;\n",
              "            }\n",
              "        </style>\n",
              "      \n",
              "      <progress value='3' max='3' style='width:300px; height:20px; vertical-align: middle;'></progress>\n",
              "      [3/3 00:00, Epoch 3/3]\n",
              "    </div>\n",
              "    <table border=\"1\" class=\"dataframe\">\n",
              "  <thead>\n",
              "    <tr style=\"text-align: left;\">\n",
              "      <th>Step</th>\n",
              "      <th>Training Loss</th>\n",
              "    </tr>\n",
              "  </thead>\n",
              "  <tbody>\n",
              "  </tbody>\n",
              "</table><p>"
            ],
            "text/plain": [
              "<IPython.core.display.HTML object>"
            ]
          },
          "metadata": {
            "tags": []
          }
        },
        {
          "output_type": "stream",
          "text": [
            "10/29/2020 20:55:30 - INFO - __main__ -   Process device: cuda:0, n_gpu: 1\n",
            "10/29/2020 20:55:30 - INFO - __main__ -   Training/evaluation parameters TrainingArguments(output_dir='./output/tinySST-4123', overwrite_output_dir=True, do_train=True, do_eval=False, do_predict=False, evaluate_during_training=False, evaluation_strategy=<EvaluationStrategy.NO: 'no'>, prediction_loss_only=False, per_device_train_batch_size=32, per_device_eval_batch_size=8, per_gpu_train_batch_size=None, per_gpu_eval_batch_size=None, gradient_accumulation_steps=1, eval_accumulation_steps=None, learning_rate=2e-05, weight_decay=0.0, adam_beta1=0.9, adam_beta2=0.999, adam_epsilon=1e-08, max_grad_norm=1.0, num_train_epochs=3.0, max_steps=-1, warmup_steps=0, logging_dir='runs/Oct29_20-55-30_b9ceaa718d3b', logging_first_step=False, logging_steps=500, save_steps=500, save_total_limit=None, no_cuda=False, seed=4123, fp16=False, fp16_opt_level='O1', local_rank=-1, tpu_num_cores=None, tpu_metrics_debug=False, debug=False, dataloader_drop_last=False, eval_steps=500, dataloader_num_workers=0, past_index=-1, run_name='./output/tinySST-4123', disable_tqdm=False, remove_unused_columns=True, label_names=None, load_best_model_at_end=False, metric_for_best_model=None, greater_is_better=None)\n",
            "Some weights of the model checkpoint at bert-base-cased were not used when initializing BertForSequenceClassification: ['cls.predictions.bias', 'cls.predictions.transform.dense.weight', 'cls.predictions.transform.dense.bias', 'cls.predictions.decoder.weight', 'cls.seq_relationship.weight', 'cls.seq_relationship.bias', 'cls.predictions.transform.LayerNorm.weight', 'cls.predictions.transform.LayerNorm.bias']\n",
            "- This IS expected if you are initializing BertForSequenceClassification from the checkpoint of a model trained on another task or with another architecture (e.g. initializing a BertForSequenceClassification model from a BertForPretraining model).\n",
            "- This IS NOT expected if you are initializing BertForSequenceClassification from the checkpoint of a model that you expect to be exactly identical (initializing a BertForSequenceClassification model from a BertForSequenceClassification model).\n",
            "Some weights of BertForSequenceClassification were not initialized from the model checkpoint at bert-base-cased and are newly initialized: ['classifier.weight', 'classifier.bias']\n",
            "You should probably TRAIN this model on a down-stream task to be able to use it for predictions and inference.\n",
            "10/29/2020 20:55:35 - INFO - filelock -   Lock 140222311138304 acquired on ./data_cache/finetuning/tinySST/cached_train_BertTokenizer_128_sst-2.lock\n",
            "10/29/2020 20:55:35 - INFO - filelock -   Lock 140222311138304 released on ./data_cache/finetuning/tinySST/cached_train_BertTokenizer_128_sst-2.lock\n"
          ],
          "name": "stderr"
        },
        {
          "output_type": "display_data",
          "data": {
            "text/html": [
              "\n",
              "    <div>\n",
              "        <style>\n",
              "            /* Turns off some styling */\n",
              "            progress {\n",
              "                /* gets rid of default border in Firefox and Opera. */\n",
              "                border: none;\n",
              "                /* Needs to be in here for Safari polyfill so background images work as expected. */\n",
              "                background-size: auto;\n",
              "            }\n",
              "        </style>\n",
              "      \n",
              "      <progress value='3' max='3' style='width:300px; height:20px; vertical-align: middle;'></progress>\n",
              "      [3/3 00:00, Epoch 3/3]\n",
              "    </div>\n",
              "    <table border=\"1\" class=\"dataframe\">\n",
              "  <thead>\n",
              "    <tr style=\"text-align: left;\">\n",
              "      <th>Step</th>\n",
              "      <th>Training Loss</th>\n",
              "    </tr>\n",
              "  </thead>\n",
              "  <tbody>\n",
              "  </tbody>\n",
              "</table><p>"
            ],
            "text/plain": [
              "<IPython.core.display.HTML object>"
            ]
          },
          "metadata": {
            "tags": []
          }
        },
        {
          "output_type": "stream",
          "text": [
            "10/29/2020 20:55:38 - INFO - __main__ -   Process device: cuda:0, n_gpu: 1\n",
            "10/29/2020 20:55:38 - INFO - __main__ -   Training/evaluation parameters TrainingArguments(output_dir='./output/tinySST-1234', overwrite_output_dir=False, do_train=False, do_eval=True, do_predict=False, evaluate_during_training=False, evaluation_strategy=<EvaluationStrategy.NO: 'no'>, prediction_loss_only=False, per_device_train_batch_size=8, per_device_eval_batch_size=8, per_gpu_train_batch_size=None, per_gpu_eval_batch_size=None, gradient_accumulation_steps=1, eval_accumulation_steps=None, learning_rate=5e-05, weight_decay=0.0, adam_beta1=0.9, adam_beta2=0.999, adam_epsilon=1e-08, max_grad_norm=1.0, num_train_epochs=3.0, max_steps=-1, warmup_steps=0, logging_dir='runs/Oct29_20-55-38_b9ceaa718d3b', logging_first_step=False, logging_steps=500, save_steps=500, save_total_limit=None, no_cuda=False, seed=1234, fp16=False, fp16_opt_level='O1', local_rank=-1, tpu_num_cores=None, tpu_metrics_debug=False, debug=False, dataloader_drop_last=False, eval_steps=500, dataloader_num_workers=0, past_index=-1, run_name='./output/tinySST-1234', disable_tqdm=False, remove_unused_columns=True, label_names=None, load_best_model_at_end=False, metric_for_best_model=None, greater_is_better=None)\n",
            "10/29/2020 20:55:46 - INFO - filelock -   Lock 140222310706032 acquired on ./data_cache/finetuning/tinySST/cached_dev_BertTokenizer_128_sst-2.lock\n",
            "10/29/2020 20:55:47 - INFO - filelock -   Lock 140222310706032 released on ./data_cache/finetuning/tinySST/cached_dev_BertTokenizer_128_sst-2.lock\n",
            "10/29/2020 20:55:47 - INFO - __main__ -   *** Evaluate ***\n"
          ],
          "name": "stderr"
        },
        {
          "output_type": "display_data",
          "data": {
            "text/html": [
              "\n",
              "    <div>\n",
              "        <style>\n",
              "            /* Turns off some styling */\n",
              "            progress {\n",
              "                /* gets rid of default border in Firefox and Opera. */\n",
              "                border: none;\n",
              "                /* Needs to be in here for Safari polyfill so background images work as expected. */\n",
              "                background-size: auto;\n",
              "            }\n",
              "        </style>\n",
              "      \n",
              "      <progress value='109' max='109' style='width:300px; height:20px; vertical-align: middle;'></progress>\n",
              "      [109/109 00:07]\n",
              "    </div>\n",
              "    "
            ],
            "text/plain": [
              "<IPython.core.display.HTML object>"
            ]
          },
          "metadata": {
            "tags": []
          }
        },
        {
          "output_type": "stream",
          "text": [
            "10/29/2020 20:55:54 - INFO - __main__ -   ***** Eval results *****\n",
            "10/29/2020 20:55:54 - INFO - __main__ -     eval_loss = 0.7107002139091492\n",
            "10/29/2020 20:55:54 - INFO - __main__ -     eval_acc = 0.4908256880733945\n",
            "10/29/2020 20:55:55 - INFO - __main__ -   Process device: cuda:0, n_gpu: 1\n",
            "10/29/2020 20:55:55 - INFO - __main__ -   Training/evaluation parameters TrainingArguments(output_dir='./output/tinySST-2341', overwrite_output_dir=False, do_train=False, do_eval=True, do_predict=False, evaluate_during_training=False, evaluation_strategy=<EvaluationStrategy.NO: 'no'>, prediction_loss_only=False, per_device_train_batch_size=8, per_device_eval_batch_size=8, per_gpu_train_batch_size=None, per_gpu_eval_batch_size=None, gradient_accumulation_steps=1, eval_accumulation_steps=None, learning_rate=5e-05, weight_decay=0.0, adam_beta1=0.9, adam_beta2=0.999, adam_epsilon=1e-08, max_grad_norm=1.0, num_train_epochs=3.0, max_steps=-1, warmup_steps=0, logging_dir='runs/Oct29_20-55-55_b9ceaa718d3b', logging_first_step=False, logging_steps=500, save_steps=500, save_total_limit=None, no_cuda=False, seed=2341, fp16=False, fp16_opt_level='O1', local_rank=-1, tpu_num_cores=None, tpu_metrics_debug=False, debug=False, dataloader_drop_last=False, eval_steps=500, dataloader_num_workers=0, past_index=-1, run_name='./output/tinySST-2341', disable_tqdm=False, remove_unused_columns=True, label_names=None, load_best_model_at_end=False, metric_for_best_model=None, greater_is_better=None)\n",
            "10/29/2020 20:55:58 - INFO - filelock -   Lock 140222308547104 acquired on ./data_cache/finetuning/tinySST/cached_dev_BertTokenizer_128_sst-2.lock\n",
            "10/29/2020 20:55:58 - INFO - filelock -   Lock 140222308547104 released on ./data_cache/finetuning/tinySST/cached_dev_BertTokenizer_128_sst-2.lock\n",
            "10/29/2020 20:55:58 - INFO - __main__ -   *** Evaluate ***\n"
          ],
          "name": "stderr"
        },
        {
          "output_type": "display_data",
          "data": {
            "text/html": [
              "\n",
              "    <div>\n",
              "        <style>\n",
              "            /* Turns off some styling */\n",
              "            progress {\n",
              "                /* gets rid of default border in Firefox and Opera. */\n",
              "                border: none;\n",
              "                /* Needs to be in here for Safari polyfill so background images work as expected. */\n",
              "                background-size: auto;\n",
              "            }\n",
              "        </style>\n",
              "      \n",
              "      <progress value='109' max='109' style='width:300px; height:20px; vertical-align: middle;'></progress>\n",
              "      [109/109 00:07]\n",
              "    </div>\n",
              "    "
            ],
            "text/plain": [
              "<IPython.core.display.HTML object>"
            ]
          },
          "metadata": {
            "tags": []
          }
        },
        {
          "output_type": "stream",
          "text": [
            "10/29/2020 20:56:06 - INFO - __main__ -   ***** Eval results *****\n",
            "10/29/2020 20:56:06 - INFO - __main__ -     eval_loss = 0.6663320660591125\n",
            "10/29/2020 20:56:06 - INFO - __main__ -     eval_acc = 0.6055045871559633\n",
            "10/29/2020 20:56:06 - INFO - __main__ -   Process device: cuda:0, n_gpu: 1\n",
            "10/29/2020 20:56:06 - INFO - __main__ -   Training/evaluation parameters TrainingArguments(output_dir='./output/tinySST-3412', overwrite_output_dir=False, do_train=False, do_eval=True, do_predict=False, evaluate_during_training=False, evaluation_strategy=<EvaluationStrategy.NO: 'no'>, prediction_loss_only=False, per_device_train_batch_size=8, per_device_eval_batch_size=8, per_gpu_train_batch_size=None, per_gpu_eval_batch_size=None, gradient_accumulation_steps=1, eval_accumulation_steps=None, learning_rate=5e-05, weight_decay=0.0, adam_beta1=0.9, adam_beta2=0.999, adam_epsilon=1e-08, max_grad_norm=1.0, num_train_epochs=3.0, max_steps=-1, warmup_steps=0, logging_dir='runs/Oct29_20-56-06_b9ceaa718d3b', logging_first_step=False, logging_steps=500, save_steps=500, save_total_limit=None, no_cuda=False, seed=3412, fp16=False, fp16_opt_level='O1', local_rank=-1, tpu_num_cores=None, tpu_metrics_debug=False, debug=False, dataloader_drop_last=False, eval_steps=500, dataloader_num_workers=0, past_index=-1, run_name='./output/tinySST-3412', disable_tqdm=False, remove_unused_columns=True, label_names=None, load_best_model_at_end=False, metric_for_best_model=None, greater_is_better=None)\n",
            "10/29/2020 20:56:09 - INFO - filelock -   Lock 140223627868480 acquired on ./data_cache/finetuning/tinySST/cached_dev_BertTokenizer_128_sst-2.lock\n",
            "10/29/2020 20:56:09 - INFO - filelock -   Lock 140223627868480 released on ./data_cache/finetuning/tinySST/cached_dev_BertTokenizer_128_sst-2.lock\n",
            "10/29/2020 20:56:09 - INFO - __main__ -   *** Evaluate ***\n"
          ],
          "name": "stderr"
        },
        {
          "output_type": "display_data",
          "data": {
            "text/html": [
              "\n",
              "    <div>\n",
              "        <style>\n",
              "            /* Turns off some styling */\n",
              "            progress {\n",
              "                /* gets rid of default border in Firefox and Opera. */\n",
              "                border: none;\n",
              "                /* Needs to be in here for Safari polyfill so background images work as expected. */\n",
              "                background-size: auto;\n",
              "            }\n",
              "        </style>\n",
              "      \n",
              "      <progress value='109' max='109' style='width:300px; height:20px; vertical-align: middle;'></progress>\n",
              "      [109/109 00:07]\n",
              "    </div>\n",
              "    "
            ],
            "text/plain": [
              "<IPython.core.display.HTML object>"
            ]
          },
          "metadata": {
            "tags": []
          }
        },
        {
          "output_type": "stream",
          "text": [
            "10/29/2020 20:56:17 - INFO - __main__ -   ***** Eval results *****\n",
            "10/29/2020 20:56:17 - INFO - __main__ -     eval_loss = 0.7271910309791565\n",
            "10/29/2020 20:56:17 - INFO - __main__ -     eval_acc = 0.5091743119266054\n",
            "10/29/2020 20:56:17 - INFO - __main__ -   Process device: cuda:0, n_gpu: 1\n",
            "10/29/2020 20:56:17 - INFO - __main__ -   Training/evaluation parameters TrainingArguments(output_dir='./output/tinySST-4123', overwrite_output_dir=False, do_train=False, do_eval=True, do_predict=False, evaluate_during_training=False, evaluation_strategy=<EvaluationStrategy.NO: 'no'>, prediction_loss_only=False, per_device_train_batch_size=8, per_device_eval_batch_size=8, per_gpu_train_batch_size=None, per_gpu_eval_batch_size=None, gradient_accumulation_steps=1, eval_accumulation_steps=None, learning_rate=5e-05, weight_decay=0.0, adam_beta1=0.9, adam_beta2=0.999, adam_epsilon=1e-08, max_grad_norm=1.0, num_train_epochs=3.0, max_steps=-1, warmup_steps=0, logging_dir='runs/Oct29_20-56-17_b9ceaa718d3b', logging_first_step=False, logging_steps=500, save_steps=500, save_total_limit=None, no_cuda=False, seed=4123, fp16=False, fp16_opt_level='O1', local_rank=-1, tpu_num_cores=None, tpu_metrics_debug=False, debug=False, dataloader_drop_last=False, eval_steps=500, dataloader_num_workers=0, past_index=-1, run_name='./output/tinySST-4123', disable_tqdm=False, remove_unused_columns=True, label_names=None, load_best_model_at_end=False, metric_for_best_model=None, greater_is_better=None)\n",
            "10/29/2020 20:56:20 - INFO - filelock -   Lock 140222344408424 acquired on ./data_cache/finetuning/tinySST/cached_dev_BertTokenizer_128_sst-2.lock\n",
            "10/29/2020 20:56:20 - INFO - filelock -   Lock 140222344408424 released on ./data_cache/finetuning/tinySST/cached_dev_BertTokenizer_128_sst-2.lock\n",
            "10/29/2020 20:56:21 - INFO - __main__ -   *** Evaluate ***\n"
          ],
          "name": "stderr"
        },
        {
          "output_type": "display_data",
          "data": {
            "text/html": [
              "\n",
              "    <div>\n",
              "        <style>\n",
              "            /* Turns off some styling */\n",
              "            progress {\n",
              "                /* gets rid of default border in Firefox and Opera. */\n",
              "                border: none;\n",
              "                /* Needs to be in here for Safari polyfill so background images work as expected. */\n",
              "                background-size: auto;\n",
              "            }\n",
              "        </style>\n",
              "      \n",
              "      <progress value='109' max='109' style='width:300px; height:20px; vertical-align: middle;'></progress>\n",
              "      [109/109 00:08]\n",
              "    </div>\n",
              "    "
            ],
            "text/plain": [
              "<IPython.core.display.HTML object>"
            ]
          },
          "metadata": {
            "tags": []
          }
        },
        {
          "output_type": "stream",
          "text": [
            "10/29/2020 20:56:29 - INFO - __main__ -   ***** Eval results *****\n",
            "10/29/2020 20:56:29 - INFO - __main__ -     eval_loss = 0.7042181491851807\n",
            "10/29/2020 20:56:29 - INFO - __main__ -     eval_acc = 0.39105504587155965\n"
          ],
          "name": "stderr"
        },
        {
          "output_type": "stream",
          "text": [
            "Accuracy on TinySST dev set: 0.4991399082568807 +/- 0.07610124491167214\n",
            "Time elapsed: 88.396469293 seconds\n"
          ],
          "name": "stdout"
        }
      ]
    },
    {
      "cell_type": "markdown",
      "metadata": {
        "id": "osgAYIVflUPy"
      },
      "source": [
        "### Question 3.1 (10 points)\n",
        "These default fine-tuning hyperparameters are not optimal for such a small dataset. Some recent work has proposed simple tweaks to improve training stability and model performance in these settings [(Mosbach et al, 2020](https://arxiv.org/pdf/2006.04884.pdf), [Zhang et al., 2020)](https://arxiv.org/pdf/2006.05987.pdf). After looking through these papers, make some modifications to the arguments of the training command in the below cell (which currently just contains the previous cell's code) that result in a higher mean accuracy and a lower standard deviation than what we observed above. "
      ]
    },
    {
      "cell_type": "code",
      "metadata": {
        "id": "_wfGYwBlkPTv"
      },
      "source": [
        "start_time = timeit.default_timer()\n",
        "task_name = \"SST\"\n",
        "data_dir = f\"./data/tiny{task_name}\"\n",
        "model_name_or_path = \"bert-base-cased\"\n",
        "model_cache_dir = os.path.join(pretrained_models_dir, model_name_or_path)\n",
        "data_cache_dir = f\"./data_cache/finetuning/tiny{task_name}\"\n",
        "\n",
        "# Fine-tune BERT with your hyperparameters using 4 random seeds\n",
        "for seed in [1234, 2341, 3412, 4123]:\n",
        "  output_dir = f\"./output/tiny{task_name}-{seed}\"\n",
        "\n",
        "  ### CHANGE ONLY THE ARGUMENTS TO THE BELOW FUNCTION\n",
        "  do_target_task_finetuning(\n",
        "      seed=seed,\n",
        "      model_name_or_path=model_name_or_path,\n",
        "      task_name=f\"{task_name}-2\",\n",
        "      task_type=\"text_classification\",\n",
        "      do_train=True,\n",
        "      do_eval=False, \n",
        "      do_lower_case=True,\n",
        "      data_dir=data_dir,\n",
        "      max_seq_length=256,\n",
        "      per_device_train_batch_size=32,\n",
        "      learning_rate=2e-5,\n",
        "      num_train_epochs=3.0,\n",
        "      model_cache_dir=model_cache_dir,\n",
        "      data_cache_dir=data_cache_dir,\n",
        "      output_dir=output_dir,\n",
        "      overwrite_output_dir=True\n",
        "  )\n",
        "\n",
        "# Evaluate BERT on the dev set\n",
        "results = []\n",
        "for seed in [1234, 2341, 3412, 4123]:\n",
        "  model_dir = f\"./output/tiny{task_name}-{seed}\"\n",
        "  result = do_target_task_finetuning(\n",
        "      seed=seed,\n",
        "      model_name_or_path=model_dir,\n",
        "      task_name=f\"{task_name}-2\",\n",
        "      task_type=\"text_classification\",\n",
        "      do_train=False,\n",
        "      do_eval=True, \n",
        "      do_lower_case=True,\n",
        "      data_dir=data_dir,\n",
        "      max_seq_length=128,\n",
        "      model_cache_dir=model_cache_dir,\n",
        "      data_cache_dir=data_cache_dir,\n",
        "      output_dir=model_dir\n",
        "  )\n",
        "  results.append(result[\"eval_acc\"])\n",
        "\n",
        "results = np.array(results)\n",
        "mean = np.mean(results)\n",
        "std = np.std(results)\n",
        "\n",
        "print(f\"Accuracy on TinySST dev set: {mean} +/- {std}\")\n",
        "elapsed_time = timeit.default_timer() - start_time\n",
        "print(f\"Time elapsed: {elapsed_time} seconds\")"
      ],
      "execution_count": null,
      "outputs": []
    },
    {
      "cell_type": "markdown",
      "metadata": {
        "id": "5D7XfZ30yjSB"
      },
      "source": [
        "### Question 3.2 (5 points)\n",
        "Explain the changes that you made and provide some justification as to why they resulted in an improvement over the default hyperparameters."
      ]
    },
    {
      "cell_type": "markdown",
      "metadata": {
        "id": "ho_V4XYhnfE8"
      },
      "source": [
        "**Write your answer here!** Please keep it brief (i.e., 2-3 sentence)\n",
        "\n"
      ]
    },
    {
      "cell_type": "markdown",
      "metadata": {
        "id": "9oyoLZFCgINA"
      },
      "source": [
        "## Intermediate task fine-tuning\n",
        " [Phang et al. (2019)](https://arxiv.org/pdf/1811.01088.pdf) proposed the paradigm of *intermediate-task fine-tuning*: first, fine-tune `BERT` on an intermediate task, and then fine-tune the resulting model on the target task. They showed that using data-rich supervised tasks as intermediate tasks can substantially improve `BERT`'s performance on the target task. However, the conditions for successful intermediate-task fine-tuning (i.e., which tasks make good intermediate tasks) remain unclear. [Pruksachatkun et al. 2020](https://arxiv.org/pdf/2005.00628.pdf) observe that intermediate tasks that require high-level inference and reasoning abilities tend to work best, while [Vu et al. 2020](https://arxiv.org/pdf/2005.00770.pdf) indicate that the similarity between the intermediate task and the target task is crucial for successful intermediate-task fine-tuning."
      ]
    },
    {
      "cell_type": "markdown",
      "metadata": {
        "id": "OUTbAhzJkqsz"
      },
      "source": [
        "In this question, we will use intermediate fine-tuning to improve our `tinySST` accuracy by first fine-tuning `BERT` on a data-rich supervised task. Here, we'll consider two tasks: natural language inference via the `MNLI` dataset [(Williams et al., 2018)](https://www.aclweb.org/anthology/N18-1101.pdf), which has 393K training examples, and `Yelp Review Full` [(Zhang et al., 2015)](https://arxiv.org/pdf/1509.01626.pdf), which is a 5-way sentiment classification task that has 650K training examples.\n",
        "\n",
        "Since fine-tuning `BERT` on these datasets takes several hours, we will provide you with trained models to save your time. Run the following cell to download the models."
      ]
    },
    {
      "cell_type": "code",
      "metadata": {
        "id": "V3nhZVYsdfOg",
        "outputId": "501eda46-4725-4bf2-b0e3-53aabd6be547",
        "colab": {
          "base_uri": "https://localhost:8080/",
          "height": 564
        }
      },
      "source": [
        "data_file = drive.CreateFile({'id': '1BGJYmTEq7PLmree42MfFsvYdDQPLaNR1'})\n",
        "data_file.GetContentFile('bert-base-cased-finetuned-mnli.zip')\n",
        "\n",
        "# Extract the data from the zipfile and put it into the data directory\n",
        "with zipfile.ZipFile('bert-base-cased-finetuned-mnli.zip', 'r') as zip_file:\n",
        "    zip_file.extractall(pretrained_models_dir)\n",
        "os.remove('bert-base-cased-finetuned-mnli.zip')\n",
        "print(\"bert-base-cased-finetuned-mnli downloaded!\")\n",
        "\n",
        "data_file = drive.CreateFile({'id': '1stDkJtL9xczoHH-iQnQ9GSZTseLILD-b'})\n",
        "data_file.GetContentFile('bert-base-cased-finetuned-yelp.zip')\n",
        "\n",
        "# Extract the data from the zipfile and put it into the data directory\n",
        "with zipfile.ZipFile('bert-base-cased-finetuned-yelp.zip', 'r') as zip_file:\n",
        "    zip_file.extractall(pretrained_models_dir)\n",
        "os.remove('bert-base-cased-finetuned-yelp.zip')\n",
        "print(\"bert-base-cased-finetuned-yelp downloaded!\")"
      ],
      "execution_count": 71,
      "outputs": [
        {
          "output_type": "stream",
          "text": [
            "10/29/2020 22:46:58 - INFO - oauth2client.client -   access_token is expired. Now: 2020-10-29 22:46:58.804585, token_expiry: 2020-10-29 21:48:23.612318\n"
          ],
          "name": "stderr"
        },
        {
          "output_type": "error",
          "ename": "InvalidConfigError",
          "evalue": "ignored",
          "traceback": [
            "\u001b[0;31m---------------------------------------------------------------------------\u001b[0m",
            "\u001b[0;31mFileNotFoundError\u001b[0m                         Traceback (most recent call last)",
            "\u001b[0;32m/usr/local/lib/python3.6/dist-packages/oauth2client/clientsecrets.py\u001b[0m in \u001b[0;36m_loadfile\u001b[0;34m(filename)\u001b[0m\n\u001b[1;32m    120\u001b[0m     \u001b[0;32mtry\u001b[0m\u001b[0;34m:\u001b[0m\u001b[0;34m\u001b[0m\u001b[0;34m\u001b[0m\u001b[0m\n\u001b[0;32m--> 121\u001b[0;31m         \u001b[0;32mwith\u001b[0m \u001b[0mopen\u001b[0m\u001b[0;34m(\u001b[0m\u001b[0mfilename\u001b[0m\u001b[0;34m,\u001b[0m \u001b[0;34m'r'\u001b[0m\u001b[0;34m)\u001b[0m \u001b[0;32mas\u001b[0m \u001b[0mfp\u001b[0m\u001b[0;34m:\u001b[0m\u001b[0;34m\u001b[0m\u001b[0;34m\u001b[0m\u001b[0m\n\u001b[0m\u001b[1;32m    122\u001b[0m             \u001b[0mobj\u001b[0m \u001b[0;34m=\u001b[0m \u001b[0mjson\u001b[0m\u001b[0;34m.\u001b[0m\u001b[0mload\u001b[0m\u001b[0;34m(\u001b[0m\u001b[0mfp\u001b[0m\u001b[0;34m)\u001b[0m\u001b[0;34m\u001b[0m\u001b[0;34m\u001b[0m\u001b[0m\n",
            "\u001b[0;31mFileNotFoundError\u001b[0m: [Errno 2] No such file or directory: 'client_secrets.json'",
            "\nDuring handling of the above exception, another exception occurred:\n",
            "\u001b[0;31mInvalidClientSecretsError\u001b[0m                 Traceback (most recent call last)",
            "\u001b[0;32m/usr/local/lib/python3.6/dist-packages/pydrive/auth.py\u001b[0m in \u001b[0;36mLoadClientConfigFile\u001b[0;34m(self, client_config_file)\u001b[0m\n\u001b[1;32m    385\u001b[0m     \u001b[0;32mtry\u001b[0m\u001b[0;34m:\u001b[0m\u001b[0;34m\u001b[0m\u001b[0;34m\u001b[0m\u001b[0m\n\u001b[0;32m--> 386\u001b[0;31m       \u001b[0mclient_type\u001b[0m\u001b[0;34m,\u001b[0m \u001b[0mclient_info\u001b[0m \u001b[0;34m=\u001b[0m \u001b[0mclientsecrets\u001b[0m\u001b[0;34m.\u001b[0m\u001b[0mloadfile\u001b[0m\u001b[0;34m(\u001b[0m\u001b[0mclient_config_file\u001b[0m\u001b[0;34m)\u001b[0m\u001b[0;34m\u001b[0m\u001b[0;34m\u001b[0m\u001b[0m\n\u001b[0m\u001b[1;32m    387\u001b[0m     \u001b[0;32mexcept\u001b[0m \u001b[0mclientsecrets\u001b[0m\u001b[0;34m.\u001b[0m\u001b[0mInvalidClientSecretsError\u001b[0m \u001b[0;32mas\u001b[0m \u001b[0merror\u001b[0m\u001b[0;34m:\u001b[0m\u001b[0;34m\u001b[0m\u001b[0;34m\u001b[0m\u001b[0m\n",
            "\u001b[0;32m/usr/local/lib/python3.6/dist-packages/oauth2client/clientsecrets.py\u001b[0m in \u001b[0;36mloadfile\u001b[0;34m(filename, cache)\u001b[0m\n\u001b[1;32m    164\u001b[0m     \u001b[0;32mif\u001b[0m \u001b[0;32mnot\u001b[0m \u001b[0mcache\u001b[0m\u001b[0;34m:\u001b[0m\u001b[0;34m\u001b[0m\u001b[0;34m\u001b[0m\u001b[0m\n\u001b[0;32m--> 165\u001b[0;31m         \u001b[0;32mreturn\u001b[0m \u001b[0m_loadfile\u001b[0m\u001b[0;34m(\u001b[0m\u001b[0mfilename\u001b[0m\u001b[0;34m)\u001b[0m\u001b[0;34m\u001b[0m\u001b[0;34m\u001b[0m\u001b[0m\n\u001b[0m\u001b[1;32m    166\u001b[0m \u001b[0;34m\u001b[0m\u001b[0m\n",
            "\u001b[0;32m/usr/local/lib/python3.6/dist-packages/oauth2client/clientsecrets.py\u001b[0m in \u001b[0;36m_loadfile\u001b[0;34m(filename)\u001b[0m\n\u001b[1;32m    124\u001b[0m         raise InvalidClientSecretsError('Error opening file', exc.filename,\n\u001b[0;32m--> 125\u001b[0;31m                                         exc.strerror, exc.errno)\n\u001b[0m\u001b[1;32m    126\u001b[0m     \u001b[0;32mreturn\u001b[0m \u001b[0m_validate_clientsecrets\u001b[0m\u001b[0;34m(\u001b[0m\u001b[0mobj\u001b[0m\u001b[0;34m)\u001b[0m\u001b[0;34m\u001b[0m\u001b[0;34m\u001b[0m\u001b[0m\n",
            "\u001b[0;31mInvalidClientSecretsError\u001b[0m: ('Error opening file', 'client_secrets.json', 'No such file or directory', 2)",
            "\nDuring handling of the above exception, another exception occurred:\n",
            "\u001b[0;31mInvalidConfigError\u001b[0m                        Traceback (most recent call last)",
            "\u001b[0;32m<ipython-input-71-2073ab2315f5>\u001b[0m in \u001b[0;36m<module>\u001b[0;34m()\u001b[0m\n\u001b[1;32m      1\u001b[0m \u001b[0mdata_file\u001b[0m \u001b[0;34m=\u001b[0m \u001b[0mdrive\u001b[0m\u001b[0;34m.\u001b[0m\u001b[0mCreateFile\u001b[0m\u001b[0;34m(\u001b[0m\u001b[0;34m{\u001b[0m\u001b[0;34m'id'\u001b[0m\u001b[0;34m:\u001b[0m \u001b[0;34m'1BGJYmTEq7PLmree42MfFsvYdDQPLaNR1'\u001b[0m\u001b[0;34m}\u001b[0m\u001b[0;34m)\u001b[0m\u001b[0;34m\u001b[0m\u001b[0;34m\u001b[0m\u001b[0m\n\u001b[0;32m----> 2\u001b[0;31m \u001b[0mdata_file\u001b[0m\u001b[0;34m.\u001b[0m\u001b[0mGetContentFile\u001b[0m\u001b[0;34m(\u001b[0m\u001b[0;34m'bert-base-cased-finetuned-mnli.zip'\u001b[0m\u001b[0;34m)\u001b[0m\u001b[0;34m\u001b[0m\u001b[0;34m\u001b[0m\u001b[0m\n\u001b[0m\u001b[1;32m      3\u001b[0m \u001b[0;34m\u001b[0m\u001b[0m\n\u001b[1;32m      4\u001b[0m \u001b[0;31m# Extract the data from the zipfile and put it into the data directory\u001b[0m\u001b[0;34m\u001b[0m\u001b[0;34m\u001b[0m\u001b[0;34m\u001b[0m\u001b[0m\n\u001b[1;32m      5\u001b[0m \u001b[0;32mwith\u001b[0m \u001b[0mzipfile\u001b[0m\u001b[0;34m.\u001b[0m\u001b[0mZipFile\u001b[0m\u001b[0;34m(\u001b[0m\u001b[0;34m'bert-base-cased-finetuned-mnli.zip'\u001b[0m\u001b[0;34m,\u001b[0m \u001b[0;34m'r'\u001b[0m\u001b[0;34m)\u001b[0m \u001b[0;32mas\u001b[0m \u001b[0mzip_file\u001b[0m\u001b[0;34m:\u001b[0m\u001b[0;34m\u001b[0m\u001b[0;34m\u001b[0m\u001b[0m\n",
            "\u001b[0;32m/usr/local/lib/python3.6/dist-packages/pydrive/files.py\u001b[0m in \u001b[0;36mGetContentFile\u001b[0;34m(self, filename, mimetype, remove_bom)\u001b[0m\n\u001b[1;32m    208\u001b[0m                     \u001b[0mtype\u001b[0m\u001b[0;34m(\u001b[0m\u001b[0mself\u001b[0m\u001b[0;34m.\u001b[0m\u001b[0mcontent\u001b[0m\u001b[0;34m)\u001b[0m \u001b[0;32mis\u001b[0m \u001b[0;32mnot\u001b[0m \u001b[0mio\u001b[0m\u001b[0;34m.\u001b[0m\u001b[0mBytesIO\u001b[0m \u001b[0;32mor\u001b[0m\u001b[0;31m \u001b[0m\u001b[0;31m\\\u001b[0m\u001b[0;34m\u001b[0m\u001b[0;34m\u001b[0m\u001b[0m\n\u001b[1;32m    209\u001b[0m                     \u001b[0mself\u001b[0m\u001b[0;34m.\u001b[0m\u001b[0mhas_bom\u001b[0m \u001b[0;34m==\u001b[0m \u001b[0mremove_bom\u001b[0m\u001b[0;34m:\u001b[0m\u001b[0;34m\u001b[0m\u001b[0;34m\u001b[0m\u001b[0m\n\u001b[0;32m--> 210\u001b[0;31m       \u001b[0mself\u001b[0m\u001b[0;34m.\u001b[0m\u001b[0mFetchContent\u001b[0m\u001b[0;34m(\u001b[0m\u001b[0mmimetype\u001b[0m\u001b[0;34m,\u001b[0m \u001b[0mremove_bom\u001b[0m\u001b[0;34m)\u001b[0m\u001b[0;34m\u001b[0m\u001b[0;34m\u001b[0m\u001b[0m\n\u001b[0m\u001b[1;32m    211\u001b[0m     \u001b[0mf\u001b[0m \u001b[0;34m=\u001b[0m \u001b[0mopen\u001b[0m\u001b[0;34m(\u001b[0m\u001b[0mfilename\u001b[0m\u001b[0;34m,\u001b[0m \u001b[0;34m'wb'\u001b[0m\u001b[0;34m)\u001b[0m\u001b[0;34m\u001b[0m\u001b[0;34m\u001b[0m\u001b[0m\n\u001b[1;32m    212\u001b[0m     \u001b[0mf\u001b[0m\u001b[0;34m.\u001b[0m\u001b[0mwrite\u001b[0m\u001b[0;34m(\u001b[0m\u001b[0mself\u001b[0m\u001b[0;34m.\u001b[0m\u001b[0mcontent\u001b[0m\u001b[0;34m.\u001b[0m\u001b[0mgetvalue\u001b[0m\u001b[0;34m(\u001b[0m\u001b[0;34m)\u001b[0m\u001b[0;34m)\u001b[0m\u001b[0;34m\u001b[0m\u001b[0;34m\u001b[0m\u001b[0m\n",
            "\u001b[0;32m/usr/local/lib/python3.6/dist-packages/pydrive/files.py\u001b[0m in \u001b[0;36m_decorated\u001b[0;34m(self, *args, **kwargs)\u001b[0m\n\u001b[1;32m     40\u001b[0m   \u001b[0;32mdef\u001b[0m \u001b[0m_decorated\u001b[0m\u001b[0;34m(\u001b[0m\u001b[0mself\u001b[0m\u001b[0;34m,\u001b[0m \u001b[0;34m*\u001b[0m\u001b[0margs\u001b[0m\u001b[0;34m,\u001b[0m \u001b[0;34m**\u001b[0m\u001b[0mkwargs\u001b[0m\u001b[0;34m)\u001b[0m\u001b[0;34m:\u001b[0m\u001b[0;34m\u001b[0m\u001b[0;34m\u001b[0m\u001b[0m\n\u001b[1;32m     41\u001b[0m     \u001b[0;32mif\u001b[0m \u001b[0;32mnot\u001b[0m \u001b[0mself\u001b[0m\u001b[0;34m.\u001b[0m\u001b[0muploaded\u001b[0m\u001b[0;34m:\u001b[0m\u001b[0;34m\u001b[0m\u001b[0;34m\u001b[0m\u001b[0m\n\u001b[0;32m---> 42\u001b[0;31m       \u001b[0mself\u001b[0m\u001b[0;34m.\u001b[0m\u001b[0mFetchMetadata\u001b[0m\u001b[0;34m(\u001b[0m\u001b[0;34m)\u001b[0m\u001b[0;34m\u001b[0m\u001b[0;34m\u001b[0m\u001b[0m\n\u001b[0m\u001b[1;32m     43\u001b[0m     \u001b[0;32mreturn\u001b[0m \u001b[0mdecoratee\u001b[0m\u001b[0;34m(\u001b[0m\u001b[0mself\u001b[0m\u001b[0;34m,\u001b[0m \u001b[0;34m*\u001b[0m\u001b[0margs\u001b[0m\u001b[0;34m,\u001b[0m \u001b[0;34m**\u001b[0m\u001b[0mkwargs\u001b[0m\u001b[0;34m)\u001b[0m\u001b[0;34m\u001b[0m\u001b[0;34m\u001b[0m\u001b[0m\n\u001b[1;32m     44\u001b[0m   \u001b[0;32mreturn\u001b[0m \u001b[0m_decorated\u001b[0m\u001b[0;34m\u001b[0m\u001b[0;34m\u001b[0m\u001b[0m\n",
            "\u001b[0;32m/usr/local/lib/python3.6/dist-packages/pydrive/auth.py\u001b[0m in \u001b[0;36m_decorated\u001b[0;34m(self, *args, **kwargs)\u001b[0m\n\u001b[1;32m     55\u001b[0m         \u001b[0mself\u001b[0m\u001b[0;34m.\u001b[0m\u001b[0mauth\u001b[0m\u001b[0;34m.\u001b[0m\u001b[0mServiceAuth\u001b[0m\u001b[0;34m(\u001b[0m\u001b[0;34m)\u001b[0m\u001b[0;34m\u001b[0m\u001b[0;34m\u001b[0m\u001b[0m\n\u001b[1;32m     56\u001b[0m       \u001b[0;32melse\u001b[0m\u001b[0;34m:\u001b[0m\u001b[0;34m\u001b[0m\u001b[0;34m\u001b[0m\u001b[0m\n\u001b[0;32m---> 57\u001b[0;31m         \u001b[0mself\u001b[0m\u001b[0;34m.\u001b[0m\u001b[0mauth\u001b[0m\u001b[0;34m.\u001b[0m\u001b[0mLocalWebserverAuth\u001b[0m\u001b[0;34m(\u001b[0m\u001b[0;34m)\u001b[0m\u001b[0;34m\u001b[0m\u001b[0;34m\u001b[0m\u001b[0m\n\u001b[0m\u001b[1;32m     58\u001b[0m \u001b[0;34m\u001b[0m\u001b[0m\n\u001b[1;32m     59\u001b[0m     \u001b[0;31m# Initialise service if not built yet.\u001b[0m\u001b[0;34m\u001b[0m\u001b[0;34m\u001b[0m\u001b[0;34m\u001b[0m\u001b[0m\n",
            "\u001b[0;32m/usr/local/lib/python3.6/dist-packages/pydrive/auth.py\u001b[0m in \u001b[0;36m_decorated\u001b[0;34m(self, *args, **kwargs)\u001b[0m\n\u001b[1;32m    111\u001b[0m       \u001b[0mself\u001b[0m\u001b[0;34m.\u001b[0m\u001b[0mLoadCredentials\u001b[0m\u001b[0;34m(\u001b[0m\u001b[0;34m)\u001b[0m\u001b[0;34m\u001b[0m\u001b[0;34m\u001b[0m\u001b[0m\n\u001b[1;32m    112\u001b[0m     \u001b[0;32mif\u001b[0m \u001b[0mself\u001b[0m\u001b[0;34m.\u001b[0m\u001b[0mflow\u001b[0m \u001b[0;32mis\u001b[0m \u001b[0;32mNone\u001b[0m\u001b[0;34m:\u001b[0m\u001b[0;34m\u001b[0m\u001b[0;34m\u001b[0m\u001b[0m\n\u001b[0;32m--> 113\u001b[0;31m       \u001b[0mself\u001b[0m\u001b[0;34m.\u001b[0m\u001b[0mGetFlow\u001b[0m\u001b[0;34m(\u001b[0m\u001b[0;34m)\u001b[0m\u001b[0;34m\u001b[0m\u001b[0;34m\u001b[0m\u001b[0m\n\u001b[0m\u001b[1;32m    114\u001b[0m     \u001b[0;32mif\u001b[0m \u001b[0mself\u001b[0m\u001b[0;34m.\u001b[0m\u001b[0mcredentials\u001b[0m \u001b[0;32mis\u001b[0m \u001b[0;32mNone\u001b[0m\u001b[0;34m:\u001b[0m\u001b[0;34m\u001b[0m\u001b[0;34m\u001b[0m\u001b[0m\n\u001b[1;32m    115\u001b[0m       \u001b[0mcode\u001b[0m \u001b[0;34m=\u001b[0m \u001b[0mdecoratee\u001b[0m\u001b[0;34m(\u001b[0m\u001b[0mself\u001b[0m\u001b[0;34m,\u001b[0m \u001b[0;34m*\u001b[0m\u001b[0margs\u001b[0m\u001b[0;34m,\u001b[0m \u001b[0;34m**\u001b[0m\u001b[0mkwargs\u001b[0m\u001b[0;34m)\u001b[0m\u001b[0;34m\u001b[0m\u001b[0;34m\u001b[0m\u001b[0m\n",
            "\u001b[0;32m/usr/local/lib/python3.6/dist-packages/pydrive/auth.py\u001b[0m in \u001b[0;36mGetFlow\u001b[0;34m(self)\u001b[0m\n\u001b[1;32m    441\u001b[0m     if not all(config in self.client_config \\\n\u001b[1;32m    442\u001b[0m                for config in self.CLIENT_CONFIGS_LIST):\n\u001b[0;32m--> 443\u001b[0;31m       \u001b[0mself\u001b[0m\u001b[0;34m.\u001b[0m\u001b[0mLoadClientConfig\u001b[0m\u001b[0;34m(\u001b[0m\u001b[0;34m)\u001b[0m\u001b[0;34m\u001b[0m\u001b[0;34m\u001b[0m\u001b[0m\n\u001b[0m\u001b[1;32m    444\u001b[0m     constructor_kwargs = {\n\u001b[1;32m    445\u001b[0m         \u001b[0;34m'redirect_uri'\u001b[0m\u001b[0;34m:\u001b[0m \u001b[0mself\u001b[0m\u001b[0;34m.\u001b[0m\u001b[0mclient_config\u001b[0m\u001b[0;34m[\u001b[0m\u001b[0;34m'redirect_uri'\u001b[0m\u001b[0;34m]\u001b[0m\u001b[0;34m,\u001b[0m\u001b[0;34m\u001b[0m\u001b[0;34m\u001b[0m\u001b[0m\n",
            "\u001b[0;32m/usr/local/lib/python3.6/dist-packages/pydrive/auth.py\u001b[0m in \u001b[0;36mLoadClientConfig\u001b[0;34m(self, backend)\u001b[0m\n\u001b[1;32m    364\u001b[0m         \u001b[0;32mraise\u001b[0m \u001b[0mInvalidConfigError\u001b[0m\u001b[0;34m(\u001b[0m\u001b[0;34m'Please specify client config backend'\u001b[0m\u001b[0;34m)\u001b[0m\u001b[0;34m\u001b[0m\u001b[0;34m\u001b[0m\u001b[0m\n\u001b[1;32m    365\u001b[0m     \u001b[0;32mif\u001b[0m \u001b[0mbackend\u001b[0m \u001b[0;34m==\u001b[0m \u001b[0;34m'file'\u001b[0m\u001b[0;34m:\u001b[0m\u001b[0;34m\u001b[0m\u001b[0;34m\u001b[0m\u001b[0m\n\u001b[0;32m--> 366\u001b[0;31m       \u001b[0mself\u001b[0m\u001b[0;34m.\u001b[0m\u001b[0mLoadClientConfigFile\u001b[0m\u001b[0;34m(\u001b[0m\u001b[0;34m)\u001b[0m\u001b[0;34m\u001b[0m\u001b[0;34m\u001b[0m\u001b[0m\n\u001b[0m\u001b[1;32m    367\u001b[0m     \u001b[0;32melif\u001b[0m \u001b[0mbackend\u001b[0m \u001b[0;34m==\u001b[0m \u001b[0;34m'settings'\u001b[0m\u001b[0;34m:\u001b[0m\u001b[0;34m\u001b[0m\u001b[0;34m\u001b[0m\u001b[0m\n\u001b[1;32m    368\u001b[0m       \u001b[0mself\u001b[0m\u001b[0;34m.\u001b[0m\u001b[0mLoadClientConfigSettings\u001b[0m\u001b[0;34m(\u001b[0m\u001b[0;34m)\u001b[0m\u001b[0;34m\u001b[0m\u001b[0;34m\u001b[0m\u001b[0m\n",
            "\u001b[0;32m/usr/local/lib/python3.6/dist-packages/pydrive/auth.py\u001b[0m in \u001b[0;36mLoadClientConfigFile\u001b[0;34m(self, client_config_file)\u001b[0m\n\u001b[1;32m    386\u001b[0m       \u001b[0mclient_type\u001b[0m\u001b[0;34m,\u001b[0m \u001b[0mclient_info\u001b[0m \u001b[0;34m=\u001b[0m \u001b[0mclientsecrets\u001b[0m\u001b[0;34m.\u001b[0m\u001b[0mloadfile\u001b[0m\u001b[0;34m(\u001b[0m\u001b[0mclient_config_file\u001b[0m\u001b[0;34m)\u001b[0m\u001b[0;34m\u001b[0m\u001b[0;34m\u001b[0m\u001b[0m\n\u001b[1;32m    387\u001b[0m     \u001b[0;32mexcept\u001b[0m \u001b[0mclientsecrets\u001b[0m\u001b[0;34m.\u001b[0m\u001b[0mInvalidClientSecretsError\u001b[0m \u001b[0;32mas\u001b[0m \u001b[0merror\u001b[0m\u001b[0;34m:\u001b[0m\u001b[0;34m\u001b[0m\u001b[0;34m\u001b[0m\u001b[0m\n\u001b[0;32m--> 388\u001b[0;31m       \u001b[0;32mraise\u001b[0m \u001b[0mInvalidConfigError\u001b[0m\u001b[0;34m(\u001b[0m\u001b[0;34m'Invalid client secrets file %s'\u001b[0m \u001b[0;34m%\u001b[0m \u001b[0merror\u001b[0m\u001b[0;34m)\u001b[0m\u001b[0;34m\u001b[0m\u001b[0;34m\u001b[0m\u001b[0m\n\u001b[0m\u001b[1;32m    389\u001b[0m     if not client_type in (clientsecrets.TYPE_WEB,\n\u001b[1;32m    390\u001b[0m                            clientsecrets.TYPE_INSTALLED):\n",
            "\u001b[0;31mInvalidConfigError\u001b[0m: Invalid client secrets file ('Error opening file', 'client_secrets.json', 'No such file or directory', 2)"
          ]
        }
      ]
    },
    {
      "cell_type": "markdown",
      "metadata": {
        "id": "dFFr5IdOo2YA"
      },
      "source": [
        "### Question 3.3 (10 points)\n",
        "In the cell below, you should write code to fine-tune the `bert-base-cased-finetuned-mnli` model for `tinySST` and then evaluate the resulting model on the `tinySST` dev set. Unlike in previous problems, here we will just do the fine-tuning once (not with multiple random seeds). We don't provide any scaffolding code here, but you should have enough from previous cells to complete this fairly easily. Please use the improved hyperparameters you found in problem 3.1. This cell should print out the `tinySST` dev accuracy.\n",
        "\n",
        "*Hint*\n",
        "*   Since `MNLI` has three classes while `SST` has two, we need to discard its final classification layer. You can do this by calling `do_target_task_finetuning` with the argument `model_load_mode = \"base_model_only\"`. Please look at the cell above that defines the `do_target_task_finetuning` function to understand what this does. "
      ]
    },
    {
      "cell_type": "code",
      "metadata": {
        "id": "_CumzlYhvBd1",
        "outputId": "75c4d1a5-b259-4046-ffdc-9c238549df0e",
        "colab": {
          "base_uri": "https://localhost:8080/",
          "height": 333
        }
      },
      "source": [
        "### YOUR CODE HERE\n",
        "start_time = timeit.default_timer()\n",
        "task_name = \"SST\"\n",
        "data_dir = f\"./data/tiny{task_name}\"\n",
        "model_name_or_path = \"bert-base-cased\"\n",
        "model_cache_dir = os.path.join(pretrained_models_dir, model_name_or_path)\n",
        "data_cache_dir = f\"./data_cache/finetuning/tiny{task_name}\"\n",
        "\n",
        "do_target_task_finetuning(model_name_or_path, task_type=\"text_classification\", task_name = 'SST', model_load_mode = \"base_model_only\", output_dir = data_dir)"
      ],
      "execution_count": 70,
      "outputs": [
        {
          "output_type": "error",
          "ename": "TypeError",
          "evalue": "ignored",
          "traceback": [
            "\u001b[0;31m---------------------------------------------------------------------------\u001b[0m",
            "\u001b[0;31mTypeError\u001b[0m                                 Traceback (most recent call last)",
            "\u001b[0;32m<ipython-input-70-32ea9a4a6ead>\u001b[0m in \u001b[0;36m<module>\u001b[0;34m()\u001b[0m\n\u001b[1;32m      7\u001b[0m \u001b[0mdata_cache_dir\u001b[0m \u001b[0;34m=\u001b[0m \u001b[0;34mf\"./data_cache/finetuning/tiny{task_name}\"\u001b[0m\u001b[0;34m\u001b[0m\u001b[0;34m\u001b[0m\u001b[0m\n\u001b[1;32m      8\u001b[0m \u001b[0;34m\u001b[0m\u001b[0m\n\u001b[0;32m----> 9\u001b[0;31m \u001b[0mdo_target_task_finetuning\u001b[0m\u001b[0;34m(\u001b[0m\u001b[0mmodel_name_or_path\u001b[0m\u001b[0;34m,\u001b[0m \u001b[0mtask_type\u001b[0m\u001b[0;34m=\u001b[0m\u001b[0;34m\"text_classification\"\u001b[0m\u001b[0;34m,\u001b[0m \u001b[0mtask_name\u001b[0m \u001b[0;34m=\u001b[0m \u001b[0;34m'SST'\u001b[0m\u001b[0;34m,\u001b[0m \u001b[0mmodel_load_mode\u001b[0m \u001b[0;34m=\u001b[0m \u001b[0;34m\"base_model_only\"\u001b[0m\u001b[0;34m,\u001b[0m \u001b[0moutput_dir\u001b[0m \u001b[0;34m=\u001b[0m \u001b[0mdata_dir\u001b[0m\u001b[0;34m)\u001b[0m\u001b[0;34m\u001b[0m\u001b[0;34m\u001b[0m\u001b[0m\n\u001b[0m",
            "\u001b[0;32m<ipython-input-8-db191b67493b>\u001b[0m in \u001b[0;36mdo_target_task_finetuning\u001b[0;34m(model_name_or_path, task_type, output_dir, **kwargs)\u001b[0m\n\u001b[1;32m    214\u001b[0m             \u001b[0mdata_args_params\u001b[0m\u001b[0;34m.\u001b[0m\u001b[0mupdate\u001b[0m\u001b[0;34m(\u001b[0m\u001b[0;34m{\u001b[0m\u001b[0mparam\u001b[0m\u001b[0;34m:\u001b[0m \u001b[0mkwargs\u001b[0m\u001b[0;34m[\u001b[0m\u001b[0mparam\u001b[0m\u001b[0;34m]\u001b[0m\u001b[0;34m}\u001b[0m\u001b[0;34m)\u001b[0m\u001b[0;34m\u001b[0m\u001b[0;34m\u001b[0m\u001b[0m\n\u001b[1;32m    215\u001b[0m \u001b[0;34m\u001b[0m\u001b[0m\n\u001b[0;32m--> 216\u001b[0;31m     \u001b[0mdata_args\u001b[0m \u001b[0;34m=\u001b[0m \u001b[0mDATA_TRAINING_ARGUMENTS\u001b[0m\u001b[0;34m[\u001b[0m\u001b[0mtask_type\u001b[0m\u001b[0;34m]\u001b[0m\u001b[0;34m(\u001b[0m\u001b[0;34m**\u001b[0m\u001b[0mdata_args_params\u001b[0m\u001b[0;34m)\u001b[0m\u001b[0;34m\u001b[0m\u001b[0;34m\u001b[0m\u001b[0m\n\u001b[0m\u001b[1;32m    217\u001b[0m     \u001b[0mtraining_args\u001b[0m \u001b[0;34m=\u001b[0m \u001b[0mTrainingArguments\u001b[0m\u001b[0;34m(\u001b[0m\u001b[0moutput_dir\u001b[0m\u001b[0;34m=\u001b[0m\u001b[0moutput_dir\u001b[0m\u001b[0;34m)\u001b[0m\u001b[0;34m\u001b[0m\u001b[0;34m\u001b[0m\u001b[0m\n\u001b[1;32m    218\u001b[0m \u001b[0;34m\u001b[0m\u001b[0m\n",
            "\u001b[0;31mTypeError\u001b[0m: __init__() missing 1 required positional argument: 'data_dir'"
          ]
        }
      ]
    },
    {
      "cell_type": "markdown",
      "metadata": {
        "id": "oNcOi9_FQ8Sz"
      },
      "source": [
        "In the below cell, do the same thing as you did in the previous cell, except fine-tune the `bert-base-cased-finetuned-yelp` model instead of the MNLI model. This cell should again print the `tinySST` dev accuracy. "
      ]
    },
    {
      "cell_type": "code",
      "metadata": {
        "id": "cGi2LU7dRF-y"
      },
      "source": [
        "### YOUR CODE HERE\n",
        "\n",
        "do_target_task_finetuning(model_name_or_path, task_type=\"text_classification\", task_name = 'SST', model_load_mode = \"base_model_only\", output_dir = data_dir)"
      ],
      "execution_count": null,
      "outputs": []
    },
    {
      "cell_type": "markdown",
      "metadata": {
        "id": "UFRAMdaHv8PY"
      },
      "source": [
        "### Question 3.4 (5 points)\n",
        "Compare your results to the mean result you got in problem 3.1 without any intermediate fine-tuning. What was your best model, and why do you think it outperformed the others? "
      ]
    },
    {
      "cell_type": "markdown",
      "metadata": {
        "id": "bN6T9LOAynyG"
      },
      "source": [
        "**Write your answer here!** Please keep it brief (i.e., 2-3 sentences)."
      ]
    },
    {
      "cell_type": "markdown",
      "metadata": {
        "id": "oOoa0-V0wVMG"
      },
      "source": [
        "## Data augmentation using back-translation\n",
        "In this part, we will explore another approach to improve `BERT`'s performance on the target task: creating more training data (*data augmentation*) using *backtranslation*. Backtranslation refers to the process of translating a sentence from language `X` into another language `Y` (called the *pivot language*) and then translating the resulting sentence back into language `X`. Often, the final sentence contains significant lexical and syntactic variation compared to the original sentence, while roughly preserving its meaning. Here, we will use backtranslation to  obtain paraphrases of the training data of the `tinySST` dataset.\n",
        "\n",
        "Run the following cell to load Google Translate's model and run it on a toy example."
      ]
    },
    {
      "cell_type": "code",
      "metadata": {
        "id": "sjVa8OfzfhJj",
        "outputId": "8a047b97-66ae-438f-caab-f3da143a163a",
        "colab": {
          "base_uri": "https://localhost:8080/",
          "height": 35
        }
      },
      "source": [
        "import googletrans\n",
        "# Run print(googletrans.LANGUAGES) to see available languages\n",
        "from googletrans import Translator\n",
        "translator = Translator()\n",
        "\n",
        "# translate from English to French\n",
        "output = translator.translate(\"I love natural language processing\", src='en', dest='fr')\n",
        "output.text"
      ],
      "execution_count": 19,
      "outputs": [
        {
          "output_type": "execute_result",
          "data": {
            "application/vnd.google.colaboratory.intrinsic+json": {
              "type": "string"
            },
            "text/plain": [
              "\"J'adore le traitement du langage naturel\""
            ]
          },
          "metadata": {
            "tags": []
          },
          "execution_count": 19
        }
      ]
    },
    {
      "cell_type": "markdown",
      "metadata": {
        "id": "abWjM7tEhwXA"
      },
      "source": [
        "### Question 3.5 (15 points)\n",
        "Complete the following cell to paraphrase the training data of `tinySST` using backtranslation. We have intentionally left this problem open-ended: feel free to use as many pivot languages as you like, and also write any postprocessing code you think might help. The cell after this one will fine-tune BERT on the augmented training data, so you can use its output to validate your backtranslation strategy. To obtain full points, the model fine-tuned on your augmented data must achieve a higher average accuracy than the model without any augmentation, trained with the same hyperparameters. "
      ]
    },
    {
      "cell_type": "code",
      "metadata": {
        "id": "yv9uXRaWwVrT",
        "outputId": "4c544c58-4cca-4ffc-c374-1f7309627be9",
        "colab": {
          "base_uri": "https://localhost:8080/",
          "height": 1000
        }
      },
      "source": [
        "#added this because my data augmentations are not being saved\n",
        "task_name=\"SST\"\n",
        "!rm ./data/tiny${task_name}-bt/cache\n",
        "\n",
        "\n",
        "\n",
        "task_name = \"SST\"\n",
        "data_dir = f\"./data/tiny{task_name}\"\n",
        "task_processor = glue_processors[f\"{task_name.lower()}-2\"]()\n",
        "train_examples = task_processor.get_train_examples(data_dir)\n",
        "id = 0\n",
        "train_examples_augmented = []\n",
        "\n",
        "\n",
        "\n",
        "### (incomplete) list of languages you can use\n",
        "languages = [\n",
        "    'en', # english\n",
        "    'cs',  # czech\n",
        "    'de',  # german\n",
        "    'es', # spanish\n",
        "    'fi',  # finnish\n",
        "    'fr', # french\n",
        "    'hi', # hindi\n",
        "    'it', # italian\n",
        "    'ja', # japanese\n",
        "    'pt', # portuguese\n",
        "    'ru', # russian\n",
        "    'vi', # vietnamese\n",
        "    'zh-cn',  # chinese\n",
        "    ]\n",
        "\n",
        "# generate some augmented examples for each training example\n",
        "for example in train_examples:\n",
        "    train_examples_augmented.append(example) # always include the original example\n",
        "    print (example.text_a)\n",
        "\n",
        "    # YOUR CODE HERE!\n",
        "    \n",
        "\n",
        "    # the below line adds a single new augmented example to the dataset. \n",
        "    # note that the guid should be a unique ID for this example, so you'll want to vary this\n",
        "    # depending on how you generate your paraphrases\n",
        "    # train_examples_augmented.append(InputExample(guid=f\"{example.guid}-aug-{target_language}\",\n",
        "    #                                                 text_a=paraphrase,\n",
        "    #                                                 text_b=None,\n",
        "    #                                                 label=example.label))\n",
        "    def back(target_language, id): \n",
        "      paraphrase = translator.translate(example.text_a,  dest=target_language)  #translating to french\n",
        "      paraphrase = paraphrase.text #get translated text only \n",
        "\n",
        "\n",
        "\n",
        "      paraphrase = translator.translate(paraphrase,  dest='en')  #backtranslating - french to english\n",
        "      paraphrase = paraphrase.text\n",
        "      print (paraphrase)\n",
        "\n",
        "   \n",
        "      guid = id\n",
        "\n",
        "      train_examples_augmented.append(InputExample(guid=f\"{example.guid}-aug-{target_language}\",\n",
        "                                                      text_a=paraphrase,\n",
        "                                                      text_b=None,\n",
        "                                                      label=example.label))\n",
        "      \n",
        "\n",
        "    id = id + 1\n",
        "    back('fr', str(id)+ \"-fr\")\n",
        "    back('ru', str(id)+\"-ru\")\n",
        "    back('zh-cn',str(id)+\"-cn\")\n",
        "    back('hi',str(id)+\"-hi\")\n",
        "    back('vi',str(id)+\"-vi\")\n",
        "\n",
        "\n",
        "\n",
        "print (train_examples_augmented)\n",
        "print (len(train_examples_augmented))\n",
        "output_dir = f\"./data/tiny{task_name}-bt\"\n",
        "if not os.path.exists(output_dir):\n",
        "    os.makedirs(output_dir)\n",
        "    \n",
        "with open(os.path.join(output_dir, \"train.tsv\"), \"w\") as writer:\n",
        "    writer.write(\"sentence\\tlabel\\n\")\n",
        "    for example in train_examples_augmented:\n",
        "        writer.write(f\"{example.text_a}\\t{example.label}\\n\")\n",
        "\n",
        "# Copy the original tinySST's dev set to the new directory\n",
        "import shutil\n",
        "shutil.copyfile(f\"{data_dir}/dev.tsv\", f\"{output_dir}/dev.tsv\")"
      ],
      "execution_count": 68,
      "outputs": [
        {
          "output_type": "stream",
          "text": [
            "rm: cannot remove './data/tiny-bt/cache': No such file or directory\n",
            "its unerring respect for them \n",
            "his unfailing respect for them\n",
            "unmistakable respect for them\n",
            "its unerring respect for them\n",
            "It is unwavering respect for him\n",
            "Its respect for them\n",
            "a gift to anyone who loves both dance and cinema \n",
            "a gift to anyone who loves dance and cinema\n",
            "a gift to everyone who loves dancing and movies\n",
            "献给热爱舞蹈和电影的人的礼物\n",
            "a gift to anyone who loves both dance and cinema\n",
            "A gift for those who love both dance and cinema\n",
            "a two-way time-switching myopic mystery that stalls in its lackluster gear of emotional blandness \n",
            "a two-way time-switched myopic mystery that gets stuck in its drab gear of emotional madness\n",
            "близорукая тайна с двусторонним переключением времени, которая застревает в своей тусклой экипировке эмоциональной вялости\n",
            "双向时间切换的近视之谜，停滞在情感淡淡的乏味装置中\n",
            "a two-way time-switching myopic mystery that stalls in its lackluster gear of emotional blandness \n",
            "a two-way time-switching myopic mystery that stalls in its lackluster gear of emotional blandness\n",
            "the best animated feature to hit theaters since beauty and the beast 11 years ago . \n",
            "the best animated feature theatrically released since Beauty and the Beast 11 years ago.\n",
            "the best animated feature to hit theaters since beauty and the beast 11 years ago .\n",
            "自11年前“美女与野兽”以来，这是上映剧院以来最好的动画片。\n",
            "the best animated feature to hit theaters since beauty and the beast 11 years ago .\n",
            "Best animated film released in theaters since Beauty and the Beast 11 years ago.\n",
            "director sara sugarman stoops to having characters drop their pants for laughs and not the last time \n",
            "director sara sugarman stoops to having characters drop their pants for laughs and not the last time\n",
            "director sara sugarman stoops to having characters drop their pants for laughs and not the last time\n",
            "Director Sara Sugarman succumbed to letting the character put down his pants and laugh, not the last time\n",
            "Director Sarah Sugarman took off her pants to make the characters laugh and not for the last time\n",
            "director sara sugarman stoops to having characters drop their pants for laughs and not the last time\n",
            "we cut to a new scene , which also appears to be the end . \n",
            "we cut to a new scene , which also appears to be the end .\n",
            "we move on to a new scene, which also seems to be the end.\n",
            "We have entered a new scene, which seems to be over.\n",
            "हम एक नए दृश्य में कटौती करते हैं, जो अंत भी प्रतीत होता है।\n",
            "chúng tôi chuyển sang một cảnh mới, cũng có vẻ là cảnh kết thúc.\n",
            "tells a story whose restatement is validated by the changing composition of the nation \n",
            "raconte une histoire dont la reformulation est validée par la composition changeante de la nation\n",
            "tells a story whose repetition is confirmed by the changing makeup of the nation\n",
            "tells a story whose restatement is validated by the changing composition of the nation \n",
            "Tells a story whose ban is validated by the changing composition of the nation\n",
            "tells a story whose restatement is validated by the changing composition of the nation\n",
            "short of wonderful with its ten-year-old female protagonist and its steadfast refusal to set up a dualistic battle between good and evil . \n",
            "court de merveilleux avec sa protagoniste féminine de dix ans et son refus inébranlable de lancer une bataille dualiste entre le bien et le mal.\n",
            "short of wonderful with its ten-year-old female protagonist and its steadfast refusal to set up a dualistic battle between good and evil .\n",
            "short of wonderful with its ten-year-old female protagonist and its steadfast refusal to set up a dualistic battle between good and evil .\n",
            "Refusal to set up an amazing low and duel fight between good and evil with its ten-year-old female protagonist.\n",
            "it was great for its ten-year-old heroine and her steadfast refusal to set up a dualistic war between good and evil.\n",
            "who does a convincing impersonation here of a director enjoying himself immensely \n",
            "which here makes a convincing imitation of a director having a lot of fun\n",
            "which here convincingly portrays a director who is immensely entertained\n",
            "He imitated a director convincingly here and he was very happy\n",
            "Who does a solid impersonation on a director who gives himself great pleasure\n",
            "The convincing actor here is a very excited director\n",
            "cast the magnificent jackie chan in a movie full of stunt doubles and special effects \n",
            "launches gorgeous Jackie Chan in a movie full of liners and special effects\n",
            "throw the gorgeous Jackie Chan into a movie full of stuntmen and special effects\n",
            "cast the magnificent jackie chan in a movie full of stunt doubles and special effects\n",
            "cast the magnificent jackie chan in a movie full of stunt doubles and special effects \n",
            "cast the magnificent jackie chan in a movie full of stunt doubles and special effects \n",
            "skip this turd and pick your nose instead because you 're sure to get more out of the latter experience . \n",
            "skip this turd and pick your nose instead because you 're sure to get more out of the latter experience . \n",
            "пропустите эту какашку и ковыряйте в носу вместо этого, потому что вы обязательно получите больше от последнего опыта.\n",
            "Skip this question and choose nose, because you will surely gain more from the latter’s experience.\n",
            "इस बुर्ज को छोड़ें और अपनी नाक को चुनें क्योंकि आप बाद के अनुभव से बाहर निकलना सुनिश्चित करते हैं।\n",
            "Skip this step and pick your nose instead as you'll definitely get more out of the experience later.\n",
            "that it 's inauthentic at its core and that its story just is n't worth telling \n",
            "that it's inauthentic at its core and that its story just isn't worth telling\n",
            "that it is inherently inauthentic and that its story is simply not worth telling\n",
            "它的核心是不真实的，它的故事不值得讲述\n",
            "इसके मूल में यह अमानवीय है और इसकी कहानी सिर्फ बताने लायक नहीं है\n",
            "that it 's inauthentic at its core and that its story just is n't worth telling \n",
            "is never especially clever and often is rather pretentious . \n",
            "n'est jamais particulièrement intelligent et est souvent plutôt prétentieux.\n",
            "никогда не бывает особенно умным и часто довольно претенциозным.\n",
            "is never especially clever and often is rather pretentious . \n",
            "Not particularly clever and often rather pretentious.\n",
            "never particularly smart and often quite presumptuous.\n",
            "those films that started with a great premise and then just fell apart \n",
            "those movies that started with a great premise and then fell apart\n",
            "те фильмы, которые начинались с отличной предпосылки, а потом просто развалились\n",
            "those films that started with a great premise and then just fell apart\n",
            "Movies that started with a great foundation and then just fell apart\n",
            "those films that started with a great premise and then just fell apart\n",
            "cause loads of irreparable damage that years and years of costly analysis could never fix \n",
            "cause a lot of irreparable damage that years and years of costly analysis could never repair\n",
            "cause a lot of irreparable damage that cannot be fixed by years and years of expensive analysis\n",
            "Cause an irreparable burden of destruction, and years of expensive analysis cannot be repaired\n",
            "कारण यह है कि अपूरणीय क्षति का भार और महंगा विश्लेषण के वर्षों को कभी भी ठीक नहीं किया जा सकता है\n",
            "cause loads of irreparable damage that years and years of costly analysis could never fix \n",
            "of dumb drug jokes and predictable slapstick \n",
            "silly drug jokes and predictable slapstick\n",
            "dumb jokes and predictable farce\n",
            "Stupid drug jokes and predictable farce\n",
            "of dumb drug jokes and predictable slapstick\n",
            "stupid drug prank and predictable prank\n",
            "comes along that is so insanely stupid , so awful in so many ways that watching it leaves you giddy \n",
            "happens that is so incredibly stupid, so horrible in so many ways that watching it leaves you dazed\n",
            "приходит, что настолько безумно глупо, настолько ужасно во многих отношениях, что от просмотра этого у вас кружится голова\n",
            "comes along that is so insanely stupid , so awful in so many ways that watching it leaves you giddy\n",
            "comes along that is so insanely stupid , so awful in so many ways that watching it leaves you giddy\n",
            "comes along that is so insanely stupid , so awful in so many ways that watching it leaves you giddy\n",
            "jaw-dropping action sequences , striking villains , \n",
            "breathtaking action sequences, hitting villains,\n",
            "stunning action sequences, amazing villains,\n",
            "jaw-dropping action sequences , striking villains , \n",
            "Jaw-dropping action sequences, striking villains,\n",
            "amazing action sequences, outstanding villains,\n",
            "sounds , but strikes a tone that 's alternately melancholic , hopeful and strangely funny \n",
            "sounds, but strikes an alternately melancholy, hopeful and strangely funny tone\n",
            "sounds, but his tone is alternately melancholic, then reassuring, then strangely funny.\n",
            "It sounds good, but it makes people feel melancholy, hopeful and strangely interesting.\n",
            "Sounds, but a tone that alternately strikes nostalgic, hopeful and weird weird\n",
            "the sound, but strangely accentuated with a melancholy, hopeful, and comedic alternate tone\n",
            "just the labor involved in creating the layered richness of the imagery in this chiaroscuro of madness and light \n",
            "juste le travail impliqué dans la création de la richesse en couches de l'imagerie dans ce clair-obscur de folie et de lumière\n",
            "just the labor involved in creating the layered richness of the imagery in this chiaroscuro of madness and light\n",
            "It’s just the work of creating layers of richness in this crazy and bright contrast\n",
            "just the labor involved in creating the layered richness of the imagery in this chiaroscuro of madness and light\n",
            "just the labor involved in creating the layered richness of the imagery in this chiaroscuro of madness and light \n",
            "[InputExample(guid='train-1', text_a='its unerring respect for them ', text_b=None, label='1'), InputExample(guid='train-1-aug-fr', text_a='his unfailing respect for them', text_b=None, label='1'), InputExample(guid='train-1-aug-ru', text_a='unmistakable respect for them', text_b=None, label='1'), InputExample(guid='train-1-aug-zh-cn', text_a='its unerring respect for them', text_b=None, label='1'), InputExample(guid='train-1-aug-hi', text_a='It is unwavering respect for him', text_b=None, label='1'), InputExample(guid='train-1-aug-vi', text_a='Its respect for them', text_b=None, label='1'), InputExample(guid='train-2', text_a='a gift to anyone who loves both dance and cinema ', text_b=None, label='1'), InputExample(guid='train-2-aug-fr', text_a='a gift to anyone who loves dance and cinema', text_b=None, label='1'), InputExample(guid='train-2-aug-ru', text_a='a gift to everyone who loves dancing and movies', text_b=None, label='1'), InputExample(guid='train-2-aug-zh-cn', text_a='献给热爱舞蹈和电影的人的礼物', text_b=None, label='1'), InputExample(guid='train-2-aug-hi', text_a='a gift to anyone who loves both dance and cinema', text_b=None, label='1'), InputExample(guid='train-2-aug-vi', text_a='A gift for those who love both dance and cinema', text_b=None, label='1'), InputExample(guid='train-3', text_a='a two-way time-switching myopic mystery that stalls in its lackluster gear of emotional blandness ', text_b=None, label='0'), InputExample(guid='train-3-aug-fr', text_a='a two-way time-switched myopic mystery that gets stuck in its drab gear of emotional madness', text_b=None, label='0'), InputExample(guid='train-3-aug-ru', text_a='близорукая тайна с двусторонним переключением времени, которая застревает в своей тусклой экипировке эмоциональной вялости', text_b=None, label='0'), InputExample(guid='train-3-aug-zh-cn', text_a='双向时间切换的近视之谜，停滞在情感淡淡的乏味装置中', text_b=None, label='0'), InputExample(guid='train-3-aug-hi', text_a='a two-way time-switching myopic mystery that stalls in its lackluster gear of emotional blandness ', text_b=None, label='0'), InputExample(guid='train-3-aug-vi', text_a='a two-way time-switching myopic mystery that stalls in its lackluster gear of emotional blandness', text_b=None, label='0'), InputExample(guid='train-4', text_a='the best animated feature to hit theaters since beauty and the beast 11 years ago . ', text_b=None, label='1'), InputExample(guid='train-4-aug-fr', text_a='the best animated feature theatrically released since Beauty and the Beast 11 years ago.', text_b=None, label='1'), InputExample(guid='train-4-aug-ru', text_a='the best animated feature to hit theaters since beauty and the beast 11 years ago .', text_b=None, label='1'), InputExample(guid='train-4-aug-zh-cn', text_a='自11年前“美女与野兽”以来，这是上映剧院以来最好的动画片。', text_b=None, label='1'), InputExample(guid='train-4-aug-hi', text_a='the best animated feature to hit theaters since beauty and the beast 11 years ago .', text_b=None, label='1'), InputExample(guid='train-4-aug-vi', text_a='Best animated film released in theaters since Beauty and the Beast 11 years ago.', text_b=None, label='1'), InputExample(guid='train-5', text_a='director sara sugarman stoops to having characters drop their pants for laughs and not the last time ', text_b=None, label='0'), InputExample(guid='train-5-aug-fr', text_a='director sara sugarman stoops to having characters drop their pants for laughs and not the last time', text_b=None, label='0'), InputExample(guid='train-5-aug-ru', text_a='director sara sugarman stoops to having characters drop their pants for laughs and not the last time', text_b=None, label='0'), InputExample(guid='train-5-aug-zh-cn', text_a='Director Sara Sugarman succumbed to letting the character put down his pants and laugh, not the last time', text_b=None, label='0'), InputExample(guid='train-5-aug-hi', text_a='Director Sarah Sugarman took off her pants to make the characters laugh and not for the last time', text_b=None, label='0'), InputExample(guid='train-5-aug-vi', text_a='director sara sugarman stoops to having characters drop their pants for laughs and not the last time', text_b=None, label='0'), InputExample(guid='train-6', text_a='we cut to a new scene , which also appears to be the end . ', text_b=None, label='0'), InputExample(guid='train-6-aug-fr', text_a='we cut to a new scene , which also appears to be the end .', text_b=None, label='0'), InputExample(guid='train-6-aug-ru', text_a='we move on to a new scene, which also seems to be the end.', text_b=None, label='0'), InputExample(guid='train-6-aug-zh-cn', text_a='We have entered a new scene, which seems to be over.', text_b=None, label='0'), InputExample(guid='train-6-aug-hi', text_a='हम एक नए दृश्य में कटौती करते हैं, जो अंत भी प्रतीत होता है।', text_b=None, label='0'), InputExample(guid='train-6-aug-vi', text_a='chúng tôi chuyển sang một cảnh mới, cũng có vẻ là cảnh kết thúc.', text_b=None, label='0'), InputExample(guid='train-7', text_a='tells a story whose restatement is validated by the changing composition of the nation ', text_b=None, label='1'), InputExample(guid='train-7-aug-fr', text_a='raconte une histoire dont la reformulation est validée par la composition changeante de la nation', text_b=None, label='1'), InputExample(guid='train-7-aug-ru', text_a='tells a story whose repetition is confirmed by the changing makeup of the nation', text_b=None, label='1'), InputExample(guid='train-7-aug-zh-cn', text_a='tells a story whose restatement is validated by the changing composition of the nation ', text_b=None, label='1'), InputExample(guid='train-7-aug-hi', text_a='Tells a story whose ban is validated by the changing composition of the nation', text_b=None, label='1'), InputExample(guid='train-7-aug-vi', text_a='tells a story whose restatement is validated by the changing composition of the nation', text_b=None, label='1'), InputExample(guid='train-8', text_a='short of wonderful with its ten-year-old female protagonist and its steadfast refusal to set up a dualistic battle between good and evil . ', text_b=None, label='1'), InputExample(guid='train-8-aug-fr', text_a='court de merveilleux avec sa protagoniste féminine de dix ans et son refus inébranlable de lancer une bataille dualiste entre le bien et le mal.', text_b=None, label='1'), InputExample(guid='train-8-aug-ru', text_a='short of wonderful with its ten-year-old female protagonist and its steadfast refusal to set up a dualistic battle between good and evil .', text_b=None, label='1'), InputExample(guid='train-8-aug-zh-cn', text_a='short of wonderful with its ten-year-old female protagonist and its steadfast refusal to set up a dualistic battle between good and evil .', text_b=None, label='1'), InputExample(guid='train-8-aug-hi', text_a='Refusal to set up an amazing low and duel fight between good and evil with its ten-year-old female protagonist.', text_b=None, label='1'), InputExample(guid='train-8-aug-vi', text_a='it was great for its ten-year-old heroine and her steadfast refusal to set up a dualistic war between good and evil.', text_b=None, label='1'), InputExample(guid='train-9', text_a='who does a convincing impersonation here of a director enjoying himself immensely ', text_b=None, label='1'), InputExample(guid='train-9-aug-fr', text_a='which here makes a convincing imitation of a director having a lot of fun', text_b=None, label='1'), InputExample(guid='train-9-aug-ru', text_a='which here convincingly portrays a director who is immensely entertained', text_b=None, label='1'), InputExample(guid='train-9-aug-zh-cn', text_a='He imitated a director convincingly here and he was very happy', text_b=None, label='1'), InputExample(guid='train-9-aug-hi', text_a='Who does a solid impersonation on a director who gives himself great pleasure', text_b=None, label='1'), InputExample(guid='train-9-aug-vi', text_a='The convincing actor here is a very excited director', text_b=None, label='1'), InputExample(guid='train-10', text_a='cast the magnificent jackie chan in a movie full of stunt doubles and special effects ', text_b=None, label='1'), InputExample(guid='train-10-aug-fr', text_a='launches gorgeous Jackie Chan in a movie full of liners and special effects', text_b=None, label='1'), InputExample(guid='train-10-aug-ru', text_a='throw the gorgeous Jackie Chan into a movie full of stuntmen and special effects', text_b=None, label='1'), InputExample(guid='train-10-aug-zh-cn', text_a='cast the magnificent jackie chan in a movie full of stunt doubles and special effects', text_b=None, label='1'), InputExample(guid='train-10-aug-hi', text_a='cast the magnificent jackie chan in a movie full of stunt doubles and special effects ', text_b=None, label='1'), InputExample(guid='train-10-aug-vi', text_a='cast the magnificent jackie chan in a movie full of stunt doubles and special effects ', text_b=None, label='1'), InputExample(guid='train-11', text_a=\"skip this turd and pick your nose instead because you 're sure to get more out of the latter experience . \", text_b=None, label='0'), InputExample(guid='train-11-aug-fr', text_a=\"skip this turd and pick your nose instead because you 're sure to get more out of the latter experience . \", text_b=None, label='0'), InputExample(guid='train-11-aug-ru', text_a='пропустите эту какашку и ковыряйте в носу вместо этого, потому что вы обязательно получите больше от последнего опыта.', text_b=None, label='0'), InputExample(guid='train-11-aug-zh-cn', text_a='Skip this question and choose nose, because you will surely gain more from the latter’s experience.', text_b=None, label='0'), InputExample(guid='train-11-aug-hi', text_a='इस बुर्ज को छोड़ें और अपनी नाक को चुनें क्योंकि आप बाद के अनुभव से बाहर निकलना सुनिश्चित करते हैं।', text_b=None, label='0'), InputExample(guid='train-11-aug-vi', text_a=\"Skip this step and pick your nose instead as you'll definitely get more out of the experience later.\", text_b=None, label='0'), InputExample(guid='train-12', text_a=\"that it 's inauthentic at its core and that its story just is n't worth telling \", text_b=None, label='0'), InputExample(guid='train-12-aug-fr', text_a=\"that it's inauthentic at its core and that its story just isn't worth telling\", text_b=None, label='0'), InputExample(guid='train-12-aug-ru', text_a='that it is inherently inauthentic and that its story is simply not worth telling', text_b=None, label='0'), InputExample(guid='train-12-aug-zh-cn', text_a='它的核心是不真实的，它的故事不值得讲述', text_b=None, label='0'), InputExample(guid='train-12-aug-hi', text_a='इसके मूल में यह अमानवीय है और इसकी कहानी सिर्फ बताने लायक नहीं है', text_b=None, label='0'), InputExample(guid='train-12-aug-vi', text_a=\"that it 's inauthentic at its core and that its story just is n't worth telling \", text_b=None, label='0'), InputExample(guid='train-13', text_a='is never especially clever and often is rather pretentious . ', text_b=None, label='0'), InputExample(guid='train-13-aug-fr', text_a=\"n'est jamais particulièrement intelligent et est souvent plutôt prétentieux.\", text_b=None, label='0'), InputExample(guid='train-13-aug-ru', text_a='никогда не бывает особенно умным и часто довольно претенциозным.', text_b=None, label='0'), InputExample(guid='train-13-aug-zh-cn', text_a='is never especially clever and often is rather pretentious . ', text_b=None, label='0'), InputExample(guid='train-13-aug-hi', text_a='Not particularly clever and often rather pretentious.', text_b=None, label='0'), InputExample(guid='train-13-aug-vi', text_a='never particularly smart and often quite presumptuous.', text_b=None, label='0'), InputExample(guid='train-14', text_a='those films that started with a great premise and then just fell apart ', text_b=None, label='0'), InputExample(guid='train-14-aug-fr', text_a='those movies that started with a great premise and then fell apart', text_b=None, label='0'), InputExample(guid='train-14-aug-ru', text_a='те фильмы, которые начинались с отличной предпосылки, а потом просто развалились', text_b=None, label='0'), InputExample(guid='train-14-aug-zh-cn', text_a='those films that started with a great premise and then just fell apart', text_b=None, label='0'), InputExample(guid='train-14-aug-hi', text_a='Movies that started with a great foundation and then just fell apart', text_b=None, label='0'), InputExample(guid='train-14-aug-vi', text_a='those films that started with a great premise and then just fell apart', text_b=None, label='0'), InputExample(guid='train-15', text_a='cause loads of irreparable damage that years and years of costly analysis could never fix ', text_b=None, label='0'), InputExample(guid='train-15-aug-fr', text_a='cause a lot of irreparable damage that years and years of costly analysis could never repair', text_b=None, label='0'), InputExample(guid='train-15-aug-ru', text_a='cause a lot of irreparable damage that cannot be fixed by years and years of expensive analysis', text_b=None, label='0'), InputExample(guid='train-15-aug-zh-cn', text_a='Cause an irreparable burden of destruction, and years of expensive analysis cannot be repaired', text_b=None, label='0'), InputExample(guid='train-15-aug-hi', text_a='कारण यह है कि अपूरणीय क्षति का भार और महंगा विश्लेषण के वर्षों को कभी भी ठीक नहीं किया जा सकता है', text_b=None, label='0'), InputExample(guid='train-15-aug-vi', text_a='cause loads of irreparable damage that years and years of costly analysis could never fix ', text_b=None, label='0'), InputExample(guid='train-16', text_a='of dumb drug jokes and predictable slapstick ', text_b=None, label='0'), InputExample(guid='train-16-aug-fr', text_a='silly drug jokes and predictable slapstick', text_b=None, label='0'), InputExample(guid='train-16-aug-ru', text_a='dumb jokes and predictable farce', text_b=None, label='0'), InputExample(guid='train-16-aug-zh-cn', text_a='Stupid drug jokes and predictable farce', text_b=None, label='0'), InputExample(guid='train-16-aug-hi', text_a='of dumb drug jokes and predictable slapstick', text_b=None, label='0'), InputExample(guid='train-16-aug-vi', text_a='stupid drug prank and predictable prank', text_b=None, label='0'), InputExample(guid='train-17', text_a='comes along that is so insanely stupid , so awful in so many ways that watching it leaves you giddy ', text_b=None, label='0'), InputExample(guid='train-17-aug-fr', text_a='happens that is so incredibly stupid, so horrible in so many ways that watching it leaves you dazed', text_b=None, label='0'), InputExample(guid='train-17-aug-ru', text_a='приходит, что настолько безумно глупо, настолько ужасно во многих отношениях, что от просмотра этого у вас кружится голова', text_b=None, label='0'), InputExample(guid='train-17-aug-zh-cn', text_a='comes along that is so insanely stupid , so awful in so many ways that watching it leaves you giddy', text_b=None, label='0'), InputExample(guid='train-17-aug-hi', text_a='comes along that is so insanely stupid , so awful in so many ways that watching it leaves you giddy', text_b=None, label='0'), InputExample(guid='train-17-aug-vi', text_a='comes along that is so insanely stupid , so awful in so many ways that watching it leaves you giddy', text_b=None, label='0'), InputExample(guid='train-18', text_a='jaw-dropping action sequences , striking villains , ', text_b=None, label='1'), InputExample(guid='train-18-aug-fr', text_a='breathtaking action sequences, hitting villains,', text_b=None, label='1'), InputExample(guid='train-18-aug-ru', text_a='stunning action sequences, amazing villains,', text_b=None, label='1'), InputExample(guid='train-18-aug-zh-cn', text_a='jaw-dropping action sequences , striking villains , ', text_b=None, label='1'), InputExample(guid='train-18-aug-hi', text_a='Jaw-dropping action sequences, striking villains,', text_b=None, label='1'), InputExample(guid='train-18-aug-vi', text_a='amazing action sequences, outstanding villains,', text_b=None, label='1'), InputExample(guid='train-19', text_a=\"sounds , but strikes a tone that 's alternately melancholic , hopeful and strangely funny \", text_b=None, label='1'), InputExample(guid='train-19-aug-fr', text_a='sounds, but strikes an alternately melancholy, hopeful and strangely funny tone', text_b=None, label='1'), InputExample(guid='train-19-aug-ru', text_a='sounds, but his tone is alternately melancholic, then reassuring, then strangely funny.', text_b=None, label='1'), InputExample(guid='train-19-aug-zh-cn', text_a='It sounds good, but it makes people feel melancholy, hopeful and strangely interesting.', text_b=None, label='1'), InputExample(guid='train-19-aug-hi', text_a='Sounds, but a tone that alternately strikes nostalgic, hopeful and weird weird', text_b=None, label='1'), InputExample(guid='train-19-aug-vi', text_a='the sound, but strangely accentuated with a melancholy, hopeful, and comedic alternate tone', text_b=None, label='1'), InputExample(guid='train-20', text_a='just the labor involved in creating the layered richness of the imagery in this chiaroscuro of madness and light ', text_b=None, label='1'), InputExample(guid='train-20-aug-fr', text_a=\"juste le travail impliqué dans la création de la richesse en couches de l'imagerie dans ce clair-obscur de folie et de lumière\", text_b=None, label='1'), InputExample(guid='train-20-aug-ru', text_a='just the labor involved in creating the layered richness of the imagery in this chiaroscuro of madness and light', text_b=None, label='1'), InputExample(guid='train-20-aug-zh-cn', text_a='It’s just the work of creating layers of richness in this crazy and bright contrast', text_b=None, label='1'), InputExample(guid='train-20-aug-hi', text_a='just the labor involved in creating the layered richness of the imagery in this chiaroscuro of madness and light', text_b=None, label='1'), InputExample(guid='train-20-aug-vi', text_a='just the labor involved in creating the layered richness of the imagery in this chiaroscuro of madness and light ', text_b=None, label='1')]\n",
            "120\n"
          ],
          "name": "stdout"
        },
        {
          "output_type": "execute_result",
          "data": {
            "application/vnd.google.colaboratory.intrinsic+json": {
              "type": "string"
            },
            "text/plain": [
              "'./data/tinySST-bt/dev.tsv'"
            ]
          },
          "metadata": {
            "tags": []
          },
          "execution_count": 68
        }
      ]
    },
    {
      "cell_type": "markdown",
      "metadata": {
        "id": "axEnQx7tk2U-"
      },
      "source": [
        "The below cell fine-tunes BERT `bert-base-cased` with the combined training data (real + synthetic training examples) and then evaluates the resulting model on tinySST's dev set. Note that it uses the default fine-tuning hyperparameters, not the improved ones that you found earlier. You should observe a significantly higher accuracy than 50% when you run this cell on the augmented data (our reference implementation reaches 64%). ***Do NOT modify any code in this cell!***"
      ]
    },
    {
      "cell_type": "code",
      "metadata": {
        "id": "8IzC7JT7muYw",
        "outputId": "417cb5d7-cf4d-496e-9fae-b22630cd6891",
        "colab": {
          "base_uri": "https://localhost:8080/",
          "height": 1000
        }
      },
      "source": [
        "start_time = timeit.default_timer()\n",
        "task_name = \"SST\"\n",
        "data_dir = f\"./data/tiny{task_name}-bt\"\n",
        "model_name_or_path = \"bert-base-cased\"\n",
        "model_cache_dir = os.path.join(pretrained_models_dir, model_name_or_path)\n",
        "data_cache_dir = f\"./data_cache/finetuning/tiny{task_name}-bt/\"\n",
        "output_dir = model_cache_dir\n",
        "\n",
        "mean = None\n",
        "std = None\n",
        "\n",
        "# Fine-tune BERT using 4 random seeds\n",
        "for seed in [1234, 2341, 3412, 4123]:\n",
        "  output_dir = f\"./output/tiny{task_name}-bt-{seed}\"\n",
        "  do_target_task_finetuning(\n",
        "      seed=seed,\n",
        "      model_name_or_path=model_name_or_path,\n",
        "      task_name=f\"{task_name}-2\",\n",
        "      task_type=\"text_classification\",\n",
        "      do_train=True,\n",
        "      do_eval=False, \n",
        "      do_lower_case=True,\n",
        "      data_dir=data_dir,\n",
        "      max_seq_length=128,\n",
        "      per_device_train_batch_size=32,\n",
        "      learning_rate=2e-5,\n",
        "      num_train_epochs=3.0,\n",
        "      model_cache_dir=model_cache_dir,\n",
        "      data_cache_dir=data_cache_dir,\n",
        "      output_dir=output_dir,\n",
        "      overwrite_output_dir=True\n",
        "  )\n",
        "\n",
        "# Evaluate BERT on the dev set\n",
        "results = []\n",
        "for seed in [1234, 2341, 3412, 4123]:\n",
        "  model_dir = f\"./output/tiny{task_name}-bt-{seed}\"\n",
        "  result = do_target_task_finetuning(\n",
        "      seed=seed,\n",
        "      model_name_or_path=model_dir,\n",
        "      task_name=f\"{task_name}-2\",\n",
        "      task_type=\"text_classification\",\n",
        "      do_train=False,\n",
        "      do_eval=True, \n",
        "      do_lower_case=True,\n",
        "      data_dir=data_dir,\n",
        "      max_seq_length=128,\n",
        "      model_cache_dir=model_cache_dir,\n",
        "      data_cache_dir=data_cache_dir,\n",
        "      output_dir=model_dir,\n",
        "  )\n",
        "  results.append(result[\"eval_acc\"])\n",
        "\n",
        "results = np.array(results)\n",
        "mean = np.mean(results)\n",
        "std = np.std(results)\n",
        "\n",
        "print(\"===== Data augmentation using back-translation =====\")\n",
        "print(f\"Performance when fine-tuning BERT: {mean} +/- {std}\")\n",
        "elapsed_time = timeit.default_timer() - start_time\n",
        "print(f\"Time elapsed: {elapsed_time} seconds\")"
      ],
      "execution_count": 69,
      "outputs": [
        {
          "output_type": "stream",
          "text": [
            "10/29/2020 22:43:46 - INFO - __main__ -   Process device: cuda:0, n_gpu: 1\n",
            "10/29/2020 22:43:46 - INFO - __main__ -   Training/evaluation parameters TrainingArguments(output_dir='./output/tinySST-bt-1234', overwrite_output_dir=True, do_train=True, do_eval=False, do_predict=False, evaluate_during_training=False, evaluation_strategy=<EvaluationStrategy.NO: 'no'>, prediction_loss_only=False, per_device_train_batch_size=32, per_device_eval_batch_size=8, per_gpu_train_batch_size=None, per_gpu_eval_batch_size=None, gradient_accumulation_steps=1, eval_accumulation_steps=None, learning_rate=2e-05, weight_decay=0.0, adam_beta1=0.9, adam_beta2=0.999, adam_epsilon=1e-08, max_grad_norm=1.0, num_train_epochs=3.0, max_steps=-1, warmup_steps=0, logging_dir='runs/Oct29_22-43-46_b9ceaa718d3b', logging_first_step=False, logging_steps=500, save_steps=500, save_total_limit=None, no_cuda=False, seed=1234, fp16=False, fp16_opt_level='O1', local_rank=-1, tpu_num_cores=None, tpu_metrics_debug=False, debug=False, dataloader_drop_last=False, eval_steps=500, dataloader_num_workers=0, past_index=-1, run_name='./output/tinySST-bt-1234', disable_tqdm=False, remove_unused_columns=True, label_names=None, load_best_model_at_end=False, metric_for_best_model=None, greater_is_better=None)\n",
            "Some weights of the model checkpoint at bert-base-cased were not used when initializing BertForSequenceClassification: ['cls.predictions.bias', 'cls.predictions.transform.dense.weight', 'cls.predictions.transform.dense.bias', 'cls.predictions.decoder.weight', 'cls.seq_relationship.weight', 'cls.seq_relationship.bias', 'cls.predictions.transform.LayerNorm.weight', 'cls.predictions.transform.LayerNorm.bias']\n",
            "- This IS expected if you are initializing BertForSequenceClassification from the checkpoint of a model trained on another task or with another architecture (e.g. initializing a BertForSequenceClassification model from a BertForPretraining model).\n",
            "- This IS NOT expected if you are initializing BertForSequenceClassification from the checkpoint of a model that you expect to be exactly identical (initializing a BertForSequenceClassification model from a BertForSequenceClassification model).\n",
            "Some weights of BertForSequenceClassification were not initialized from the model checkpoint at bert-base-cased and are newly initialized: ['classifier.weight', 'classifier.bias']\n",
            "You should probably TRAIN this model on a down-stream task to be able to use it for predictions and inference.\n",
            "10/29/2020 22:43:50 - INFO - filelock -   Lock 140222319952784 acquired on ./data_cache/finetuning/tinySST-bt/cached_train_BertTokenizer_128_sst-2.lock\n",
            "10/29/2020 22:43:50 - INFO - filelock -   Lock 140222319952784 released on ./data_cache/finetuning/tinySST-bt/cached_train_BertTokenizer_128_sst-2.lock\n"
          ],
          "name": "stderr"
        },
        {
          "output_type": "display_data",
          "data": {
            "text/html": [
              "\n",
              "    <div>\n",
              "        <style>\n",
              "            /* Turns off some styling */\n",
              "            progress {\n",
              "                /* gets rid of default border in Firefox and Opera. */\n",
              "                border: none;\n",
              "                /* Needs to be in here for Safari polyfill so background images work as expected. */\n",
              "                background-size: auto;\n",
              "            }\n",
              "        </style>\n",
              "      \n",
              "      <progress value='6' max='6' style='width:300px; height:20px; vertical-align: middle;'></progress>\n",
              "      [6/6 00:01, Epoch 3/3]\n",
              "    </div>\n",
              "    <table border=\"1\" class=\"dataframe\">\n",
              "  <thead>\n",
              "    <tr style=\"text-align: left;\">\n",
              "      <th>Step</th>\n",
              "      <th>Training Loss</th>\n",
              "    </tr>\n",
              "  </thead>\n",
              "  <tbody>\n",
              "  </tbody>\n",
              "</table><p>"
            ],
            "text/plain": [
              "<IPython.core.display.HTML object>"
            ]
          },
          "metadata": {
            "tags": []
          }
        },
        {
          "output_type": "stream",
          "text": [
            "10/29/2020 22:43:54 - INFO - __main__ -   Process device: cuda:0, n_gpu: 1\n",
            "10/29/2020 22:43:54 - INFO - __main__ -   Training/evaluation parameters TrainingArguments(output_dir='./output/tinySST-bt-2341', overwrite_output_dir=True, do_train=True, do_eval=False, do_predict=False, evaluate_during_training=False, evaluation_strategy=<EvaluationStrategy.NO: 'no'>, prediction_loss_only=False, per_device_train_batch_size=32, per_device_eval_batch_size=8, per_gpu_train_batch_size=None, per_gpu_eval_batch_size=None, gradient_accumulation_steps=1, eval_accumulation_steps=None, learning_rate=2e-05, weight_decay=0.0, adam_beta1=0.9, adam_beta2=0.999, adam_epsilon=1e-08, max_grad_norm=1.0, num_train_epochs=3.0, max_steps=-1, warmup_steps=0, logging_dir='runs/Oct29_22-43-54_b9ceaa718d3b', logging_first_step=False, logging_steps=500, save_steps=500, save_total_limit=None, no_cuda=False, seed=2341, fp16=False, fp16_opt_level='O1', local_rank=-1, tpu_num_cores=None, tpu_metrics_debug=False, debug=False, dataloader_drop_last=False, eval_steps=500, dataloader_num_workers=0, past_index=-1, run_name='./output/tinySST-bt-2341', disable_tqdm=False, remove_unused_columns=True, label_names=None, load_best_model_at_end=False, metric_for_best_model=None, greater_is_better=None)\n",
            "Some weights of the model checkpoint at bert-base-cased were not used when initializing BertForSequenceClassification: ['cls.predictions.bias', 'cls.predictions.transform.dense.weight', 'cls.predictions.transform.dense.bias', 'cls.predictions.decoder.weight', 'cls.seq_relationship.weight', 'cls.seq_relationship.bias', 'cls.predictions.transform.LayerNorm.weight', 'cls.predictions.transform.LayerNorm.bias']\n",
            "- This IS expected if you are initializing BertForSequenceClassification from the checkpoint of a model trained on another task or with another architecture (e.g. initializing a BertForSequenceClassification model from a BertForPretraining model).\n",
            "- This IS NOT expected if you are initializing BertForSequenceClassification from the checkpoint of a model that you expect to be exactly identical (initializing a BertForSequenceClassification model from a BertForSequenceClassification model).\n",
            "Some weights of BertForSequenceClassification were not initialized from the model checkpoint at bert-base-cased and are newly initialized: ['classifier.weight', 'classifier.bias']\n",
            "You should probably TRAIN this model on a down-stream task to be able to use it for predictions and inference.\n",
            "10/29/2020 22:43:59 - INFO - filelock -   Lock 140222319954128 acquired on ./data_cache/finetuning/tinySST-bt/cached_train_BertTokenizer_128_sst-2.lock\n",
            "10/29/2020 22:43:59 - INFO - filelock -   Lock 140222319954128 released on ./data_cache/finetuning/tinySST-bt/cached_train_BertTokenizer_128_sst-2.lock\n"
          ],
          "name": "stderr"
        },
        {
          "output_type": "display_data",
          "data": {
            "text/html": [
              "\n",
              "    <div>\n",
              "        <style>\n",
              "            /* Turns off some styling */\n",
              "            progress {\n",
              "                /* gets rid of default border in Firefox and Opera. */\n",
              "                border: none;\n",
              "                /* Needs to be in here for Safari polyfill so background images work as expected. */\n",
              "                background-size: auto;\n",
              "            }\n",
              "        </style>\n",
              "      \n",
              "      <progress value='6' max='6' style='width:300px; height:20px; vertical-align: middle;'></progress>\n",
              "      [6/6 00:01, Epoch 3/3]\n",
              "    </div>\n",
              "    <table border=\"1\" class=\"dataframe\">\n",
              "  <thead>\n",
              "    <tr style=\"text-align: left;\">\n",
              "      <th>Step</th>\n",
              "      <th>Training Loss</th>\n",
              "    </tr>\n",
              "  </thead>\n",
              "  <tbody>\n",
              "  </tbody>\n",
              "</table><p>"
            ],
            "text/plain": [
              "<IPython.core.display.HTML object>"
            ]
          },
          "metadata": {
            "tags": []
          }
        },
        {
          "output_type": "stream",
          "text": [
            "10/29/2020 22:44:03 - INFO - __main__ -   Process device: cuda:0, n_gpu: 1\n",
            "10/29/2020 22:44:03 - INFO - __main__ -   Training/evaluation parameters TrainingArguments(output_dir='./output/tinySST-bt-3412', overwrite_output_dir=True, do_train=True, do_eval=False, do_predict=False, evaluate_during_training=False, evaluation_strategy=<EvaluationStrategy.NO: 'no'>, prediction_loss_only=False, per_device_train_batch_size=32, per_device_eval_batch_size=8, per_gpu_train_batch_size=None, per_gpu_eval_batch_size=None, gradient_accumulation_steps=1, eval_accumulation_steps=None, learning_rate=2e-05, weight_decay=0.0, adam_beta1=0.9, adam_beta2=0.999, adam_epsilon=1e-08, max_grad_norm=1.0, num_train_epochs=3.0, max_steps=-1, warmup_steps=0, logging_dir='runs/Oct29_22-44-03_b9ceaa718d3b', logging_first_step=False, logging_steps=500, save_steps=500, save_total_limit=None, no_cuda=False, seed=3412, fp16=False, fp16_opt_level='O1', local_rank=-1, tpu_num_cores=None, tpu_metrics_debug=False, debug=False, dataloader_drop_last=False, eval_steps=500, dataloader_num_workers=0, past_index=-1, run_name='./output/tinySST-bt-3412', disable_tqdm=False, remove_unused_columns=True, label_names=None, load_best_model_at_end=False, metric_for_best_model=None, greater_is_better=None)\n",
            "Some weights of the model checkpoint at bert-base-cased were not used when initializing BertForSequenceClassification: ['cls.predictions.bias', 'cls.predictions.transform.dense.weight', 'cls.predictions.transform.dense.bias', 'cls.predictions.decoder.weight', 'cls.seq_relationship.weight', 'cls.seq_relationship.bias', 'cls.predictions.transform.LayerNorm.weight', 'cls.predictions.transform.LayerNorm.bias']\n",
            "- This IS expected if you are initializing BertForSequenceClassification from the checkpoint of a model trained on another task or with another architecture (e.g. initializing a BertForSequenceClassification model from a BertForPretraining model).\n",
            "- This IS NOT expected if you are initializing BertForSequenceClassification from the checkpoint of a model that you expect to be exactly identical (initializing a BertForSequenceClassification model from a BertForSequenceClassification model).\n",
            "Some weights of BertForSequenceClassification were not initialized from the model checkpoint at bert-base-cased and are newly initialized: ['classifier.weight', 'classifier.bias']\n",
            "You should probably TRAIN this model on a down-stream task to be able to use it for predictions and inference.\n",
            "10/29/2020 22:44:07 - INFO - filelock -   Lock 140222319952896 acquired on ./data_cache/finetuning/tinySST-bt/cached_train_BertTokenizer_128_sst-2.lock\n",
            "10/29/2020 22:44:07 - INFO - filelock -   Lock 140222319952896 released on ./data_cache/finetuning/tinySST-bt/cached_train_BertTokenizer_128_sst-2.lock\n"
          ],
          "name": "stderr"
        },
        {
          "output_type": "display_data",
          "data": {
            "text/html": [
              "\n",
              "    <div>\n",
              "        <style>\n",
              "            /* Turns off some styling */\n",
              "            progress {\n",
              "                /* gets rid of default border in Firefox and Opera. */\n",
              "                border: none;\n",
              "                /* Needs to be in here for Safari polyfill so background images work as expected. */\n",
              "                background-size: auto;\n",
              "            }\n",
              "        </style>\n",
              "      \n",
              "      <progress value='6' max='6' style='width:300px; height:20px; vertical-align: middle;'></progress>\n",
              "      [6/6 00:01, Epoch 3/3]\n",
              "    </div>\n",
              "    <table border=\"1\" class=\"dataframe\">\n",
              "  <thead>\n",
              "    <tr style=\"text-align: left;\">\n",
              "      <th>Step</th>\n",
              "      <th>Training Loss</th>\n",
              "    </tr>\n",
              "  </thead>\n",
              "  <tbody>\n",
              "  </tbody>\n",
              "</table><p>"
            ],
            "text/plain": [
              "<IPython.core.display.HTML object>"
            ]
          },
          "metadata": {
            "tags": []
          }
        },
        {
          "output_type": "stream",
          "text": [
            "10/29/2020 22:44:12 - INFO - __main__ -   Process device: cuda:0, n_gpu: 1\n",
            "10/29/2020 22:44:12 - INFO - __main__ -   Training/evaluation parameters TrainingArguments(output_dir='./output/tinySST-bt-4123', overwrite_output_dir=True, do_train=True, do_eval=False, do_predict=False, evaluate_during_training=False, evaluation_strategy=<EvaluationStrategy.NO: 'no'>, prediction_loss_only=False, per_device_train_batch_size=32, per_device_eval_batch_size=8, per_gpu_train_batch_size=None, per_gpu_eval_batch_size=None, gradient_accumulation_steps=1, eval_accumulation_steps=None, learning_rate=2e-05, weight_decay=0.0, adam_beta1=0.9, adam_beta2=0.999, adam_epsilon=1e-08, max_grad_norm=1.0, num_train_epochs=3.0, max_steps=-1, warmup_steps=0, logging_dir='runs/Oct29_22-44-12_b9ceaa718d3b', logging_first_step=False, logging_steps=500, save_steps=500, save_total_limit=None, no_cuda=False, seed=4123, fp16=False, fp16_opt_level='O1', local_rank=-1, tpu_num_cores=None, tpu_metrics_debug=False, debug=False, dataloader_drop_last=False, eval_steps=500, dataloader_num_workers=0, past_index=-1, run_name='./output/tinySST-bt-4123', disable_tqdm=False, remove_unused_columns=True, label_names=None, load_best_model_at_end=False, metric_for_best_model=None, greater_is_better=None)\n",
            "Some weights of the model checkpoint at bert-base-cased were not used when initializing BertForSequenceClassification: ['cls.predictions.bias', 'cls.predictions.transform.dense.weight', 'cls.predictions.transform.dense.bias', 'cls.predictions.decoder.weight', 'cls.seq_relationship.weight', 'cls.seq_relationship.bias', 'cls.predictions.transform.LayerNorm.weight', 'cls.predictions.transform.LayerNorm.bias']\n",
            "- This IS expected if you are initializing BertForSequenceClassification from the checkpoint of a model trained on another task or with another architecture (e.g. initializing a BertForSequenceClassification model from a BertForPretraining model).\n",
            "- This IS NOT expected if you are initializing BertForSequenceClassification from the checkpoint of a model that you expect to be exactly identical (initializing a BertForSequenceClassification model from a BertForSequenceClassification model).\n",
            "Some weights of BertForSequenceClassification were not initialized from the model checkpoint at bert-base-cased and are newly initialized: ['classifier.weight', 'classifier.bias']\n",
            "You should probably TRAIN this model on a down-stream task to be able to use it for predictions and inference.\n",
            "10/29/2020 22:44:16 - INFO - filelock -   Lock 140214756784448 acquired on ./data_cache/finetuning/tinySST-bt/cached_train_BertTokenizer_128_sst-2.lock\n",
            "10/29/2020 22:44:16 - INFO - filelock -   Lock 140214756784448 released on ./data_cache/finetuning/tinySST-bt/cached_train_BertTokenizer_128_sst-2.lock\n"
          ],
          "name": "stderr"
        },
        {
          "output_type": "display_data",
          "data": {
            "text/html": [
              "\n",
              "    <div>\n",
              "        <style>\n",
              "            /* Turns off some styling */\n",
              "            progress {\n",
              "                /* gets rid of default border in Firefox and Opera. */\n",
              "                border: none;\n",
              "                /* Needs to be in here for Safari polyfill so background images work as expected. */\n",
              "                background-size: auto;\n",
              "            }\n",
              "        </style>\n",
              "      \n",
              "      <progress value='6' max='6' style='width:300px; height:20px; vertical-align: middle;'></progress>\n",
              "      [6/6 00:01, Epoch 3/3]\n",
              "    </div>\n",
              "    <table border=\"1\" class=\"dataframe\">\n",
              "  <thead>\n",
              "    <tr style=\"text-align: left;\">\n",
              "      <th>Step</th>\n",
              "      <th>Training Loss</th>\n",
              "    </tr>\n",
              "  </thead>\n",
              "  <tbody>\n",
              "  </tbody>\n",
              "</table><p>"
            ],
            "text/plain": [
              "<IPython.core.display.HTML object>"
            ]
          },
          "metadata": {
            "tags": []
          }
        },
        {
          "output_type": "stream",
          "text": [
            "10/29/2020 22:44:20 - INFO - __main__ -   Process device: cuda:0, n_gpu: 1\n",
            "10/29/2020 22:44:20 - INFO - __main__ -   Training/evaluation parameters TrainingArguments(output_dir='./output/tinySST-bt-1234', overwrite_output_dir=False, do_train=False, do_eval=True, do_predict=False, evaluate_during_training=False, evaluation_strategy=<EvaluationStrategy.NO: 'no'>, prediction_loss_only=False, per_device_train_batch_size=8, per_device_eval_batch_size=8, per_gpu_train_batch_size=None, per_gpu_eval_batch_size=None, gradient_accumulation_steps=1, eval_accumulation_steps=None, learning_rate=5e-05, weight_decay=0.0, adam_beta1=0.9, adam_beta2=0.999, adam_epsilon=1e-08, max_grad_norm=1.0, num_train_epochs=3.0, max_steps=-1, warmup_steps=0, logging_dir='runs/Oct29_22-44-20_b9ceaa718d3b', logging_first_step=False, logging_steps=500, save_steps=500, save_total_limit=None, no_cuda=False, seed=1234, fp16=False, fp16_opt_level='O1', local_rank=-1, tpu_num_cores=None, tpu_metrics_debug=False, debug=False, dataloader_drop_last=False, eval_steps=500, dataloader_num_workers=0, past_index=-1, run_name='./output/tinySST-bt-1234', disable_tqdm=False, remove_unused_columns=True, label_names=None, load_best_model_at_end=False, metric_for_best_model=None, greater_is_better=None)\n",
            "10/29/2020 22:44:24 - INFO - filelock -   Lock 140214760968264 acquired on ./data_cache/finetuning/tinySST-bt/cached_dev_BertTokenizer_128_sst-2.lock\n",
            "10/29/2020 22:44:24 - INFO - filelock -   Lock 140214760968264 released on ./data_cache/finetuning/tinySST-bt/cached_dev_BertTokenizer_128_sst-2.lock\n",
            "10/29/2020 22:44:24 - INFO - __main__ -   *** Evaluate ***\n"
          ],
          "name": "stderr"
        },
        {
          "output_type": "display_data",
          "data": {
            "text/html": [
              "\n",
              "    <div>\n",
              "        <style>\n",
              "            /* Turns off some styling */\n",
              "            progress {\n",
              "                /* gets rid of default border in Firefox and Opera. */\n",
              "                border: none;\n",
              "                /* Needs to be in here for Safari polyfill so background images work as expected. */\n",
              "                background-size: auto;\n",
              "            }\n",
              "        </style>\n",
              "      \n",
              "      <progress value='109' max='109' style='width:300px; height:20px; vertical-align: middle;'></progress>\n",
              "      [109/109 00:06]\n",
              "    </div>\n",
              "    "
            ],
            "text/plain": [
              "<IPython.core.display.HTML object>"
            ]
          },
          "metadata": {
            "tags": []
          }
        },
        {
          "output_type": "stream",
          "text": [
            "10/29/2020 22:44:31 - INFO - __main__ -   ***** Eval results *****\n",
            "10/29/2020 22:44:31 - INFO - __main__ -     eval_loss = 0.7156664729118347\n",
            "10/29/2020 22:44:31 - INFO - __main__ -     eval_acc = 0.4908256880733945\n",
            "10/29/2020 22:44:31 - INFO - __main__ -   Process device: cuda:0, n_gpu: 1\n",
            "10/29/2020 22:44:31 - INFO - __main__ -   Training/evaluation parameters TrainingArguments(output_dir='./output/tinySST-bt-2341', overwrite_output_dir=False, do_train=False, do_eval=True, do_predict=False, evaluate_during_training=False, evaluation_strategy=<EvaluationStrategy.NO: 'no'>, prediction_loss_only=False, per_device_train_batch_size=8, per_device_eval_batch_size=8, per_gpu_train_batch_size=None, per_gpu_eval_batch_size=None, gradient_accumulation_steps=1, eval_accumulation_steps=None, learning_rate=5e-05, weight_decay=0.0, adam_beta1=0.9, adam_beta2=0.999, adam_epsilon=1e-08, max_grad_norm=1.0, num_train_epochs=3.0, max_steps=-1, warmup_steps=0, logging_dir='runs/Oct29_22-44-31_b9ceaa718d3b', logging_first_step=False, logging_steps=500, save_steps=500, save_total_limit=None, no_cuda=False, seed=2341, fp16=False, fp16_opt_level='O1', local_rank=-1, tpu_num_cores=None, tpu_metrics_debug=False, debug=False, dataloader_drop_last=False, eval_steps=500, dataloader_num_workers=0, past_index=-1, run_name='./output/tinySST-bt-2341', disable_tqdm=False, remove_unused_columns=True, label_names=None, load_best_model_at_end=False, metric_for_best_model=None, greater_is_better=None)\n",
            "10/29/2020 22:44:34 - INFO - filelock -   Lock 140222309346664 acquired on ./data_cache/finetuning/tinySST-bt/cached_dev_BertTokenizer_128_sst-2.lock\n",
            "10/29/2020 22:44:34 - INFO - filelock -   Lock 140222309346664 released on ./data_cache/finetuning/tinySST-bt/cached_dev_BertTokenizer_128_sst-2.lock\n",
            "10/29/2020 22:44:34 - INFO - __main__ -   *** Evaluate ***\n"
          ],
          "name": "stderr"
        },
        {
          "output_type": "display_data",
          "data": {
            "text/html": [
              "\n",
              "    <div>\n",
              "        <style>\n",
              "            /* Turns off some styling */\n",
              "            progress {\n",
              "                /* gets rid of default border in Firefox and Opera. */\n",
              "                border: none;\n",
              "                /* Needs to be in here for Safari polyfill so background images work as expected. */\n",
              "                background-size: auto;\n",
              "            }\n",
              "        </style>\n",
              "      \n",
              "      <progress value='109' max='109' style='width:300px; height:20px; vertical-align: middle;'></progress>\n",
              "      [109/109 00:07]\n",
              "    </div>\n",
              "    "
            ],
            "text/plain": [
              "<IPython.core.display.HTML object>"
            ]
          },
          "metadata": {
            "tags": []
          }
        },
        {
          "output_type": "stream",
          "text": [
            "10/29/2020 22:44:42 - INFO - __main__ -   ***** Eval results *****\n",
            "10/29/2020 22:44:42 - INFO - __main__ -     eval_loss = 0.6662265658378601\n",
            "10/29/2020 22:44:42 - INFO - __main__ -     eval_acc = 0.6158256880733946\n",
            "10/29/2020 22:44:42 - INFO - __main__ -   Process device: cuda:0, n_gpu: 1\n",
            "10/29/2020 22:44:42 - INFO - __main__ -   Training/evaluation parameters TrainingArguments(output_dir='./output/tinySST-bt-3412', overwrite_output_dir=False, do_train=False, do_eval=True, do_predict=False, evaluate_during_training=False, evaluation_strategy=<EvaluationStrategy.NO: 'no'>, prediction_loss_only=False, per_device_train_batch_size=8, per_device_eval_batch_size=8, per_gpu_train_batch_size=None, per_gpu_eval_batch_size=None, gradient_accumulation_steps=1, eval_accumulation_steps=None, learning_rate=5e-05, weight_decay=0.0, adam_beta1=0.9, adam_beta2=0.999, adam_epsilon=1e-08, max_grad_norm=1.0, num_train_epochs=3.0, max_steps=-1, warmup_steps=0, logging_dir='runs/Oct29_22-44-42_b9ceaa718d3b', logging_first_step=False, logging_steps=500, save_steps=500, save_total_limit=None, no_cuda=False, seed=3412, fp16=False, fp16_opt_level='O1', local_rank=-1, tpu_num_cores=None, tpu_metrics_debug=False, debug=False, dataloader_drop_last=False, eval_steps=500, dataloader_num_workers=0, past_index=-1, run_name='./output/tinySST-bt-3412', disable_tqdm=False, remove_unused_columns=True, label_names=None, load_best_model_at_end=False, metric_for_best_model=None, greater_is_better=None)\n",
            "10/29/2020 22:44:45 - INFO - filelock -   Lock 140223757793600 acquired on ./data_cache/finetuning/tinySST-bt/cached_dev_BertTokenizer_128_sst-2.lock\n",
            "10/29/2020 22:44:45 - INFO - filelock -   Lock 140223757793600 released on ./data_cache/finetuning/tinySST-bt/cached_dev_BertTokenizer_128_sst-2.lock\n",
            "10/29/2020 22:44:45 - INFO - __main__ -   *** Evaluate ***\n"
          ],
          "name": "stderr"
        },
        {
          "output_type": "display_data",
          "data": {
            "text/html": [
              "\n",
              "    <div>\n",
              "        <style>\n",
              "            /* Turns off some styling */\n",
              "            progress {\n",
              "                /* gets rid of default border in Firefox and Opera. */\n",
              "                border: none;\n",
              "                /* Needs to be in here for Safari polyfill so background images work as expected. */\n",
              "                background-size: auto;\n",
              "            }\n",
              "        </style>\n",
              "      \n",
              "      <progress value='109' max='109' style='width:300px; height:20px; vertical-align: middle;'></progress>\n",
              "      [109/109 00:07]\n",
              "    </div>\n",
              "    "
            ],
            "text/plain": [
              "<IPython.core.display.HTML object>"
            ]
          },
          "metadata": {
            "tags": []
          }
        },
        {
          "output_type": "stream",
          "text": [
            "10/29/2020 22:44:53 - INFO - __main__ -   ***** Eval results *****\n",
            "10/29/2020 22:44:53 - INFO - __main__ -     eval_loss = 0.7187303304672241\n",
            "10/29/2020 22:44:53 - INFO - __main__ -     eval_acc = 0.5091743119266054\n",
            "10/29/2020 22:44:53 - INFO - __main__ -   Process device: cuda:0, n_gpu: 1\n",
            "10/29/2020 22:44:53 - INFO - __main__ -   Training/evaluation parameters TrainingArguments(output_dir='./output/tinySST-bt-4123', overwrite_output_dir=False, do_train=False, do_eval=True, do_predict=False, evaluate_during_training=False, evaluation_strategy=<EvaluationStrategy.NO: 'no'>, prediction_loss_only=False, per_device_train_batch_size=8, per_device_eval_batch_size=8, per_gpu_train_batch_size=None, per_gpu_eval_batch_size=None, gradient_accumulation_steps=1, eval_accumulation_steps=None, learning_rate=5e-05, weight_decay=0.0, adam_beta1=0.9, adam_beta2=0.999, adam_epsilon=1e-08, max_grad_norm=1.0, num_train_epochs=3.0, max_steps=-1, warmup_steps=0, logging_dir='runs/Oct29_22-44-53_b9ceaa718d3b', logging_first_step=False, logging_steps=500, save_steps=500, save_total_limit=None, no_cuda=False, seed=4123, fp16=False, fp16_opt_level='O1', local_rank=-1, tpu_num_cores=None, tpu_metrics_debug=False, debug=False, dataloader_drop_last=False, eval_steps=500, dataloader_num_workers=0, past_index=-1, run_name='./output/tinySST-bt-4123', disable_tqdm=False, remove_unused_columns=True, label_names=None, load_best_model_at_end=False, metric_for_best_model=None, greater_is_better=None)\n",
            "10/29/2020 22:44:56 - INFO - filelock -   Lock 140214760968320 acquired on ./data_cache/finetuning/tinySST-bt/cached_dev_BertTokenizer_128_sst-2.lock\n",
            "10/29/2020 22:44:56 - INFO - filelock -   Lock 140214760968320 released on ./data_cache/finetuning/tinySST-bt/cached_dev_BertTokenizer_128_sst-2.lock\n",
            "10/29/2020 22:44:56 - INFO - __main__ -   *** Evaluate ***\n"
          ],
          "name": "stderr"
        },
        {
          "output_type": "display_data",
          "data": {
            "text/html": [
              "\n",
              "    <div>\n",
              "        <style>\n",
              "            /* Turns off some styling */\n",
              "            progress {\n",
              "                /* gets rid of default border in Firefox and Opera. */\n",
              "                border: none;\n",
              "                /* Needs to be in here for Safari polyfill so background images work as expected. */\n",
              "                background-size: auto;\n",
              "            }\n",
              "        </style>\n",
              "      \n",
              "      <progress value='109' max='109' style='width:300px; height:20px; vertical-align: middle;'></progress>\n",
              "      [109/109 00:07]\n",
              "    </div>\n",
              "    "
            ],
            "text/plain": [
              "<IPython.core.display.HTML object>"
            ]
          },
          "metadata": {
            "tags": []
          }
        },
        {
          "output_type": "stream",
          "text": [
            "10/29/2020 22:45:04 - INFO - __main__ -   ***** Eval results *****\n",
            "10/29/2020 22:45:04 - INFO - __main__ -     eval_loss = 0.7019548416137695\n",
            "10/29/2020 22:45:04 - INFO - __main__ -     eval_acc = 0.46674311926605505\n"
          ],
          "name": "stderr"
        },
        {
          "output_type": "stream",
          "text": [
            "===== Data augmentation using back-translation =====\n",
            "Performance when fine-tuning BERT: 0.5206422018348624 +/- 0.056977065882062715\n",
            "Time elapsed: 78.05350400800035 seconds\n"
          ],
          "name": "stdout"
        }
      ]
    },
    {
      "cell_type": "markdown",
      "metadata": {
        "id": "t10LtOVEn4u0"
      },
      "source": [
        " ### Question 3.6 (5 points)\n",
        "Briefly explain your backtranslation strategy here. Why do you think it resulted in an improvement?\n",
        "\n"
      ]
    },
    {
      "cell_type": "markdown",
      "metadata": {
        "id": "0HbdYOUZ-xUn"
      },
      "source": [
        "**Write your answer here!** Please keep it brief (i.e., 2-3 sentences)."
      ]
    },
    {
      "cell_type": "markdown",
      "metadata": {
        "id": "faBIVYvTN-Ba"
      },
      "source": [
        "My strategy was to translate the examples into french and then back to english. I did the same for translating from english to russian and back to english. The same was done for Chinese.\n",
        "\n",
        "I translated to multiple language in hopes of generating more training examples and greater variety in translation. I chose French, Russian, and Chinese because they are very different languages from each other. "
      ]
    }
  ]
}